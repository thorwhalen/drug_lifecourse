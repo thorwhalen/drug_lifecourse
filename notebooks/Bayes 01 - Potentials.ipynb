{
 "cells": [
  {
   "cell_type": "markdown",
   "metadata": {},
   "source": [
    "# Potentials - A key data structure to Discrete Bayesian Inference"
   ]
  },
  {
   "cell_type": "code",
   "execution_count": 1,
   "metadata": {
    "collapsed": false
   },
   "outputs": [],
   "source": [
    "# %load_ext autoreload\n",
    "# %autoreload 2"
   ]
  },
  {
   "cell_type": "code",
   "execution_count": 2,
   "metadata": {
    "collapsed": false
   },
   "outputs": [],
   "source": [
    "from ut.ppi.pot import Pot, _val_div_, _val_prod_\n",
    "import pandas as pd"
   ]
  },
  {
   "cell_type": "markdown",
   "metadata": {},
   "source": [
    "A potential is basically a map between a finite discrete multi-dimensional space and numbers.\n",
    "\n",
    "These numbers usually represent counts, probabilities, or likelihoods. \n",
    "\n",
    "But what's more important than the data structure contents itself are the operations you perform on them, which define their actual semantics. \n",
    "\n",
    "A potential often represents some knowledge about all possible combinations of a set of (finite discrete) variables. For example, a potential on two binary variables A and B will give you a number for each of the four combinations of values that A and B can take together. For example:"
   ]
  },
  {
   "cell_type": "code",
   "execution_count": 3,
   "metadata": {
    "collapsed": false
   },
   "outputs": [
    {
     "name": "stdout",
     "output_type": "stream",
     "text": [
      "  A  B  pval\n",
      "  0  0     2\n",
      "  0  1     4\n",
      "  1  0     5\n",
      "  1  1     9\n"
     ]
    }
   ],
   "source": [
    "ab_counts = Pot(pd.DataFrame({'A': [0,0,1,1], 'B': [0,1,0,1], 'pval': [2,4,5,9]}))\n",
    "print(ab_counts)"
   ]
  },
  {
   "cell_type": "markdown",
   "metadata": {},
   "source": [
    "could be a \"count\" potential that lists the number of times you've observed $A=0$ and $B=0$ together (2 times in this case), how $A=0$ and $B=1$ together (3 times), etc. "
   ]
  },
  {
   "cell_type": "markdown",
   "metadata": {},
   "source": [
    "### Projecting"
   ]
  },
  {
   "cell_type": "markdown",
   "metadata": {},
   "source": [
    "Perhaps you want to know only about A counts. In that case you would do this:"
   ]
  },
  {
   "cell_type": "code",
   "execution_count": 4,
   "metadata": {
    "collapsed": false
   },
   "outputs": [
    {
     "name": "stdout",
     "output_type": "stream",
     "text": [
      "  A  pval\n",
      "  0     6\n",
      "  1    14\n"
     ]
    }
   ],
   "source": [
    "print(ab_counts['A'])"
   ]
  },
  {
   "cell_type": "markdown",
   "metadata": {},
   "source": [
    "ab_counts['A'] is syntactic surgar for \n",
    "\n",
    "    ab_counts.project_to(var_list=['A']), \n",
    "\n",
    "which could also be written\n",
    "\n",
    "    ab_counts >> ['A']"
   ]
  },
  {
   "cell_type": "code",
   "execution_count": 5,
   "metadata": {
    "collapsed": false
   },
   "outputs": [
    {
     "data": {
      "text/plain": [
       "   pval\n",
       "A      \n",
       "0     6\n",
       "1    14"
      ]
     },
     "execution_count": 5,
     "metadata": {},
     "output_type": "execute_result"
    }
   ],
   "source": [
    "ab_counts.project_to(var_list=['A'])"
   ]
  },
  {
   "cell_type": "code",
   "execution_count": 6,
   "metadata": {
    "collapsed": false
   },
   "outputs": [
    {
     "data": {
      "text/plain": [
       "   pval\n",
       "A      \n",
       "0     6\n",
       "1    14"
      ]
     },
     "execution_count": 6,
     "metadata": {},
     "output_type": "execute_result"
    }
   ],
   "source": [
    "ab_counts >> ['A']"
   ]
  },
  {
   "cell_type": "markdown",
   "metadata": {},
   "source": [
    "Projecting to a variable or set of variables is equivalent to (what most people call) \"marginalizing out\" the other variables. You basically remove them from the table, and then group the remaining variables (according to their value combinations), summing up the pvals.\n",
    "\n",
    "In fact, if you have some data, in the form of a (pandas) DataFrame, that has only discrete values (or you forced them to be so), you can simply add a 'pval' column set to 1, make it a potential, and project it to the variable list. The result will be a \"count\" potential for your data. For example:"
   ]
  },
  {
   "cell_type": "code",
   "execution_count": 7,
   "metadata": {
    "collapsed": false
   },
   "outputs": [
    {
     "name": "stdout",
     "output_type": "stream",
     "text": [
      "   A  B\n",
      "0  0  0\n",
      "1  0  1\n",
      "2  1  0\n",
      "3  1  1\n",
      "4  0  1\n",
      "5  0  0\n",
      "6  1  1\n",
      "7  0  1\n"
     ]
    }
   ],
   "source": [
    "data = pd.DataFrame({'A': [0,0,1,1,0,0,1,0], 'B': [0,1,0,1,1,0,1,1]})\n",
    "print(data)"
   ]
  },
  {
   "cell_type": "code",
   "execution_count": 8,
   "metadata": {
    "collapsed": false
   },
   "outputs": [
    {
     "name": "stdout",
     "output_type": "stream",
     "text": [
      "  A  B  pval\n",
      "  0  0     2\n",
      "  0  1     3\n",
      "  1  0     1\n",
      "  1  1     2\n"
     ]
    }
   ],
   "source": [
    "data['pval'] = 1\n",
    "print(Pot(data)[['A','B']])"
   ]
  },
  {
   "cell_type": "markdown",
   "metadata": {},
   "source": [
    "Let's say that you want to get the probabilities (observed ratios, really) from this count potential. You could just do this:"
   ]
  },
  {
   "cell_type": "code",
   "execution_count": 9,
   "metadata": {
    "collapsed": false
   },
   "outputs": [
    {
     "name": "stdout",
     "output_type": "stream",
     "text": [
      "  A  B  pval\n",
      "  0  0  0.10\n",
      "  0  1  0.20\n",
      "  1  0  0.25\n",
      "  1  1  0.45\n"
     ]
    }
   ],
   "source": [
    "ab_probs = ab_counts / []\n",
    "print(ab_probs)"
   ]
  },
  {
   "cell_type": "markdown",
   "metadata": {},
   "source": [
    "Ah, a lot to say here! First, the expression \n",
    "\n",
    "    ab_count / [] \n",
    "\n",
    "is syntactic sugar for \"divide ab_count by it's projection onto [], or \n",
    "\n",
    "    ab_count / ab_count[None] \n",
    "\n",
    "(python syntax doesn't allow us to say \"ab_count[]\", so we need that None). "
   ]
  },
  {
   "cell_type": "markdown",
   "metadata": {},
   "source": [
    "We know what projection to a subset of variables is, but what about projecting on nothing? Well, if projecting onto a subset is summing up all other variables/dimensions, then it makes sense that projecting onto the empty subset is simply summing up all existing variables, leaving only a number, with no variables attached to it! \n",
    "\n",
    "Projecting to NO VARIABLES means marginalizing out ALL VARIABLES. So you just sum up all the pvals:"
   ]
  },
  {
   "cell_type": "code",
   "execution_count": 19,
   "metadata": {
    "collapsed": false
   },
   "outputs": [
    {
     "data": {
      "text/plain": [
       "  pval\n",
       "    20"
      ]
     },
     "execution_count": 19,
     "metadata": {},
     "output_type": "execute_result"
    }
   ],
   "source": [
    "ab_counts[None]"
   ]
  },
  {
   "cell_type": "markdown",
   "metadata": {},
   "source": [
    "So doing $\\textit{ab_counts / []}$ simply divides each of the pvals (which are counts) by the total, thus giving you a ratio, which you can consider to be a probability if the context (or your personal frequentist beliefs about probability allows). So $\\textit{ab_counts/[]}$ is basically"
   ]
  },
  {
   "cell_type": "code",
   "execution_count": 20,
   "metadata": {
    "collapsed": false
   },
   "outputs": [
    {
     "name": "stdout",
     "output_type": "stream",
     "text": [
      "  A  B  pval\n",
      "  0  0  0.10\n",
      "  0  1  0.20\n",
      "  1  0  0.25\n",
      "  1  1  0.45\n"
     ]
    }
   ],
   "source": [
    "print(ab_counts / ab_counts[None])"
   ]
  },
  {
   "cell_type": "markdown",
   "metadata": {},
   "source": [
    "### Slicing"
   ]
  },
  {
   "cell_type": "markdown",
   "metadata": {},
   "source": [
    "So you have a potential representing $Prob(AB)$, the joint probability of every combination of variable values of $A$ and $B$. What if you wanted to get an actual probability out of it? Say, you wanted to know what $Prob(A=0, B=1)$. You can do that!"
   ]
  },
  {
   "cell_type": "code",
   "execution_count": 21,
   "metadata": {
    "collapsed": false
   },
   "outputs": [
    {
     "data": {
      "text/plain": [
       "  pval\n",
       "   0.2"
      ]
     },
     "execution_count": 21,
     "metadata": {},
     "output_type": "execute_result"
    }
   ],
   "source": [
    "ab_probs[{'A': 0, 'B': 1}]"
   ]
  },
  {
   "cell_type": "markdown",
   "metadata": {},
   "source": [
    "(Note: you get a singleton (that is, without variables) Pot as an answer. If you wanted the probability as a float, you could say $\\textit{ab_probs[{'A': 0, 'B': 1}].tb.pval[0])}$"
   ]
  },
  {
   "cell_type": "markdown",
   "metadata": {},
   "source": [
    "Ah, projection again! Yes, but with a bit of abuse. Here we're projecting not to a whole variable space (that is, including all its possible values), but to a single point in the cartesian product space of these random variables (oops, did I say it? the big old RV word?). You could also project to a hyper-plane:"
   ]
  },
  {
   "cell_type": "code",
   "execution_count": 22,
   "metadata": {
    "collapsed": false
   },
   "outputs": [
    {
     "data": {
      "text/plain": [
       "   pval\n",
       "B      \n",
       "0   0.1\n",
       "1   0.2"
      ]
     },
     "execution_count": 22,
     "metadata": {},
     "output_type": "execute_result"
    }
   ],
   "source": [
    "ab_probs[{'A': 0}]"
   ]
  },
  {
   "cell_type": "markdown",
   "metadata": {},
   "source": [
    "You might have expected ab_probs[{'A': 0}] to be the probability $Prob(A=0)$, but it's not.\n",
    "What it is, is a table listing the probabilities that $A=0$ and $B=b$ for each possible values $b$ of $B$. \n",
    "What you're doing when you do $X[{'A': 0}]$ is asking for the hyper-plane of $X$ that goes through $A=0$. \n",
    "If you want $X[{'A': 0}]$ to give you $Prob(A=0)$, you have to ask the right probability space $X$, namely the one projection (again!?!) of the $AB$ space onto $A$ (because you don't care about the $B$ component here:\n"
   ]
  },
  {
   "cell_type": "code",
   "execution_count": 23,
   "metadata": {
    "collapsed": false
   },
   "outputs": [
    {
     "data": {
      "text/plain": [
       "  pval\n",
       "   0.3"
      ]
     },
     "execution_count": 23,
     "metadata": {},
     "output_type": "execute_result"
    }
   ],
   "source": [
    "ab_probs['A'][{'A': 0}]"
   ]
  },
  {
   "cell_type": "markdown",
   "metadata": {},
   "source": [
    "Though you could have also asked the $A=0$ hyper-plane to marginalize out all the variables remaining (in our instance, just $B$), which means summing up all the probabilities in ab_probs[{'A': 0}], and get the same result:\n"
   ]
  },
  {
   "cell_type": "code",
   "execution_count": 24,
   "metadata": {
    "collapsed": false
   },
   "outputs": [
    {
     "data": {
      "text/plain": [
       "  pval\n",
       "   0.3"
      ]
     },
     "execution_count": 24,
     "metadata": {},
     "output_type": "execute_result"
    }
   ],
   "source": [
    "ab_probs[{'A': 0}][None]"
   ]
  },
  {
   "cell_type": "markdown",
   "metadata": {},
   "source": [
    "ab_probs[{'A': 0}] wasn't very meaningful alone, be it becomes more meaningful if we divide it by the probability $Prob(A=0)$, since it will then give us $Prob(B\\ |\\ A=0)$ (that is to say, a table that lists $Prob(B=0\\ |\\ A=0)$ and $Prob(B=1\\ |\\ A=0)$). Indeed, as you may remember from Kindergarten, $Prob(B\\ |\\ A) = \\frac{Prob(AB)}{Prob(A)}$:"
   ]
  },
  {
   "cell_type": "code",
   "execution_count": 25,
   "metadata": {
    "collapsed": false
   },
   "outputs": [
    {
     "data": {
      "text/plain": [
       "       pval\n",
       "B          \n",
       "0  0.333333\n",
       "1  0.666667"
      ]
     },
     "execution_count": 25,
     "metadata": {},
     "output_type": "execute_result"
    }
   ],
   "source": [
    "ab_probs[{'A': 0}] / ab_probs[{'A': 0}][None]"
   ]
  },
  {
   "cell_type": "markdown",
   "metadata": {},
   "source": [
    "which you could have also writen as"
   ]
  },
  {
   "cell_type": "code",
   "execution_count": 26,
   "metadata": {
    "collapsed": false
   },
   "outputs": [
    {
     "data": {
      "text/plain": [
       "       pval\n",
       "B          \n",
       "0  0.333333\n",
       "1  0.666667"
      ]
     },
     "execution_count": 26,
     "metadata": {},
     "output_type": "execute_result"
    }
   ],
   "source": [
    "ab_probs[{'A': 0}] / []"
   ]
  },
  {
   "cell_type": "markdown",
   "metadata": {},
   "source": [
    "### Dividing, Multiplying, or adding two potentials"
   ]
  },
  {
   "cell_type": "markdown",
   "metadata": {},
   "source": [
    "We've divided a potential by a number before. That was easy. But actually we were really dividing by a singleton potential. \n",
    "\n",
    "What would the division, or multiplication, or addition of two potentials look like in general? \n",
    "\n",
    "Well, dividing, multiplying, or adding two potentials is done in two steps:\n",
    "   (1) join the two tables on their common variables (or take the cartesian product if no common variables)\n",
    "   (2) apply the operation on the aligned pvals"
   ]
  },
  {
   "cell_type": "markdown",
   "metadata": {},
   "source": [
    "For example, take two potentials, one on XY, and one on YZ:"
   ]
  },
  {
   "cell_type": "code",
   "execution_count": 11,
   "metadata": {
    "collapsed": false
   },
   "outputs": [
    {
     "name": "stdout",
     "output_type": "stream",
     "text": [
      "  X  Y  pval\n",
      "  0  0     2\n",
      "  0  1     3\n",
      "  1  0     5\n",
      "  1  1     7\n",
      "\n",
      "  Y  Z  pval\n",
      "  0  0    10\n",
      "  1  1   100\n",
      "  1  2  1000\n"
     ]
    }
   ],
   "source": [
    "t = Pot({'X': [0,0,1,1], 'Y': [0,1,0,1], 'pval':[2,3,5,7]})\n",
    "tt = Pot({'Y': [0,1,1], 'Z': [0,1,2], 'pval':[10,100,1000]})\n",
    "print(t)\n",
    "print(\"\")\n",
    "print(tt)"
   ]
  },
  {
   "cell_type": "markdown",
   "metadata": {},
   "source": [
    "Now say you want to multiply them... First join the tables on the common variable Y:"
   ]
  },
  {
   "cell_type": "code",
   "execution_count": 13,
   "metadata": {
    "collapsed": false
   },
   "outputs": [
    {
     "data": {
      "text/html": [
       "<div style=\"max-height:1000px;max-width:1500px;overflow:auto;\">\n",
       "<table border=\"1\" class=\"dataframe\">\n",
       "  <thead>\n",
       "    <tr style=\"text-align: right;\">\n",
       "      <th></th>\n",
       "      <th>X</th>\n",
       "      <th>Y</th>\n",
       "      <th>pval_x</th>\n",
       "      <th>Z</th>\n",
       "      <th>pval_y</th>\n",
       "    </tr>\n",
       "  </thead>\n",
       "  <tbody>\n",
       "    <tr>\n",
       "      <th>0</th>\n",
       "      <td> 0</td>\n",
       "      <td> 0</td>\n",
       "      <td> 2</td>\n",
       "      <td> 0</td>\n",
       "      <td>   10</td>\n",
       "    </tr>\n",
       "    <tr>\n",
       "      <th>1</th>\n",
       "      <td> 1</td>\n",
       "      <td> 0</td>\n",
       "      <td> 5</td>\n",
       "      <td> 0</td>\n",
       "      <td>   10</td>\n",
       "    </tr>\n",
       "    <tr>\n",
       "      <th>2</th>\n",
       "      <td> 0</td>\n",
       "      <td> 1</td>\n",
       "      <td> 3</td>\n",
       "      <td> 1</td>\n",
       "      <td>  100</td>\n",
       "    </tr>\n",
       "    <tr>\n",
       "      <th>3</th>\n",
       "      <td> 0</td>\n",
       "      <td> 1</td>\n",
       "      <td> 3</td>\n",
       "      <td> 2</td>\n",
       "      <td> 1000</td>\n",
       "    </tr>\n",
       "    <tr>\n",
       "      <th>4</th>\n",
       "      <td> 1</td>\n",
       "      <td> 1</td>\n",
       "      <td> 7</td>\n",
       "      <td> 1</td>\n",
       "      <td>  100</td>\n",
       "    </tr>\n",
       "    <tr>\n",
       "      <th>5</th>\n",
       "      <td> 1</td>\n",
       "      <td> 1</td>\n",
       "      <td> 7</td>\n",
       "      <td> 2</td>\n",
       "      <td> 1000</td>\n",
       "    </tr>\n",
       "  </tbody>\n",
       "</table>\n",
       "</div>"
      ],
      "text/plain": [
       "   X  Y  pval_x  Z  pval_y\n",
       "0  0  0       2  0      10\n",
       "1  1  0       5  0      10\n",
       "2  0  1       3  1     100\n",
       "3  0  1       3  2    1000\n",
       "4  1  1       7  1     100\n",
       "5  1  1       7  2    1000"
      ]
     },
     "execution_count": 13,
     "metadata": {},
     "output_type": "execute_result"
    }
   ],
   "source": [
    "t._merge_(tt)"
   ]
  },
  {
   "cell_type": "markdown",
   "metadata": {},
   "source": [
    "... and then multiply the aligned pvals"
   ]
  },
  {
   "cell_type": "code",
   "execution_count": 14,
   "metadata": {
    "collapsed": false
   },
   "outputs": [
    {
     "data": {
      "text/html": [
       "<div style=\"max-height:1000px;max-width:1500px;overflow:auto;\">\n",
       "<table border=\"1\" class=\"dataframe\">\n",
       "  <thead>\n",
       "    <tr style=\"text-align: right;\">\n",
       "      <th></th>\n",
       "      <th>X</th>\n",
       "      <th>Y</th>\n",
       "      <th>Z</th>\n",
       "      <th>pval</th>\n",
       "    </tr>\n",
       "  </thead>\n",
       "  <tbody>\n",
       "    <tr>\n",
       "      <th>0</th>\n",
       "      <td> 0</td>\n",
       "      <td> 0</td>\n",
       "      <td> 0</td>\n",
       "      <td>   20</td>\n",
       "    </tr>\n",
       "    <tr>\n",
       "      <th>1</th>\n",
       "      <td> 1</td>\n",
       "      <td> 0</td>\n",
       "      <td> 0</td>\n",
       "      <td>   50</td>\n",
       "    </tr>\n",
       "    <tr>\n",
       "      <th>2</th>\n",
       "      <td> 0</td>\n",
       "      <td> 1</td>\n",
       "      <td> 1</td>\n",
       "      <td>  300</td>\n",
       "    </tr>\n",
       "    <tr>\n",
       "      <th>3</th>\n",
       "      <td> 0</td>\n",
       "      <td> 1</td>\n",
       "      <td> 2</td>\n",
       "      <td> 3000</td>\n",
       "    </tr>\n",
       "    <tr>\n",
       "      <th>4</th>\n",
       "      <td> 1</td>\n",
       "      <td> 1</td>\n",
       "      <td> 1</td>\n",
       "      <td>  700</td>\n",
       "    </tr>\n",
       "    <tr>\n",
       "      <th>5</th>\n",
       "      <td> 1</td>\n",
       "      <td> 1</td>\n",
       "      <td> 2</td>\n",
       "      <td> 7000</td>\n",
       "    </tr>\n",
       "  </tbody>\n",
       "</table>\n",
       "</div>"
      ],
      "text/plain": [
       "   X  Y  Z  pval\n",
       "0  0  0  0    20\n",
       "1  1  0  0    50\n",
       "2  0  1  1   300\n",
       "3  0  1  2  3000\n",
       "4  1  1  1   700\n",
       "5  1  1  2  7000"
      ]
     },
     "execution_count": 14,
     "metadata": {},
     "output_type": "execute_result"
    }
   ],
   "source": [
    "_val_prod_(t._merge_(tt))"
   ]
  },
  {
   "cell_type": "markdown",
   "metadata": {},
   "source": [
    "Intuitively, what is happening when you operate on two potentials, is that you align/link the common information, and broadcast/mix the information that they don't have in common. This intuition is easier to grasp when theirs no variable in common (so there's only mixing (Cartesian Product) involved):"
   ]
  },
  {
   "cell_type": "code",
   "execution_count": 15,
   "metadata": {
    "collapsed": false
   },
   "outputs": [
    {
     "name": "stdout",
     "output_type": "stream",
     "text": [
      "  X  Y  pval\n",
      "  0  0  0.20\n",
      "  0  1  0.02\n",
      "  1  0  0.30\n",
      "  1  1  0.03\n"
     ]
    }
   ],
   "source": [
    "t = Pot({'X': [0,1], 'pval':[2,3]})\n",
    "tt = Pot({'Y': [0,1], 'pval':[10,100]})\n",
    "print(t / tt)"
   ]
  },
  {
   "cell_type": "markdown",
   "metadata": {},
   "source": [
    "### But why? (growing up...)"
   ]
  },
  {
   "cell_type": "markdown",
   "metadata": {},
   "source": [
    "Most laymen understand $Prob(B|A) = Prob(AB) / Prob(A)$ to mean $Prob(B=b\\ |\\ A=a) = Prob(A=a, B=b) / Prob(A=a)$, that is, where the probabilities are numbers representing specific events like $A=0$ and $B=1$. But what the (more sophisticated) Bayesians mean by $Prob$ is usually a whole probability (or likelihood, for the fanatics) space\". $Prob(A,B)$ therfore contains the information for each $Prob(A=a,\\ B=b)$ for all possible $(a,b) \\in A \\times B$:"
   ]
  },
  {
   "cell_type": "code",
   "execution_count": 27,
   "metadata": {
    "collapsed": false
   },
   "outputs": [
    {
     "data": {
      "text/plain": [
       "     pval\n",
       "A B      \n",
       "0 0  0.10\n",
       "  1  0.20\n",
       "1 0  0.25\n",
       "  1  0.45"
      ]
     },
     "execution_count": 27,
     "metadata": {},
     "output_type": "execute_result"
    }
   ],
   "source": [
    "ab_probs"
   ]
  },
  {
   "cell_type": "markdown",
   "metadata": {},
   "source": [
    "Potentials are a data structure to hold (and operate) on these very useful objects. \n",
    "\n",
    "Note that $Prob(B|A)$ is a potential $A \\times B$, just as $Prob(A,B)$ is. But their semantics are different. \n",
    "$Prob(B|A)$ value for $(a,b)$ should can intepreted as \"the probability that B=b, given that A=a\". We can get $Prob(B|A)$ in one shot by dividing $Prob(A,B)$ by it's projection onto $A$:"
   ]
  },
  {
   "cell_type": "code",
   "execution_count": 28,
   "metadata": {
    "collapsed": false
   },
   "outputs": [
    {
     "data": {
      "text/plain": [
       "         pval\n",
       "A B          \n",
       "0 0  0.285714\n",
       "1 0  0.714286\n",
       "0 1  0.307692\n",
       "1 1  0.692308"
      ]
     },
     "execution_count": 28,
     "metadata": {},
     "output_type": "execute_result"
    }
   ],
   "source": [
    "ab_probs / ab_probs['B']"
   ]
  },
  {
   "cell_type": "markdown",
   "metadata": {},
   "source": [
    "Which you could also write as"
   ]
  },
  {
   "cell_type": "code",
   "execution_count": 29,
   "metadata": {
    "collapsed": false
   },
   "outputs": [
    {
     "data": {
      "text/plain": [
       "         pval\n",
       "A B          \n",
       "0 0  0.285714\n",
       "1 0  0.714286\n",
       "0 1  0.307692\n",
       "1 1  0.692308"
      ]
     },
     "execution_count": 29,
     "metadata": {},
     "output_type": "execute_result"
    }
   ],
   "source": [
    "ab_probs / ['B']"
   ]
  },
  {
   "cell_type": "markdown",
   "metadata": {},
   "source": [
    "or"
   ]
  },
  {
   "cell_type": "code",
   "execution_count": 30,
   "metadata": {
    "collapsed": false
   },
   "outputs": [
    {
     "data": {
      "text/plain": [
       "         pval\n",
       "A B          \n",
       "0 0  0.285714\n",
       "1 0  0.714286\n",
       "0 1  0.307692\n",
       "1 1  0.692308"
      ]
     },
     "execution_count": 30,
     "metadata": {},
     "output_type": "execute_result"
    }
   ],
   "source": [
    "ab_probs.normalize(['B'])"
   ]
  },
  {
   "cell_type": "markdown",
   "metadata": {},
   "source": [
    "We got $Prob(B|A)$ as $Prob(AB)/Prob(A)$. Let's verify that multiplication works as expected, namely that we get $Prob(B|A)\\times Prob(A)=Prob(A,B)$:"
   ]
  },
  {
   "cell_type": "code",
   "execution_count": 31,
   "metadata": {
    "collapsed": false
   },
   "outputs": [
    {
     "data": {
      "text/plain": [
       "     pval\n",
       "A B      \n",
       "0 0  0.10\n",
       "1 0  0.25\n",
       "0 1  0.20\n",
       "1 1  0.45"
      ]
     },
     "execution_count": 31,
     "metadata": {},
     "output_type": "execute_result"
    }
   ],
   "source": [
    "ab_probs.normalize(['B']) * ab_probs['B']"
   ]
  },
  {
   "cell_type": "markdown",
   "metadata": {},
   "source": [
    "Look at what you get if you do $Prob(A) \\times Prob(B)$:"
   ]
  },
  {
   "cell_type": "code",
   "execution_count": 32,
   "metadata": {
    "collapsed": false
   },
   "outputs": [
    {
     "data": {
      "text/plain": [
       "      pval\n",
       "A B       \n",
       "0 0  0.105\n",
       "  1  0.195\n",
       "1 0  0.245\n",
       "  1  0.455"
      ]
     },
     "execution_count": 32,
     "metadata": {},
     "output_type": "execute_result"
    }
   ],
   "source": [
    "ab_probs['A'] * ab_probs['B']"
   ]
  },
  {
   "cell_type": "markdown",
   "metadata": {},
   "source": [
    "You don't get the same thing as $Prob(A,B)$, because that would only happen if $A$ and $B$ were independent. "
   ]
  },
  {
   "cell_type": "markdown",
   "metadata": {},
   "source": [
    "### Inference (or \"integrating evidence\")"
   ]
  },
  {
   "cell_type": "markdown",
   "metadata": {},
   "source": [
    "\n",
    "Let's come back to probs_ab:"
   ]
  },
  {
   "cell_type": "code",
   "execution_count": 33,
   "metadata": {
    "collapsed": false
   },
   "outputs": [
    {
     "data": {
      "text/plain": [
       "     pval\n",
       "A B      \n",
       "0 0  0.10\n",
       "  1  0.20\n",
       "1 0  0.25\n",
       "  1  0.45"
      ]
     },
     "execution_count": 33,
     "metadata": {},
     "output_type": "execute_result"
    }
   ],
   "source": [
    "ab_probs"
   ]
  },
  {
   "cell_type": "markdown",
   "metadata": {},
   "source": [
    "If you had evidence about A (which is Bayesian for \"new something about A\"), you can change your idea of B. What do you know about B now? You know (projecting your ab_probs information to $B$), that"
   ]
  },
  {
   "cell_type": "code",
   "execution_count": 34,
   "metadata": {
    "collapsed": false
   },
   "outputs": [
    {
     "data": {
      "text/plain": [
       "   pval\n",
       "B      \n",
       "0  0.35\n",
       "1  0.65"
      ]
     },
     "execution_count": 34,
     "metadata": {},
     "output_type": "execute_result"
    }
   ],
   "source": [
    "ab_probs['B']"
   ]
  },
  {
   "cell_type": "markdown",
   "metadata": {},
   "source": [
    "If you knew that $A=0$, then you should really just take the hyper-plane of ab_probs corresponding to that, and normalizing (which is the same as projecting to [] (or [None]) as we did earlier), you'd get"
   ]
  },
  {
   "cell_type": "code",
   "execution_count": 35,
   "metadata": {
    "collapsed": false
   },
   "outputs": [
    {
     "data": {
      "text/plain": [
       "       pval\n",
       "B          \n",
       "0  0.333333\n",
       "1  0.666667"
      ]
     },
     "execution_count": 35,
     "metadata": {},
     "output_type": "execute_result"
    }
   ],
   "source": [
    "ab_probs[{'A': 0}].normalize()"
   ]
  },
  {
   "cell_type": "markdown",
   "metadata": {},
   "source": [
    "So you're $A=0$ evidence changed your idea of $B$. "
   ]
  },
  {
   "cell_type": "markdown",
   "metadata": {},
   "source": [
    "Evidence like $A=0$ is called \"hard evidence\". An example of \"soft evidence\" would be if you're not sure of the exact value of $A$, but you're, say, 20% sure that $A=0$, and (by consequence), 80% sure that $A=1$. Oh! How can we represent this? With a potential!"
   ]
  },
  {
   "cell_type": "code",
   "execution_count": 36,
   "metadata": {
    "collapsed": false
   },
   "outputs": [
    {
     "data": {
      "text/plain": [
       "   pval\n",
       "A      \n",
       "0   0.2\n",
       "1   0.8"
      ]
     },
     "execution_count": 36,
     "metadata": {},
     "output_type": "execute_result"
    }
   ],
   "source": [
    "soft_evidence = Pot(pd.DataFrame({'A': [0, 1], 'pval': [0.2, 0.8]}))\n",
    "soft_evidence"
   ]
  },
  {
   "cell_type": "markdown",
   "metadata": {},
   "source": [
    "Now if you multiply ab_probs by this evidence potential, normalize, and project to $B$, you'll get the consequence on $B$ of this evidence on $A$"
   ]
  },
  {
   "cell_type": "code",
   "execution_count": 37,
   "metadata": {
    "collapsed": false
   },
   "outputs": [
    {
     "data": {
      "text/plain": [
       "       pval\n",
       "B          \n",
       "0  0.354839\n",
       "1  0.645161"
      ]
     },
     "execution_count": 37,
     "metadata": {},
     "output_type": "execute_result"
    }
   ],
   "source": [
    "(ab_probs * soft_evidence).normalize()['B']"
   ]
  },
  {
   "cell_type": "markdown",
   "metadata": {},
   "source": [
    "Mathematically, what we've done is $$Prob(B\\ |\\ A=e) = Prob(A=e\\ |\\ B) \\times Prob(B) / Prob(A=e)$$"
   ]
  },
  {
   "cell_type": "code",
   "execution_count": null,
   "metadata": {
    "collapsed": false
   },
   "outputs": [],
   "source": []
  },
  {
   "cell_type": "markdown",
   "metadata": {},
   "source": [
    "# Now, Play!"
   ]
  },
  {
   "cell_type": "code",
   "execution_count": 1,
   "metadata": {
    "collapsed": false
   },
   "outputs": [],
   "source": [
    "import pandas as pd\n",
    "import numpy as np\n",
    "import os\n",
    "\n",
    "import ms_utils.daf as daf\n",
    "import ms_utils.daf.ch\n",
    "import ms_utils.daf.get\n",
    "import ms_utils.daf.addcol\n",
    "from ms_utils.ppi.pot import Pot"
   ]
  },
  {
   "cell_type": "code",
   "execution_count": null,
   "metadata": {
    "collapsed": false
   },
   "outputs": [],
   "source": []
  },
  {
   "cell_type": "markdown",
   "metadata": {},
   "source": [
    "### Making a few potentials from count data"
   ]
  },
  {
   "cell_type": "code",
   "execution_count": 2,
   "metadata": {
    "collapsed": false
   },
   "outputs": [
    {
     "name": "stdout",
     "output_type": "stream",
     "text": [
      "\n",
      "--- count_data data ---\n",
      "   A  B  C  count\n",
      "0  1  1  0      0\n",
      "1  1  0  1      1\n",
      "2  1  0  0      0\n",
      "3  0  0  0      1\n",
      "4  1  1  0      3\n",
      "etc.\n",
      "\n",
      "--- abc count potential ---\n",
      "  A  B  C  pval\n",
      "  0  0  0     6\n",
      "  0  0  1     9\n",
      "  0  1  0     3\n",
      "  0  1  1     7\n",
      "  1  0  0     0\n",
      "  1  0  1     6\n",
      "  1  1  0    10\n",
      "  1  1  1     9\n",
      "\n",
      "--- ab count potential ---\n",
      "  A  B  pval\n",
      "  0  0    15\n",
      "  0  1    10\n",
      "  1  0     6\n",
      "  1  1    19\n",
      "\n",
      "--- bc count potential ---\n",
      "  B  C  pval\n",
      "  0  0     6\n",
      "  0  1    15\n",
      "  1  0    13\n",
      "  1  1    16\n",
      "\n",
      "--- b count potential ---\n",
      "  B  pval\n",
      "  0    21\n",
      "  1    29\n"
     ]
    }
   ],
   "source": [
    "count_data = ms_utils.daf.get.rand(nrows=34, values_spec=[range(2), range(2), range(2), range(4)], columns=['A', 'B', 'C', 'count'])\n",
    "print \"\\n--- count_data data ---\"\n",
    "print count_data.head()\n",
    "print 'etc.'\n",
    "abc = Pot.from_count_df_to_count(count_df=count_data[['A','B','C','count']], count_col='count')\n",
    "ab = abc[['A','B']]\n",
    "bc = abc[['B','C']]\n",
    "b = abc[['B']]\n",
    "print \"\\n--- abc count potential ---\"\n",
    "print abc\n",
    "print \"\\n--- ab count potential ---\"\n",
    "print ab\n",
    "print \"\\n--- bc count potential ---\"\n",
    "print bc\n",
    "print \"\\n--- b count potential ---\"\n",
    "print b"
   ]
  },
  {
   "cell_type": "markdown",
   "metadata": {},
   "source": [
    "### Making a few potentials from pts data"
   ]
  },
  {
   "cell_type": "code",
   "execution_count": 3,
   "metadata": {
    "collapsed": false
   },
   "outputs": [
    {
     "name": "stdout",
     "output_type": "stream",
     "text": [
      "\n",
      "--- pts data ---\n",
      "   A  B  C\n",
      "0  1  1  1\n",
      "1  0  0  0\n",
      "2  1  1  0\n",
      "3  1  1  0\n",
      "4  1  0  1\n",
      "etc.\n",
      "\n",
      "--- abc count potential ---\n",
      "  A  B  C  pval\n",
      "  0  0  0     6\n",
      "  0  0  1     5\n",
      "  0  1  0     2\n",
      "  0  1  1     4\n",
      "  1  0  0     1\n",
      "  1  0  1     4\n",
      "  1  1  0     4\n",
      "  1  1  1     8\n",
      "\n",
      "--- ab count potential ---\n",
      "  A  B  pval\n",
      "  0  0    11\n",
      "  0  1     6\n",
      "  1  0     5\n",
      "  1  1    12\n",
      "\n",
      "--- bc count potential ---\n",
      "  B  C  pval\n",
      "  0  0     7\n",
      "  0  1     9\n",
      "  1  0     6\n",
      "  1  1    12\n",
      "\n",
      "--- b count potential ---\n",
      "  B  pval\n",
      "  0    16\n",
      "  1    18\n"
     ]
    }
   ],
   "source": [
    "pts = ms_utils.daf.get.rand(nrows=34, values_spec=[range(2), range(2), range(2), range(2)], columns=['A', 'B', 'C'])\n",
    "print \"\\n--- pts data ---\"\n",
    "print pts.head()\n",
    "print 'etc.'\n",
    "abc = Pot.from_points_to_count(pts[['A','B','C']])\n",
    "ab = abc[['A','B']]\n",
    "bc = abc[['B','C']]\n",
    "b = abc[['B']]\n",
    "print \"\\n--- abc count potential ---\"\n",
    "print abc\n",
    "print \"\\n--- ab count potential ---\"\n",
    "print ab\n",
    "print \"\\n--- bc count potential ---\"\n",
    "print bc\n",
    "print \"\\n--- b count potential ---\"\n",
    "print b"
   ]
  },
  {
   "cell_type": "markdown",
   "metadata": {},
   "source": [
    "### Having a look at some operations"
   ]
  },
  {
   "cell_type": "code",
   "execution_count": 4,
   "metadata": {
    "collapsed": false
   },
   "outputs": [
    {
     "name": "stdout",
     "output_type": "stream",
     "text": [
      "\n",
      "--- abc count potential ---\n",
      "  A  B  C  pval\n",
      "  0  0  0     2\n",
      "  0  0  1     3\n",
      "  0  1  0     5\n",
      "  0  1  1     7\n",
      "  1  0  0    11\n",
      "  1  0  1    13\n",
      "  1  1  0    17\n",
      "  1  1  1    19\n",
      "\n",
      "--- ab count potential ---\n",
      "  A  B  pval\n",
      "  0  0     2\n",
      "  0  1     3\n",
      "  1  0     5\n",
      "  1  1     7\n",
      "\n",
      "--- bc count potential ---\n",
      "  B  C  pval\n",
      "  0  0     2\n",
      "  0  1     3\n",
      "  1  0     5\n",
      "  1  1     7\n",
      "\n",
      "--- b count potential ---\n",
      "  B  pval\n",
      "  0     2\n",
      "  1     3\n",
      "\n",
      "--- a count potential ---\n",
      "  A  pval\n",
      "  0     2\n",
      "  1     3\n"
     ]
    }
   ],
   "source": [
    "prime_list = np.array([2, 3, 5, 7, 11, 13, 17, 19, 23, 29, 31, 37, 41, 43, 47, 53, 59, 61, 67, 71, 73, 79, 83, 89, 97])\n",
    "float_list = prime_list\n",
    "\n",
    "idx = 0; idx_end = len(abc.tb)\n",
    "abc.tb['pval'] = float_list[idx:idx_end]\n",
    "\n",
    "idx = 0; idx_end = len(ab.tb)\n",
    "ab.tb['pval'] = float_list[idx:idx_end]\n",
    "\n",
    "idx = 0; idx_end = len(bc.tb)\n",
    "bc.tb['pval'] = float_list[idx:idx_end]\n",
    "\n",
    "idx = 0; idx_end = len(b.tb)\n",
    "b.tb['pval'] = float_list[idx:idx_end]\n",
    "\n",
    "idx = 0; idx_end = len(b.tb)\n",
    "b.tb['pval'] = float_list[idx:idx_end]\n",
    "\n",
    "a = Pot(ms_utils.daf.ch.ch_col_names(b.tb, 'A', 'B'))\n",
    "idx = 0; idx_end = len(a.tb)\n",
    "a.tb['pval'] = float_list[idx:idx_end]\n",
    "\n",
    "# idx = 0; idx_end = idx + len(abc.tb)\n",
    "# abc.tb['val'] = float_list[idx:idx_end]\n",
    "\n",
    "# idx = idx_end; idx_end = idx + len(ab.tb)\n",
    "# ab.tb['val'] = float_list[idx:idx_end]\n",
    "\n",
    "# idx = idx_end; idx_end = idx + len(bc.tb)\n",
    "# bc.tb['val'] = float_list[idx:idx_end]\n",
    "\n",
    "# idx = idx_end; idx_end = idx + len(b.tb)\n",
    "# b.tb['val'] = float_list[idx:idx_end]\n",
    "\n",
    "# idx = idx_end; idx_end = idx + len(b.tb)\n",
    "# b.tb['val'] = float_list[idx:idx_end]\n",
    "\n",
    "# a = Pot(ms_utils.daf.ch.ch_col_names(b.tb, 'A', 'B'))\n",
    "# idx = idx_end; idx_end = idx + len(a.tb)\n",
    "# a.tb['val'] = float_list[idx:idx_end]\n",
    "\n",
    "print \"\\n--- abc count potential ---\"\n",
    "print abc\n",
    "print \"\\n--- ab count potential ---\"\n",
    "print ab\n",
    "print \"\\n--- bc count potential ---\"\n",
    "print bc\n",
    "print \"\\n--- b count potential ---\"\n",
    "print b\n",
    "print \"\\n--- a count potential ---\"\n",
    "print a\n"
   ]
  },
  {
   "cell_type": "code",
   "execution_count": 5,
   "metadata": {
    "collapsed": false
   },
   "outputs": [
    {
     "name": "stdout",
     "output_type": "stream",
     "text": [
      "  A  B  pval_x  C  pval_y\n",
      "  0  0       2  0       2\n",
      "  0  0       2  1       3\n",
      "  1  0       5  0       2\n",
      "  1  0       5  1       3\n",
      "  0  1       3  0       5\n",
      "  0  1       3  1       7\n",
      "  1  1       7  0       5\n",
      "  1  1       7  1       7\n"
     ]
    }
   ],
   "source": [
    "print ms_utils.daf.ch.empty_index(ab._merge_(bc))"
   ]
  },
  {
   "cell_type": "code",
   "execution_count": 6,
   "metadata": {
    "collapsed": false
   },
   "outputs": [
    {
     "name": "stdout",
     "output_type": "stream",
     "text": [
      "  A  B  C  pval\n",
      "  0  0  0     4\n",
      "  0  0  1     6\n",
      "  1  0  0    10\n",
      "  1  0  1    15\n",
      "  0  1  0    15\n",
      "  0  1  1    21\n",
      "  1  1  0    35\n",
      "  1  1  1    49\n"
     ]
    }
   ],
   "source": [
    "print ab * bc"
   ]
  },
  {
   "cell_type": "code",
   "execution_count": 7,
   "metadata": {
    "collapsed": false
   },
   "outputs": [
    {
     "name": "stdout",
     "output_type": "stream",
     "text": [
      "  A  B  pval\n",
      "  0  0     4\n",
      "  1  0    10\n",
      "  0  1     9\n",
      "  1  1    21\n"
     ]
    }
   ],
   "source": [
    "print ab * b"
   ]
  },
  {
   "cell_type": "code",
   "execution_count": 8,
   "metadata": {
    "collapsed": false
   },
   "outputs": [
    {
     "name": "stdout",
     "output_type": "stream",
     "text": [
      "  A  B  pval\n",
      "  0  0     4\n",
      "  0  1     6\n",
      "  1  0     6\n",
      "  1  1     9\n"
     ]
    }
   ],
   "source": [
    "print a * b"
   ]
  },
  {
   "cell_type": "code",
   "execution_count": 9,
   "metadata": {
    "collapsed": false
   },
   "outputs": [
    {
     "name": "stdout",
     "output_type": "stream",
     "text": [
      "   A  pval_x  B  pval_y\n",
      "0  0       2  0       2\n",
      "1  0       2  1       3\n",
      "2  1       3  0       2\n",
      "3  1       3  1       3\n",
      "_________________\n",
      "  A  B      pval\n",
      "  0  0  1.000000\n",
      "  0  1  0.666667\n",
      "  1  0  1.500000\n",
      "  1  1  1.000000\n"
     ]
    }
   ],
   "source": [
    "print a._merge_(b)\n",
    "print '_________________'\n",
    "print a / b"
   ]
  },
  {
   "cell_type": "markdown",
   "metadata": {},
   "source": [
    "#### Marginalization (or \"projection\", or \"factoring in\", or \"normalization\")"
   ]
  },
  {
   "cell_type": "code",
   "execution_count": 10,
   "metadata": {
    "collapsed": false
   },
   "outputs": [
    {
     "data": {
      "text/plain": [
       "     pval\n",
       "A B      \n",
       "0 0     2\n",
       "  1     3\n",
       "1 0     5\n",
       "  1     7"
      ]
     },
     "execution_count": 10,
     "metadata": {},
     "output_type": "execute_result"
    }
   ],
   "source": [
    "ab"
   ]
  },
  {
   "cell_type": "code",
   "execution_count": 159,
   "metadata": {
    "collapsed": false
   },
   "outputs": [
    {
     "data": {
      "text/plain": [
       "   pval\n",
       "A      \n",
       "0     5\n",
       "1    12"
      ]
     },
     "execution_count": 159,
     "metadata": {},
     "output_type": "execute_result"
    }
   ],
   "source": [
    "ab >> ['A']"
   ]
  },
  {
   "cell_type": "code",
   "execution_count": 160,
   "metadata": {
    "collapsed": false
   },
   "outputs": [
    {
     "data": {
      "text/plain": [
       "   pval\n",
       "A      \n",
       "0     5\n",
       "1    12"
      ]
     },
     "execution_count": 160,
     "metadata": {},
     "output_type": "execute_result"
    }
   ],
   "source": [
    "ab['A']"
   ]
  },
  {
   "cell_type": "code",
   "execution_count": 161,
   "metadata": {
    "collapsed": false
   },
   "outputs": [
    {
     "data": {
      "text/plain": [
       "   pval\n",
       "B      \n",
       "0     7\n",
       "1    10"
      ]
     },
     "execution_count": 161,
     "metadata": {},
     "output_type": "execute_result"
    }
   ],
   "source": [
    "ab['B']"
   ]
  },
  {
   "cell_type": "code",
   "execution_count": 163,
   "metadata": {
    "collapsed": false
   },
   "outputs": [
    {
     "data": {
      "text/plain": [
       "   pval\n",
       "A      \n",
       "0     5\n",
       "1    12"
      ]
     },
     "execution_count": 163,
     "metadata": {},
     "output_type": "execute_result"
    }
   ],
   "source": [
    "# marginalization happens over the intersection of the given variable list and the variables the potential actually has \n",
    "# (other variables are ignored)\n",
    "ab>>['A', 'variable that does not exist', 'blah blah']"
   ]
  },
  {
   "cell_type": "code",
   "execution_count": 164,
   "metadata": {
    "collapsed": false
   },
   "outputs": [
    {
     "data": {
      "text/plain": [
       "     pval\n",
       "A B      \n",
       "0 0     2\n",
       "  1     3\n",
       "1 0     5\n",
       "  1     7"
      ]
     },
     "execution_count": 164,
     "metadata": {},
     "output_type": "execute_result"
    }
   ],
   "source": [
    "# marginalizing over the whole set of variables doesn't do anything\n",
    "ab[['A', 'B']]"
   ]
  },
  {
   "cell_type": "code",
   "execution_count": 167,
   "metadata": {
    "collapsed": false
   },
   "outputs": [
    {
     "data": {
      "text/plain": [
       "  pval\n",
       "    17"
      ]
     },
     "execution_count": 167,
     "metadata": {},
     "output_type": "execute_result"
    }
   ],
   "source": [
    "# marginalizing over nothing (the empty set) essentially normalizes the val vector \n",
    "# (divides each element by the sum of all elements)\n",
    "ab[None]\n"
   ]
  },
  {
   "cell_type": "markdown",
   "metadata": {},
   "source": [
    "#### Conditioning (as in Prob(A|B))"
   ]
  },
  {
   "cell_type": "code",
   "execution_count": 168,
   "metadata": {
    "collapsed": false
   },
   "outputs": [
    {
     "data": {
      "text/plain": [
       "     pval\n",
       "B C      \n",
       "0 0     2\n",
       "  1     3\n",
       "1 0     5\n",
       "  1     7"
      ]
     },
     "execution_count": 168,
     "metadata": {},
     "output_type": "execute_result"
    }
   ],
   "source": [
    "bc"
   ]
  },
  {
   "cell_type": "code",
   "execution_count": 169,
   "metadata": {
    "collapsed": false
   },
   "outputs": [
    {
     "data": {
      "text/plain": [
       "         pval\n",
       "B C          \n",
       "0 0  0.117647\n",
       "  1  0.176471\n",
       "1 0  0.294118\n",
       "  1  0.411765"
      ]
     },
     "execution_count": 169,
     "metadata": {},
     "output_type": "execute_result"
    }
   ],
   "source": [
    "# Conditioning on [] is like normalization. If you start with a count potential, you get a joint-probability table \n",
    "# (with probabilities badly estimated in this small sample case)\n",
    "# Note that all pvals sum to 1\n",
    "bc / []"
   ]
  },
  {
   "cell_type": "code",
   "execution_count": 170,
   "metadata": {
    "collapsed": false
   },
   "outputs": [
    {
     "data": {
      "text/plain": [
       "         pval\n",
       "B C          \n",
       "0 0  0.400000\n",
       "  1  0.600000\n",
       "1 0  0.416667\n",
       "  1  0.583333"
      ]
     },
     "execution_count": 170,
     "metadata": {},
     "output_type": "execute_result"
    }
   ],
   "source": [
    "# The following is like the conditional probability P(B|C) = P(BC)/P(B)\n",
    "# Note that all pvals with same B sum up to 1\n",
    "bc / 'B'"
   ]
  },
  {
   "cell_type": "code",
   "execution_count": 171,
   "metadata": {
    "collapsed": false
   },
   "outputs": [
    {
     "data": {
      "text/plain": [
       "           pval\n",
       "A B C          \n",
       "0 0 0  0.117647\n",
       "    1  0.176471\n",
       "  1 0  0.294118\n",
       "    1  0.411765\n",
       "1 0 0  0.183333\n",
       "    1  0.216667\n",
       "  1 0  0.283333\n",
       "    1  0.316667"
      ]
     },
     "execution_count": 171,
     "metadata": {},
     "output_type": "execute_result"
    }
   ],
   "source": [
    "abc / ['A']"
   ]
  },
  {
   "cell_type": "code",
   "execution_count": 24,
   "metadata": {
    "collapsed": false
   },
   "outputs": [
    {
     "data": {
      "text/plain": [
       "           pval\n",
       "A B C          \n",
       "0 0 0  0.400000\n",
       "    1  0.600000\n",
       "  1 0  0.416667\n",
       "    1  0.583333\n",
       "1 0 0  0.458333\n",
       "    1  0.541667\n",
       "  1 0  0.472222\n",
       "    1  0.527778"
      ]
     },
     "execution_count": 24,
     "metadata": {},
     "output_type": "execute_result"
    }
   ],
   "source": [
    "abc / ['A','B']"
   ]
  },
  {
   "cell_type": "code",
   "execution_count": 25,
   "metadata": {
    "collapsed": false
   },
   "outputs": [
    {
     "data": {
      "text/plain": [
       "       pval\n",
       "A B C      \n",
       "0 0 0     1\n",
       "    1     1\n",
       "  1 0     1\n",
       "    1     1\n",
       "1 0 0     1\n",
       "    1     1\n",
       "  1 0     1\n",
       "    1     1"
      ]
     },
     "execution_count": 25,
     "metadata": {},
     "output_type": "execute_result"
    }
   ],
   "source": [
    "abc / ['A','B','C']"
   ]
  },
  {
   "cell_type": "markdown",
   "metadata": {},
   "source": [
    "#### Slicing (taking sub-spaces defined by intercepts)"
   ]
  },
  {
   "cell_type": "code",
   "execution_count": 26,
   "metadata": {
    "collapsed": false
   },
   "outputs": [
    {
     "data": {
      "text/plain": [
       "  pval\n",
       "     3"
      ]
     },
     "execution_count": 26,
     "metadata": {},
     "output_type": "execute_result"
    }
   ],
   "source": [
    "ab[{'A':0, 'B':1}]"
   ]
  },
  {
   "cell_type": "code",
   "execution_count": 27,
   "metadata": {
    "collapsed": false
   },
   "outputs": [
    {
     "data": {
      "text/plain": [
       "   pval\n",
       "B      \n",
       "0     2\n",
       "1     3"
      ]
     },
     "execution_count": 27,
     "metadata": {},
     "output_type": "execute_result"
    }
   ],
   "source": [
    "ab[{'A':0}]"
   ]
  },
  {
   "cell_type": "markdown",
   "metadata": {},
   "source": [
    "### A few utils"
   ]
  },
  {
   "cell_type": "code",
   "execution_count": 28,
   "metadata": {
    "collapsed": false
   },
   "outputs": [
    {
     "data": {
      "text/plain": [
       "     pval\n",
       "A B      \n",
       "0 0     2\n",
       "  1     3\n",
       "1 0     5\n",
       "  1     7"
      ]
     },
     "execution_count": 28,
     "metadata": {},
     "output_type": "execute_result"
    }
   ],
   "source": [
    "ab"
   ]
  },
  {
   "cell_type": "code",
   "execution_count": 38,
   "metadata": {
    "collapsed": false
   },
   "outputs": [
    {
     "data": {
      "text/plain": [
       "     pval\n",
       "B A      \n",
       "0 0     2\n",
       "  1     5\n",
       "1 0     3\n",
       "  1     7"
      ]
     },
     "execution_count": 38,
     "metadata": {},
     "output_type": "execute_result"
    }
   ],
   "source": [
    "ab.order_vars('B')"
   ]
  },
  {
   "cell_type": "code",
   "execution_count": 39,
   "metadata": {
    "collapsed": false
   },
   "outputs": [
    {
     "data": {
      "text/plain": [
       "     pval\n",
       "B A      \n",
       "0 0     2\n",
       "  1     5\n",
       "1 0     3\n",
       "  1     7"
      ]
     },
     "execution_count": 39,
     "metadata": {},
     "output_type": "execute_result"
    }
   ],
   "source": [
    "# !!! Note order_vars returns a pot, but also changes the pot IN PLACE\n",
    "#   (So if you want to not have this, you should make a copy of the pot first -- ab_copy = Pot(ab).order_vars('A'))\n",
    "# !!! Also note that by default order_vars sorts the points (re-orders var values) by default \n",
    "#   (you can change this with by setting the sort_pts flag to False)\n",
    "ab"
   ]
  },
  {
   "cell_type": "code",
   "execution_count": 40,
   "metadata": {
    "collapsed": false
   },
   "outputs": [
    {
     "data": {
      "text/plain": [
       "     pval\n",
       "A B      \n",
       "0 0     2\n",
       "  1     3\n",
       "1 0     5\n",
       "  1     7"
      ]
     },
     "execution_count": 40,
     "metadata": {},
     "output_type": "execute_result"
    }
   ],
   "source": [
    "Pot(ab).order_vars('A', sort_pts=True)"
   ]
  },
  {
   "cell_type": "code",
   "execution_count": 41,
   "metadata": {
    "collapsed": false
   },
   "outputs": [
    {
     "data": {
      "text/plain": [
       "     pval\n",
       "A B      \n",
       "0 0     2\n",
       "1 0     5\n",
       "0 1     3\n",
       "1 1     7"
      ]
     },
     "execution_count": 41,
     "metadata": {},
     "output_type": "execute_result"
    }
   ],
   "source": [
    "Pot(ab).order_vars('A', sort_pts=False)"
   ]
  },
  {
   "cell_type": "code",
   "execution_count": 28,
   "metadata": {
    "collapsed": false
   },
   "outputs": [],
   "source": []
  },
  {
   "cell_type": "markdown",
   "metadata": {},
   "source": [
    "### Misc"
   ]
  },
  {
   "cell_type": "code",
   "execution_count": 42,
   "metadata": {
    "collapsed": false
   },
   "outputs": [
    {
     "data": {
      "text/plain": [
       "       pval\n",
       "A B C      \n",
       "0 0 0     2\n",
       "    1     3\n",
       "  1 0     5\n",
       "    1     7\n",
       "1 0 0    11\n",
       "    1    13\n",
       "  1 0    17\n",
       "    1    19"
      ]
     },
     "execution_count": 42,
     "metadata": {},
     "output_type": "execute_result"
    }
   ],
   "source": [
    "abc"
   ]
  },
  {
   "cell_type": "code",
   "execution_count": 44,
   "metadata": {
    "collapsed": false
   },
   "outputs": [
    {
     "data": {
      "text/plain": [
       "           pval\n",
       "A B C          \n",
       "0 0 0  0.117647\n",
       "    1  0.176471\n",
       "  1 0  0.294118\n",
       "    1  0.411765\n",
       "1 0 0  0.183333\n",
       "    1  0.216667\n",
       "  1 0  0.283333\n",
       "    1  0.316667"
      ]
     },
     "execution_count": 44,
     "metadata": {},
     "output_type": "execute_result"
    }
   ],
   "source": [
    "(abc/'A')"
   ]
  },
  {
   "cell_type": "code",
   "execution_count": 45,
   "metadata": {
    "collapsed": false
   },
   "outputs": [
    {
     "data": {
      "text/plain": [
       "         pval\n",
       "B C          \n",
       "0 0  0.183333\n",
       "  1  0.216667\n",
       "1 0  0.283333\n",
       "  1  0.316667"
      ]
     },
     "execution_count": 45,
     "metadata": {},
     "output_type": "execute_result"
    }
   ],
   "source": [
    "(abc/'A')[{'A':1}]"
   ]
  },
  {
   "cell_type": "code",
   "execution_count": 46,
   "metadata": {
    "collapsed": false
   },
   "outputs": [
    {
     "data": {
      "text/plain": [
       "         pval\n",
       "B C          \n",
       "0 0  0.183333\n",
       "  1  0.216667\n",
       "1 0  0.283333\n",
       "  1  0.316667"
      ]
     },
     "execution_count": 46,
     "metadata": {},
     "output_type": "execute_result"
    }
   ],
   "source": [
    "abc/{'A':1}"
   ]
  },
  {
   "cell_type": "code",
   "execution_count": 47,
   "metadata": {
    "collapsed": false
   },
   "outputs": [
    {
     "data": {
      "text/plain": [
       "       pval\n",
       "C          \n",
       "0  0.458333\n",
       "1  0.541667"
      ]
     },
     "execution_count": 47,
     "metadata": {},
     "output_type": "execute_result"
    }
   ],
   "source": [
    "abc/{'A':1, 'B':0}"
   ]
  },
  {
   "cell_type": "code",
   "execution_count": 33,
   "metadata": {
    "collapsed": false
   },
   "outputs": [],
   "source": []
  },
  {
   "cell_type": "code",
   "execution_count": null,
   "metadata": {
    "collapsed": false
   },
   "outputs": [],
   "source": []
  }
 ],
 "metadata": {
  "kernelspec": {
   "display_name": "Python 2",
   "language": "python",
   "name": "python2"
  },
  "language_info": {
   "codemirror_mode": {
    "name": "ipython",
    "version": 2
   },
   "file_extension": ".py",
   "mimetype": "text/x-python",
   "name": "python",
   "nbconvert_exporter": "python",
   "pygments_lexer": "ipython2",
   "version": "2.7.10"
  }
 },
 "nbformat": 4,
 "nbformat_minor": 0
}
