{
 "cells": [
  {
   "cell_type": "code",
   "execution_count": 1,
   "metadata": {
    "collapsed": false
   },
   "outputs": [],
   "source": [
    "%load_ext autoreload\n",
    "%autoreload 2"
   ]
  },
  {
   "cell_type": "code",
   "execution_count": 1,
   "metadata": {
    "ExecuteTime": {
     "end_time": "2017-05-15T16:19:05.213164",
     "start_time": "2017-05-15T16:19:04.987302"
    },
    "collapsed": false
   },
   "outputs": [],
   "source": [
    "import ut as ms\n",
    "from ut.util.imports.ipython_utils import *\n",
    "from ut.util.imports.data_analysis import *\n",
    "\n",
    "import ut.pfile.accessor as pfile_accessor\n",
    "import pandas as pd\n",
    "import numpy as np\n",
    "import os\n",
    "from drug_lifecourse.data_flow import DrugLifeCourse\n",
    "from drug_lifecourse.analysis import JointAnalysis\n",
    "import ut.daf.ch as daf_ch\n",
    "from ut.util.bugger import Bugger\n",
    "import pdb\n",
    "\n",
    "from ut.ppi.pot import Pot\n",
    "from ut.ppi.pot import ProbPot\n",
    "\n",
    "from ut.pfile.accessor import for_local\n",
    "\n",
    "root_folder = os.path.abspath('.')\n",
    "facc = for_local(os.path.join(root_folder, 'data'))"
   ]
  },
  {
   "cell_type": "code",
   "execution_count": 3,
   "metadata": {
    "ExecuteTime": {
     "end_time": "2017-05-15T16:19:58.021634",
     "start_time": "2017-05-15T16:19:57.961890"
    },
    "collapsed": false
   },
   "outputs": [
    {
     "data": {
      "text/plain": [
       "'/D/Dropbox/dev/py/notebooks/misc/ODUS/data/'"
      ]
     },
     "execution_count": 3,
     "metadata": {},
     "output_type": "execute_result"
    }
   ],
   "source": [
    "facc('')"
   ]
  },
  {
   "cell_type": "code",
   "execution_count": 4,
   "metadata": {
    "ExecuteTime": {
     "end_time": "2017-05-15T16:21:25.597669",
     "start_time": "2017-05-15T16:19:59.622490"
    },
    "collapsed": false
   },
   "outputs": [
    {
     "name": "stderr",
     "output_type": "stream",
     "text": [
      "/D/Dropbox/dev/py/proj/misc/drug_lifecourse/data_flow.py:87: SettingWithCopyWarning: \n",
      "A value is trying to be set on a copy of a slice from a DataFrame.\n",
      "Try using .loc[row_indexer,col_indexer] = value instead\n",
      "\n",
      "See the caveats in the documentation: http://pandas.pydata.org/pandas-docs/stable/indexing.html#indexing-view-versus-copy\n",
      "  df['partner_or_spouse'] = any(df[['famrole_4', 'famrole_5']], axis=1).astype(int)\n",
      "/D/Dropbox/dev/py/proj/misc/drug_lifecourse/data_flow.py:127: SettingWithCopyWarning: \n",
      "A value is trying to be set on a copy of a slice from a DataFrame\n",
      "\n",
      "See the caveats in the documentation: http://pandas.pydata.org/pandas-docs/stable/indexing.html#indexing-view-versus-copy\n",
      "  df[binmap['bin_name']][df[c].isin(binmap['ifin'])] = 1\n",
      "/Users/thor/anaconda/lib/python2.7/site-packages/pandas/core/indexing.py:140: SettingWithCopyWarning: \n",
      "A value is trying to be set on a copy of a slice from a DataFrame\n",
      "\n",
      "See the caveats in the documentation: http://pandas.pydata.org/pandas-docs/stable/indexing.html#indexing-view-versus-copy\n",
      "  self._setitem_with_indexer(indexer, value)\n"
     ]
    },
    {
     "data": {
      "text/html": [
       "<div>\n",
       "<table border=\"1\" class=\"dataframe\">\n",
       "  <thead>\n",
       "    <tr style=\"text-align: right;\">\n",
       "      <th></th>\n",
       "      <th>exposure</th>\n",
       "      <th>event</th>\n",
       "      <th>relative_risk</th>\n",
       "      <th>non_exposure_count</th>\n",
       "      <th>exposure_count</th>\n",
       "      <th>log_relative_risk</th>\n",
       "      <th>relative_risk_percentage</th>\n",
       "      <th>x, v</th>\n",
       "      <th>~x, v</th>\n",
       "      <th>x, ~v</th>\n",
       "      <th>~x, ~v</th>\n",
       "    </tr>\n",
       "  </thead>\n",
       "  <tbody>\n",
       "    <tr>\n",
       "      <th>0</th>\n",
       "      <td>prison</td>\n",
       "      <td>partner_or_spouse</td>\n",
       "      <td>0.891679</td>\n",
       "      <td>4247</td>\n",
       "      <td>599</td>\n",
       "      <td>-0.165403</td>\n",
       "      <td>-0.121479</td>\n",
       "      <td>206</td>\n",
       "      <td>1638.0</td>\n",
       "      <td>393.0</td>\n",
       "      <td>2609</td>\n",
       "    </tr>\n",
       "    <tr>\n",
       "      <th>1</th>\n",
       "      <td>prison</td>\n",
       "      <td>alc</td>\n",
       "      <td>1.504065</td>\n",
       "      <td>4247</td>\n",
       "      <td>599</td>\n",
       "      <td>0.588867</td>\n",
       "      <td>0.504065</td>\n",
       "      <td>486</td>\n",
       "      <td>2291.0</td>\n",
       "      <td>113.0</td>\n",
       "      <td>1956</td>\n",
       "    </tr>\n",
       "    <tr>\n",
       "      <th>2</th>\n",
       "      <td>crk</td>\n",
       "      <td>alc</td>\n",
       "      <td>1.608930</td>\n",
       "      <td>3917</td>\n",
       "      <td>929</td>\n",
       "      <td>0.686102</td>\n",
       "      <td>0.608930</td>\n",
       "      <td>767</td>\n",
       "      <td>2010.0</td>\n",
       "      <td>162.0</td>\n",
       "      <td>1907</td>\n",
       "    </tr>\n",
       "    <tr>\n",
       "      <th>3</th>\n",
       "      <td>mar</td>\n",
       "      <td>met</td>\n",
       "      <td>2.439495</td>\n",
       "      <td>2965</td>\n",
       "      <td>1881</td>\n",
       "      <td>1.286583</td>\n",
       "      <td>1.439495</td>\n",
       "      <td>260</td>\n",
       "      <td>168.0</td>\n",
       "      <td>1621.0</td>\n",
       "      <td>2797</td>\n",
       "    </tr>\n",
       "    <tr>\n",
       "      <th>4</th>\n",
       "      <td>prison</td>\n",
       "      <td>her</td>\n",
       "      <td>2.345370</td>\n",
       "      <td>4247</td>\n",
       "      <td>599</td>\n",
       "      <td>1.229815</td>\n",
       "      <td>1.345370</td>\n",
       "      <td>217</td>\n",
       "      <td>656.0</td>\n",
       "      <td>382.0</td>\n",
       "      <td>3591</td>\n",
       "    </tr>\n",
       "  </tbody>\n",
       "</table>\n",
       "</div>"
      ],
      "text/plain": [
       "  exposure              event  relative_risk  non_exposure_count  \\\n",
       "0   prison  partner_or_spouse       0.891679                4247   \n",
       "1   prison                alc       1.504065                4247   \n",
       "2      crk                alc       1.608930                3917   \n",
       "3      mar                met       2.439495                2965   \n",
       "4   prison                her       2.345370                4247   \n",
       "\n",
       "   exposure_count  log_relative_risk  relative_risk_percentage  x, v   ~x, v  \\\n",
       "0             599          -0.165403                 -0.121479   206  1638.0   \n",
       "1             599           0.588867                  0.504065   486  2291.0   \n",
       "2             929           0.686102                  0.608930   767  2010.0   \n",
       "3            1881           1.286583                  1.439495   260   168.0   \n",
       "4             599           1.229815                  1.345370   217   656.0   \n",
       "\n",
       "    x, ~v  ~x, ~v  \n",
       "0   393.0    2609  \n",
       "1   113.0    1956  \n",
       "2   162.0    1907  \n",
       "3  1621.0    2797  \n",
       "4   382.0    3591  "
      ]
     },
     "execution_count": 4,
     "metadata": {},
     "output_type": "execute_result"
    }
   ],
   "source": [
    "ja = JointAnalysis('drug_use_and_social_binary_data')\n",
    "ja.get_prob_pot();\n",
    "rr = ja.get_relative_risk_df();\n",
    "rr.head()"
   ]
  },
  {
   "cell_type": "code",
   "execution_count": 12,
   "metadata": {
    "ExecuteTime": {
     "end_time": "2017-05-15T17:49:57.272313",
     "start_time": "2017-05-15T17:49:57.237310"
    },
    "collapsed": false
   },
   "outputs": [
    {
     "name": "stdout",
     "output_type": "stream",
     "text": [
      "alc\n",
      "amp\n",
      "coc\n",
      "crk\n",
      "hal\n",
      "her\n",
      "mar\n",
      "met\n",
      "no_condom\n",
      "parent\n",
      "partner_or_spouse\n",
      "prison\n",
      "prp\n",
      "sexint\n",
      "tob\n"
     ]
    }
   ],
   "source": [
    "for x in unique(rr['exposure']):\n",
    "    print x"
   ]
  },
  {
   "cell_type": "code",
   "execution_count": 6,
   "metadata": {
    "ExecuteTime": {
     "end_time": "2017-05-15T16:22:07.310973",
     "start_time": "2017-05-15T16:22:07.161840"
    },
    "collapsed": false
   },
   "outputs": [],
   "source": [
    "rr.to_excel(facc('stats_tables/relative_risk_table.xlsx'), index=False)"
   ]
  },
  {
   "cell_type": "code",
   "execution_count": 9,
   "metadata": {
    "ExecuteTime": {
     "end_time": "2017-05-15T16:22:19.281298",
     "start_time": "2017-05-15T16:22:18.694083"
    },
    "collapsed": false
   },
   "outputs": [
    {
     "data": {
      "image/png": "[encoded data removed]",
      "text/plain": [
       "<matplotlib.figure.Figure at 0x11ed89a10>"
      ]
     },
     "metadata": {},
     "output_type": "display_data"
    }
   ],
   "source": [
    "from misc.drug_lifecourse.scrap import plot_relrisk_matrix\n",
    "plot_relrisk_matrix(rr);\n",
    "title('relative risk of\\n same-year variables')\n",
    "grid('off');"
   ]
  },
  {
   "cell_type": "code",
   "execution_count": 23,
   "metadata": {
    "ExecuteTime": {
     "end_time": "2017-04-12T11:49:55.203590",
     "start_time": "2017-04-12T11:49:55.092411"
    },
    "collapsed": false
   },
   "outputs": [],
   "source": [
    "rr.to_excel(facc('stats_tables/relative_risk_table.xlsx'))"
   ]
  },
  {
   "cell_type": "code",
   "execution_count": 24,
   "metadata": {
    "ExecuteTime": {
     "end_time": "2017-04-12T11:49:56.526374",
     "start_time": "2017-04-12T11:49:56.487539"
    },
    "collapsed": false
   },
   "outputs": [
    {
     "data": {
      "text/plain": [
       "                          pval\n",
       "partner_or_spouse prison      \n",
       "0                 0       2609\n",
       "                  1        393\n",
       "1                 0       1638\n",
       "                  1        206"
      ]
     },
     "execution_count": 24,
     "metadata": {},
     "output_type": "execute_result"
    }
   ],
   "source": [
    "t = ja.count_pot[ja.prob_pot.keys()[0]]\n",
    "t"
   ]
  },
  {
   "cell_type": "code",
   "execution_count": 12,
   "metadata": {
    "collapsed": false
   },
   "outputs": [
    {
     "data": {
      "text/plain": [
       "                              pval\n",
       "partner_or_spouse prison          \n",
       "0                 0       0.869087\n",
       "                  1       0.130913\n",
       "1                 0       0.888286\n",
       "                  1       0.111714"
      ]
     },
     "execution_count": 12,
     "metadata": {},
     "output_type": "execute_result"
    }
   ],
   "source": [
    "tt = t / 'partner_or_spouse'\n",
    "tt"
   ]
  },
  {
   "cell_type": "code",
   "execution_count": null,
   "metadata": {
    "collapsed": false
   },
   "outputs": [],
   "source": []
  },
  {
   "cell_type": "code",
   "execution_count": null,
   "metadata": {
    "collapsed": false
   },
   "outputs": [],
   "source": []
  },
  {
   "cell_type": "markdown",
   "metadata": {},
   "source": [
    "### Scrap (but useful)"
   ]
  },
  {
   "cell_type": "code",
   "execution_count": 26,
   "metadata": {
    "ExecuteTime": {
     "end_time": "2017-04-12T11:50:20.781322",
     "start_time": "2017-04-12T11:50:20.746268"
    },
    "collapsed": false
   },
   "outputs": [],
   "source": [
    "dlc = DrugLifeCourse()"
   ]
  },
  {
   "cell_type": "code",
   "execution_count": 27,
   "metadata": {
    "ExecuteTime": {
     "end_time": "2017-04-12T11:50:23.055992",
     "start_time": "2017-04-12T11:50:23.019674"
    },
    "collapsed": false
   },
   "outputs": [
    {
     "data": {
      "text/plain": [
       "{'col_order_01': ['id',\n",
       "  'age',\n",
       "  'alc',\n",
       "  'tob',\n",
       "  'mar',\n",
       "  'hal',\n",
       "  'prp',\n",
       "  'coc',\n",
       "  'crk',\n",
       "  'her',\n",
       "  'amp',\n",
       "  'met',\n",
       "  'year'],\n",
       " 'data_dependencies': {'drug_use_and_social_binary_data': ['raw_life_course_data',\n",
       "   'id_year_of_birth'],\n",
       "  'drug_use_data': ['raw_life_course_data', 'id_year_of_birth'],\n",
       "  'id_year_of_birth': ['raw_life_course_data'],\n",
       "  'raw_life_course_data': ['yearly_csv_file']},\n",
       " 'data_makers': {'drug_use_and_social_binary_data': <bound method DrugLifeCourse.drug_use_and_social_binary_data of <drug_lifecourse.data_flow.DrugLifeCourse object at 0x11ab98e90>>,\n",
       "  'drug_use_data': <bound method DrugLifeCourse.drug_use_data of <drug_lifecourse.data_flow.DrugLifeCourse object at 0x11ab98e90>>,\n",
       "  'id_year_of_birth': <function drug_lifecourse.data_flow.id_year_of_birth>,\n",
       "  'raw_life_course_data': <function drug_lifecourse.data_flow.raw_life_course_data>},\n",
       " 'data_storers': {'raw_hotel_data': <bound method DrugLifeCourse.put_in_store of <drug_lifecourse.data_flow.DrugLifeCourse object at 0x11ab98e90>>},\n",
       " 'drugs': ['alc',\n",
       "  'tob',\n",
       "  'mar',\n",
       "  'hal',\n",
       "  'prp',\n",
       "  'coc',\n",
       "  'crk',\n",
       "  'her',\n",
       "  'amp',\n",
       "  'met'],\n",
       " 'facc': <ut.pfile.accessor.Accessor at 0x11ab98950>,\n",
       " 'store': <class 'ut.util.pstore.MyStore'>\n",
       " File path: /D/Dropbox/dev/py/data/socio/drug_lifecourse/lifecourse.h5\n",
       " Empty,\n",
       " 'variable_map': {'druguse_1': 'alc',\n",
       "  'druguse_10': 'met',\n",
       "  'druguse_2': 'tob',\n",
       "  'druguse_3': 'mar',\n",
       "  'druguse_4': 'hal',\n",
       "  'druguse_5': 'prp',\n",
       "  'druguse_6': 'coc',\n",
       "  'druguse_7': 'crk',\n",
       "  'druguse_8': 'her',\n",
       "  'druguse_9': 'amp',\n",
       "  'famrole_3': 'parent'},\n",
       " 'verbose_level': 0,\n",
       " 'yearly_csv_file': '/D/Dropbox/dev/py/data/socio/drug_lifecourse/ODUS_Yearly.csv'}"
      ]
     },
     "execution_count": 27,
     "metadata": {},
     "output_type": "execute_result"
    }
   ],
   "source": [
    "dlc.__dict__"
   ]
  },
  {
   "cell_type": "code",
   "execution_count": 28,
   "metadata": {
    "ExecuteTime": {
     "end_time": "2017-04-12T11:50:28.563896",
     "start_time": "2017-04-12T11:50:28.527784"
    },
    "collapsed": false
   },
   "outputs": [
    {
     "data": {
      "text/plain": [
       "{'drug_use_and_social_binary_data': ['raw_life_course_data',\n",
       "  'id_year_of_birth'],\n",
       " 'drug_use_data': ['raw_life_course_data', 'id_year_of_birth'],\n",
       " 'id_year_of_birth': ['raw_life_course_data'],\n",
       " 'raw_life_course_data': ['yearly_csv_file']}"
      ]
     },
     "execution_count": 28,
     "metadata": {},
     "output_type": "execute_result"
    }
   ],
   "source": [
    "dlc.data_dependencies"
   ]
  },
  {
   "cell_type": "code",
   "execution_count": 29,
   "metadata": {
    "ExecuteTime": {
     "end_time": "2017-04-12T11:50:33.276763",
     "start_time": "2017-04-12T11:50:33.069151"
    },
    "collapsed": false
   },
   "outputs": [
    {
     "name": "stdout",
     "output_type": "stream",
     "text": [
      "rows: 4846\n",
      "cols: 302\n",
      "unik ids: 92\n"
     ]
    }
   ],
   "source": [
    "df = dlc.get_data('raw_life_course_data')\n",
    "print \"rows: %d\" % len(df)\n",
    "print \"cols: %d\" % len(df.columns)\n",
    "print \"unik ids: %d\" % len(df['id'].unique())\n",
    "# print \"mean years: %d\" % np.mean(df[['id']].groupby('id').count()['id'])"
   ]
  },
  {
   "cell_type": "code",
   "execution_count": 30,
   "metadata": {
    "ExecuteTime": {
     "end_time": "2017-04-12T11:50:34.466448",
     "start_time": "2017-04-12T11:50:34.430320"
    },
    "collapsed": false
   },
   "outputs": [
    {
     "data": {
      "text/plain": [
       "92"
      ]
     },
     "execution_count": 30,
     "metadata": {},
     "output_type": "execute_result"
    }
   ],
   "source": [
    "len(df[['id']].groupby('id').count())"
   ]
  },
  {
   "cell_type": "code",
   "execution_count": 31,
   "metadata": {
    "ExecuteTime": {
     "end_time": "2017-04-12T11:50:35.722275",
     "start_time": "2017-04-12T11:50:35.511395"
    },
    "collapsed": false
   },
   "outputs": [
    {
     "data": {
      "text/html": [
       "<div>\n",
       "<table border=\"1\" class=\"dataframe\">\n",
       "  <thead>\n",
       "    <tr style=\"text-align: right;\">\n",
       "      <th></th>\n",
       "      <th>id</th>\n",
       "      <th>yob</th>\n",
       "    </tr>\n",
       "  </thead>\n",
       "  <tbody>\n",
       "    <tr>\n",
       "      <th>0</th>\n",
       "      <td>1</td>\n",
       "      <td>1954</td>\n",
       "    </tr>\n",
       "    <tr>\n",
       "      <th>1</th>\n",
       "      <td>2</td>\n",
       "      <td>1948</td>\n",
       "    </tr>\n",
       "    <tr>\n",
       "      <th>2</th>\n",
       "      <td>3</td>\n",
       "      <td>1957</td>\n",
       "    </tr>\n",
       "    <tr>\n",
       "      <th>3</th>\n",
       "      <td>4</td>\n",
       "      <td>1953</td>\n",
       "    </tr>\n",
       "    <tr>\n",
       "      <th>4</th>\n",
       "      <td>5</td>\n",
       "      <td>1963</td>\n",
       "    </tr>\n",
       "  </tbody>\n",
       "</table>\n",
       "</div>"
      ],
      "text/plain": [
       "   id   yob\n",
       "0   1  1954\n",
       "1   2  1948\n",
       "2   3  1957\n",
       "3   4  1953\n",
       "4   5  1963"
      ]
     },
     "execution_count": 31,
     "metadata": {},
     "output_type": "execute_result"
    }
   ],
   "source": [
    "df = dlc.get_data('id_year_of_birth')\n",
    "df.head()"
   ]
  },
  {
   "cell_type": "markdown",
   "metadata": {},
   "source": [
    "### Scrap"
   ]
  },
  {
   "cell_type": "markdown",
   "metadata": {},
   "source": [
    "#### Get drug use data"
   ]
  },
  {
   "cell_type": "code",
   "execution_count": 32,
   "metadata": {
    "ExecuteTime": {
     "end_time": "2017-04-12T11:50:40.127413",
     "start_time": "2017-04-12T11:50:39.732813"
    },
    "collapsed": false
   },
   "outputs": [
    {
     "data": {
      "text/html": [
       "<div>\n",
       "<table border=\"1\" class=\"dataframe\">\n",
       "  <thead>\n",
       "    <tr style=\"text-align: right;\">\n",
       "      <th></th>\n",
       "      <th>id</th>\n",
       "      <th>age</th>\n",
       "      <th>alc</th>\n",
       "      <th>tob</th>\n",
       "      <th>mar</th>\n",
       "      <th>hal</th>\n",
       "      <th>prp</th>\n",
       "      <th>coc</th>\n",
       "      <th>crk</th>\n",
       "      <th>her</th>\n",
       "      <th>amp</th>\n",
       "      <th>met</th>\n",
       "      <th>year</th>\n",
       "    </tr>\n",
       "  </thead>\n",
       "  <tbody>\n",
       "    <tr>\n",
       "      <th>20</th>\n",
       "      <td>1</td>\n",
       "      <td>20</td>\n",
       "      <td>0</td>\n",
       "      <td>1</td>\n",
       "      <td>1</td>\n",
       "      <td>1</td>\n",
       "      <td>0</td>\n",
       "      <td>0</td>\n",
       "      <td>0</td>\n",
       "      <td>0</td>\n",
       "      <td>1</td>\n",
       "      <td>0</td>\n",
       "      <td>1974</td>\n",
       "    </tr>\n",
       "    <tr>\n",
       "      <th>21</th>\n",
       "      <td>1</td>\n",
       "      <td>21</td>\n",
       "      <td>0</td>\n",
       "      <td>1</td>\n",
       "      <td>1</td>\n",
       "      <td>1</td>\n",
       "      <td>0</td>\n",
       "      <td>0</td>\n",
       "      <td>0</td>\n",
       "      <td>0</td>\n",
       "      <td>1</td>\n",
       "      <td>0</td>\n",
       "      <td>1975</td>\n",
       "    </tr>\n",
       "    <tr>\n",
       "      <th>22</th>\n",
       "      <td>1</td>\n",
       "      <td>22</td>\n",
       "      <td>0</td>\n",
       "      <td>1</td>\n",
       "      <td>1</td>\n",
       "      <td>1</td>\n",
       "      <td>0</td>\n",
       "      <td>0</td>\n",
       "      <td>0</td>\n",
       "      <td>1</td>\n",
       "      <td>1</td>\n",
       "      <td>0</td>\n",
       "      <td>1976</td>\n",
       "    </tr>\n",
       "    <tr>\n",
       "      <th>23</th>\n",
       "      <td>1</td>\n",
       "      <td>23</td>\n",
       "      <td>0</td>\n",
       "      <td>1</td>\n",
       "      <td>1</td>\n",
       "      <td>1</td>\n",
       "      <td>0</td>\n",
       "      <td>0</td>\n",
       "      <td>0</td>\n",
       "      <td>1</td>\n",
       "      <td>1</td>\n",
       "      <td>0</td>\n",
       "      <td>1977</td>\n",
       "    </tr>\n",
       "    <tr>\n",
       "      <th>24</th>\n",
       "      <td>1</td>\n",
       "      <td>24</td>\n",
       "      <td>1</td>\n",
       "      <td>1</td>\n",
       "      <td>1</td>\n",
       "      <td>1</td>\n",
       "      <td>0</td>\n",
       "      <td>0</td>\n",
       "      <td>0</td>\n",
       "      <td>1</td>\n",
       "      <td>0</td>\n",
       "      <td>0</td>\n",
       "      <td>1978</td>\n",
       "    </tr>\n",
       "  </tbody>\n",
       "</table>\n",
       "</div>"
      ],
      "text/plain": [
       "    id  age  alc  tob  mar  hal  prp  coc  crk  her  amp  met  year\n",
       "20   1   20    0    1    1    1    0    0    0    0    1    0  1974\n",
       "21   1   21    0    1    1    1    0    0    0    0    1    0  1975\n",
       "22   1   22    0    1    1    1    0    0    0    1    1    0  1976\n",
       "23   1   23    0    1    1    1    0    0    0    1    1    0  1977\n",
       "24   1   24    1    1    1    1    0    0    0    1    0    0  1978"
      ]
     },
     "execution_count": 32,
     "metadata": {},
     "output_type": "execute_result"
    }
   ],
   "source": [
    "df = dlc.get_data('drug_use_data')\n",
    "df[20:25]"
   ]
  },
  {
   "cell_type": "markdown",
   "metadata": {},
   "source": [
    "#### Visualizing Several Trajectories"
   ]
  },
  {
   "cell_type": "code",
   "execution_count": 33,
   "metadata": {
    "ExecuteTime": {
     "end_time": "2017-04-12T11:51:22.462620",
     "start_time": "2017-04-12T11:51:22.431682"
    },
    "collapsed": false
   },
   "outputs": [],
   "source": [
    "from PIL import Image\n",
    "import matplotlib.pyplot as plt\n",
    "#df = dlc.get_data('drug_use_data')"
   ]
  },
  {
   "cell_type": "code",
   "execution_count": 34,
   "metadata": {
    "ExecuteTime": {
     "end_time": "2017-04-12T11:51:23.333601",
     "start_time": "2017-04-12T11:51:23.145028"
    },
    "collapsed": false
   },
   "outputs": [
    {
     "data": {
      "image/png": "[encoded data removed]",
      "text/plain": [
       "<matplotlib.figure.Figure at 0x11ac80110>"
      ]
     },
     "metadata": {},
     "output_type": "display_data"
    }
   ],
   "source": [
    "id = 2\n",
    "arr = np.array(df[dlc.drugs][df['id'] == id]).transpose()\n",
    "arr = np.mod(arr+1, 2)\n",
    "plt.gray()\n",
    "plt.imshow(arr, interpolation='none')\n",
    "plt.grid(which='both', axis='x')"
   ]
  },
  {
   "cell_type": "code",
   "execution_count": null,
   "metadata": {
    "collapsed": false
   },
   "outputs": [],
   "source": []
  },
  {
   "cell_type": "code",
   "execution_count": 25,
   "metadata": {
    "collapsed": false
   },
   "outputs": [
    {
     "data": {
      "text/html": [
       "<div style=\"max-height:1000px;max-width:1500px;overflow:auto;\">\n",
       "<table border=\"1\" class=\"dataframe\">\n",
       "  <thead>\n",
       "    <tr style=\"text-align: right;\">\n",
       "      <th></th>\n",
       "      <th>id</th>\n",
       "      <th>age</th>\n",
       "      <th>alc</th>\n",
       "      <th>tob</th>\n",
       "      <th>mar</th>\n",
       "      <th>hal</th>\n",
       "      <th>prp</th>\n",
       "      <th>coc</th>\n",
       "      <th>crk</th>\n",
       "      <th>her</th>\n",
       "      <th>amp</th>\n",
       "      <th>met</th>\n",
       "      <th>year</th>\n",
       "    </tr>\n",
       "  </thead>\n",
       "  <tbody>\n",
       "    <tr>\n",
       "      <th>0</th>\n",
       "      <td> 1</td>\n",
       "      <td> 0</td>\n",
       "      <td> 0</td>\n",
       "      <td> 0</td>\n",
       "      <td> 0</td>\n",
       "      <td> 0</td>\n",
       "      <td> 0</td>\n",
       "      <td> 0</td>\n",
       "      <td> 0</td>\n",
       "      <td> 0</td>\n",
       "      <td> 0</td>\n",
       "      <td> 0</td>\n",
       "      <td> 1954</td>\n",
       "    </tr>\n",
       "    <tr>\n",
       "      <th>1</th>\n",
       "      <td> 1</td>\n",
       "      <td> 1</td>\n",
       "      <td> 0</td>\n",
       "      <td> 0</td>\n",
       "      <td> 0</td>\n",
       "      <td> 0</td>\n",
       "      <td> 0</td>\n",
       "      <td> 0</td>\n",
       "      <td> 0</td>\n",
       "      <td> 0</td>\n",
       "      <td> 0</td>\n",
       "      <td> 0</td>\n",
       "      <td> 1955</td>\n",
       "    </tr>\n",
       "    <tr>\n",
       "      <th>2</th>\n",
       "      <td> 1</td>\n",
       "      <td> 2</td>\n",
       "      <td> 0</td>\n",
       "      <td> 0</td>\n",
       "      <td> 0</td>\n",
       "      <td> 0</td>\n",
       "      <td> 0</td>\n",
       "      <td> 0</td>\n",
       "      <td> 0</td>\n",
       "      <td> 0</td>\n",
       "      <td> 0</td>\n",
       "      <td> 0</td>\n",
       "      <td> 1956</td>\n",
       "    </tr>\n",
       "    <tr>\n",
       "      <th>3</th>\n",
       "      <td> 1</td>\n",
       "      <td> 3</td>\n",
       "      <td> 0</td>\n",
       "      <td> 0</td>\n",
       "      <td> 0</td>\n",
       "      <td> 0</td>\n",
       "      <td> 0</td>\n",
       "      <td> 0</td>\n",
       "      <td> 0</td>\n",
       "      <td> 0</td>\n",
       "      <td> 0</td>\n",
       "      <td> 0</td>\n",
       "      <td> 1957</td>\n",
       "    </tr>\n",
       "    <tr>\n",
       "      <th>4</th>\n",
       "      <td> 1</td>\n",
       "      <td> 4</td>\n",
       "      <td> 0</td>\n",
       "      <td> 0</td>\n",
       "      <td> 0</td>\n",
       "      <td> 0</td>\n",
       "      <td> 0</td>\n",
       "      <td> 0</td>\n",
       "      <td> 0</td>\n",
       "      <td> 0</td>\n",
       "      <td> 0</td>\n",
       "      <td> 0</td>\n",
       "      <td> 1958</td>\n",
       "    </tr>\n",
       "  </tbody>\n",
       "</table>\n",
       "</div>"
      ],
      "text/plain": [
       "   id  age  alc  tob  mar  hal  prp  coc  crk  her  amp  met  year\n",
       "0   1    0    0    0    0    0    0    0    0    0    0    0  1954\n",
       "1   1    1    0    0    0    0    0    0    0    0    0    0  1955\n",
       "2   1    2    0    0    0    0    0    0    0    0    0    0  1956\n",
       "3   1    3    0    0    0    0    0    0    0    0    0    0  1957\n",
       "4   1    4    0    0    0    0    0    0    0    0    0    0  1958"
      ]
     },
     "execution_count": 25,
     "metadata": {},
     "output_type": "execute_result"
    }
   ],
   "source": []
  },
  {
   "cell_type": "markdown",
   "metadata": {},
   "source": [
    "### Two variable Bayes"
   ]
  },
  {
   "cell_type": "code",
   "execution_count": 28,
   "metadata": {
    "collapsed": false
   },
   "outputs": [
    {
     "name": "stdout",
     "output_type": "stream",
     "text": [
      "4846\n"
     ]
    },
    {
     "data": {
      "text/html": [
       "<div style=\"max-height:1000px;max-width:1500px;overflow:auto;\">\n",
       "<table border=\"1\" class=\"dataframe\">\n",
       "  <thead>\n",
       "    <tr style=\"text-align: right;\">\n",
       "      <th></th>\n",
       "      <th>her</th>\n",
       "      <th>crk</th>\n",
       "    </tr>\n",
       "  </thead>\n",
       "  <tbody>\n",
       "    <tr>\n",
       "      <th>0</th>\n",
       "      <td> 0</td>\n",
       "      <td> 0</td>\n",
       "    </tr>\n",
       "    <tr>\n",
       "      <th>1</th>\n",
       "      <td> 0</td>\n",
       "      <td> 0</td>\n",
       "    </tr>\n",
       "    <tr>\n",
       "      <th>2</th>\n",
       "      <td> 0</td>\n",
       "      <td> 0</td>\n",
       "    </tr>\n",
       "    <tr>\n",
       "      <th>3</th>\n",
       "      <td> 0</td>\n",
       "      <td> 0</td>\n",
       "    </tr>\n",
       "    <tr>\n",
       "      <th>4</th>\n",
       "      <td> 0</td>\n",
       "      <td> 0</td>\n",
       "    </tr>\n",
       "  </tbody>\n",
       "</table>\n",
       "</div>"
      ],
      "text/plain": [
       "   her  crk\n",
       "0    0    0\n",
       "1    0    0\n",
       "2    0    0\n",
       "3    0    0\n",
       "4    0    0"
      ]
     },
     "execution_count": 28,
     "metadata": {},
     "output_type": "execute_result"
    }
   ],
   "source": [
    "drug_1 = 'her'\n",
    "drug_2 = 'crk'\n",
    "d = df[[drug_1, drug_2]]\n",
    "print len(d)\n",
    "d.head()"
   ]
  },
  {
   "cell_type": "code",
   "execution_count": null,
   "metadata": {
    "collapsed": false
   },
   "outputs": [],
   "source": []
  },
  {
   "cell_type": "code",
   "execution_count": 30,
   "metadata": {
    "collapsed": false
   },
   "outputs": [
    {
     "ename": "AttributeError",
     "evalue": "'module' object has no attribute 'mk_count_pot'",
     "output_type": "error",
     "traceback": [
      "\u001b[0;31m---------------------------------------------------------------------------\u001b[0m\n\u001b[0;31mAttributeError\u001b[0m                            Traceback (most recent call last)",
      "\u001b[0;32m<ipython-input-30-89ca9a50aba1>\u001b[0m in \u001b[0;36m<module>\u001b[0;34m()\u001b[0m\n\u001b[1;32m      1\u001b[0m \u001b[0;32mimport\u001b[0m \u001b[0mms_utils\u001b[0m\u001b[0;34m.\u001b[0m\u001b[0mppi\u001b[0m\u001b[0;34m.\u001b[0m\u001b[0mpot\u001b[0m \u001b[0;32mas\u001b[0m \u001b[0mppi_pot\u001b[0m\u001b[0;34m\u001b[0m\u001b[0m\n\u001b[0;32m----> 2\u001b[0;31m \u001b[0mcount\u001b[0m \u001b[0;34m=\u001b[0m \u001b[0mppi_pot\u001b[0m\u001b[0;34m.\u001b[0m\u001b[0mmk_count_pot\u001b[0m\u001b[0;34m(\u001b[0m\u001b[0md\u001b[0m\u001b[0;34m)\u001b[0m\u001b[0;34m\u001b[0m\u001b[0m\n\u001b[0m\u001b[1;32m      3\u001b[0m \u001b[0mcount\u001b[0m\u001b[0;34m\u001b[0m\u001b[0m\n",
      "\u001b[0;31mAttributeError\u001b[0m: 'module' object has no attribute 'mk_count_pot'"
     ]
    }
   ],
   "source": [
    "import ms_utils.ppi.pot as ppi_pot\n",
    "count = ppi_pot.mk_count_pot(d)\n",
    "count"
   ]
  },
  {
   "cell_type": "code",
   "execution_count": 21,
   "metadata": {
    "collapsed": false
   },
   "outputs": [
    {
     "data": {
      "text/plain": [
       "her  crk\n",
       "0    0      0.686133\n",
       "     1      0.133719\n",
       "1    0      0.122163\n",
       "     1      0.057986\n",
       "Name: her, dtype: float64"
      ]
     },
     "execution_count": 21,
     "metadata": {},
     "output_type": "execute_result"
    }
   ],
   "source": [
    "prob_hc = count / float(sum(count))\n",
    "prob_hc"
   ]
  },
  {
   "cell_type": "code",
   "execution_count": 29,
   "metadata": {
    "collapsed": false
   },
   "outputs": [
    {
     "ename": "KeyError",
     "evalue": "'crk'",
     "output_type": "error",
     "traceback": [
      "\u001b[0;31m---------------------------------------------------------------------------\u001b[0m\n\u001b[0;31mKeyError\u001b[0m                                  Traceback (most recent call last)",
      "\u001b[0;32m<ipython-input-29-1d8bee559786>\u001b[0m in \u001b[0;36m<module>\u001b[0;34m()\u001b[0m\n\u001b[0;32m----> 1\u001b[0;31m \u001b[0mt\u001b[0m \u001b[0;34m=\u001b[0m \u001b[0mcount\u001b[0m\u001b[0;34m[\u001b[0m\u001b[0mcount\u001b[0m\u001b[0;34m[\u001b[0m\u001b[0;34m'crk'\u001b[0m\u001b[0;34m]\u001b[0m\u001b[0;34m==\u001b[0m\u001b[0;36m1\u001b[0m\u001b[0;34m]\u001b[0m\u001b[0;34m\u001b[0m\u001b[0m\n\u001b[0m\u001b[1;32m      2\u001b[0m \u001b[0mt\u001b[0m\u001b[0;34m\u001b[0m\u001b[0m\n",
      "\u001b[0;32m/Users/thor/anaconda/python.app/Contents/lib/python2.7/site-packages/pandas/core/series.pyc\u001b[0m in \u001b[0;36m__getitem__\u001b[0;34m(self, key)\u001b[0m\n\u001b[1;32m    616\u001b[0m     \u001b[0;32mdef\u001b[0m \u001b[0m__getitem__\u001b[0m\u001b[0;34m(\u001b[0m\u001b[0mself\u001b[0m\u001b[0;34m,\u001b[0m \u001b[0mkey\u001b[0m\u001b[0;34m)\u001b[0m\u001b[0;34m:\u001b[0m\u001b[0;34m\u001b[0m\u001b[0m\n\u001b[1;32m    617\u001b[0m         \u001b[0;32mtry\u001b[0m\u001b[0;34m:\u001b[0m\u001b[0;34m\u001b[0m\u001b[0m\n\u001b[0;32m--> 618\u001b[0;31m             \u001b[0;32mreturn\u001b[0m \u001b[0mself\u001b[0m\u001b[0;34m.\u001b[0m\u001b[0mindex\u001b[0m\u001b[0;34m.\u001b[0m\u001b[0mget_value\u001b[0m\u001b[0;34m(\u001b[0m\u001b[0mself\u001b[0m\u001b[0;34m,\u001b[0m \u001b[0mkey\u001b[0m\u001b[0;34m)\u001b[0m\u001b[0;34m\u001b[0m\u001b[0m\n\u001b[0m\u001b[1;32m    619\u001b[0m         \u001b[0;32mexcept\u001b[0m \u001b[0mInvalidIndexError\u001b[0m\u001b[0;34m:\u001b[0m\u001b[0;34m\u001b[0m\u001b[0m\n\u001b[1;32m    620\u001b[0m             \u001b[0;32mpass\u001b[0m\u001b[0;34m\u001b[0m\u001b[0m\n",
      "\u001b[0;32m/Users/thor/anaconda/python.app/Contents/lib/python2.7/site-packages/pandas/core/index.pyc\u001b[0m in \u001b[0;36mget_value\u001b[0;34m(self, series, key)\u001b[0m\n\u001b[1;32m   1631\u001b[0m                     \u001b[0;32mraise\u001b[0m \u001b[0mInvalidIndexError\u001b[0m\u001b[0;34m(\u001b[0m\u001b[0mkey\u001b[0m\u001b[0;34m)\u001b[0m\u001b[0;34m\u001b[0m\u001b[0m\n\u001b[1;32m   1632\u001b[0m                 \u001b[0;32melse\u001b[0m\u001b[0;34m:\u001b[0m\u001b[0;34m\u001b[0m\u001b[0m\n\u001b[0;32m-> 1633\u001b[0;31m                     \u001b[0;32mraise\u001b[0m \u001b[0me1\u001b[0m\u001b[0;34m\u001b[0m\u001b[0m\n\u001b[0m\u001b[1;32m   1634\u001b[0m             \u001b[0;32mexcept\u001b[0m \u001b[0mException\u001b[0m\u001b[0;34m:\u001b[0m  \u001b[0;31m# pragma: no cover\u001b[0m\u001b[0;34m\u001b[0m\u001b[0m\n\u001b[1;32m   1635\u001b[0m                 \u001b[0;32mraise\u001b[0m \u001b[0me1\u001b[0m\u001b[0;34m\u001b[0m\u001b[0m\n",
      "\u001b[0;31mKeyError\u001b[0m: 'crk'"
     ]
    }
   ],
   "source": [
    "t = count[count['crk']==1]\n",
    "t"
   ]
  },
  {
   "cell_type": "code",
   "execution_count": null,
   "metadata": {
    "collapsed": false
   },
   "outputs": [],
   "source": []
  },
  {
   "cell_type": "markdown",
   "metadata": {},
   "source": [
    "### Drug Data Prob and relative risk Joins"
   ]
  },
  {
   "cell_type": "code",
   "execution_count": 285,
   "metadata": {
    "collapsed": false
   },
   "outputs": [],
   "source": [
    "import ms_utils as ms\n",
    "from util.bugger import Bugger\n",
    "#import pfile.accessor as pfile_accessor\n",
    "import pandas as pd\n",
    "import numpy as np\n",
    "from misc.drug_lifecourse.data_flow import DrugLifeCourse\n",
    "import ms_utils.daf.ch\n",
    "import ms_utils.daf.get\n",
    "import ms_utils.daf.to\n",
    "import ms_utils.pplot.get\n",
    "from ppi.pot import Pot\n",
    "from ppi.pot import ProbPot\n"
   ]
  },
  {
   "cell_type": "code",
   "execution_count": 32,
   "metadata": {
    "collapsed": false
   },
   "outputs": [
    {
     "data": {
      "text/html": [
       "<div style=\"max-height:1000px;max-width:1500px;overflow:auto;\">\n",
       "<table border=\"1\" class=\"dataframe\">\n",
       "  <thead>\n",
       "    <tr style=\"text-align: right;\">\n",
       "      <th></th>\n",
       "      <th>id</th>\n",
       "      <th>year</th>\n",
       "      <th>age</th>\n",
       "      <th>alc</th>\n",
       "      <th>tob</th>\n",
       "      <th>mar</th>\n",
       "      <th>hal</th>\n",
       "      <th>prp</th>\n",
       "      <th>coc</th>\n",
       "      <th>crk</th>\n",
       "      <th>her</th>\n",
       "      <th>amp</th>\n",
       "      <th>met</th>\n",
       "    </tr>\n",
       "  </thead>\n",
       "  <tbody>\n",
       "    <tr>\n",
       "      <th>16</th>\n",
       "      <td> 1</td>\n",
       "      <td> 1970</td>\n",
       "      <td> 16</td>\n",
       "      <td> 0</td>\n",
       "      <td> 1</td>\n",
       "      <td> 0</td>\n",
       "      <td> 0</td>\n",
       "      <td> 0</td>\n",
       "      <td> 0</td>\n",
       "      <td> 0</td>\n",
       "      <td> 0</td>\n",
       "      <td> 0</td>\n",
       "      <td> 0</td>\n",
       "    </tr>\n",
       "    <tr>\n",
       "      <th>17</th>\n",
       "      <td> 1</td>\n",
       "      <td> 1971</td>\n",
       "      <td> 17</td>\n",
       "      <td> 0</td>\n",
       "      <td> 1</td>\n",
       "      <td> 0</td>\n",
       "      <td> 0</td>\n",
       "      <td> 0</td>\n",
       "      <td> 0</td>\n",
       "      <td> 0</td>\n",
       "      <td> 0</td>\n",
       "      <td> 0</td>\n",
       "      <td> 0</td>\n",
       "    </tr>\n",
       "    <tr>\n",
       "      <th>18</th>\n",
       "      <td> 1</td>\n",
       "      <td> 1972</td>\n",
       "      <td> 18</td>\n",
       "      <td> 0</td>\n",
       "      <td> 1</td>\n",
       "      <td> 1</td>\n",
       "      <td> 0</td>\n",
       "      <td> 0</td>\n",
       "      <td> 0</td>\n",
       "      <td> 0</td>\n",
       "      <td> 0</td>\n",
       "      <td> 0</td>\n",
       "      <td> 0</td>\n",
       "    </tr>\n",
       "    <tr>\n",
       "      <th>19</th>\n",
       "      <td> 1</td>\n",
       "      <td> 1973</td>\n",
       "      <td> 19</td>\n",
       "      <td> 0</td>\n",
       "      <td> 1</td>\n",
       "      <td> 1</td>\n",
       "      <td> 0</td>\n",
       "      <td> 0</td>\n",
       "      <td> 0</td>\n",
       "      <td> 0</td>\n",
       "      <td> 0</td>\n",
       "      <td> 1</td>\n",
       "      <td> 0</td>\n",
       "    </tr>\n",
       "    <tr>\n",
       "      <th>20</th>\n",
       "      <td> 1</td>\n",
       "      <td> 1974</td>\n",
       "      <td> 20</td>\n",
       "      <td> 0</td>\n",
       "      <td> 1</td>\n",
       "      <td> 1</td>\n",
       "      <td> 1</td>\n",
       "      <td> 0</td>\n",
       "      <td> 0</td>\n",
       "      <td> 0</td>\n",
       "      <td> 0</td>\n",
       "      <td> 1</td>\n",
       "      <td> 0</td>\n",
       "    </tr>\n",
       "  </tbody>\n",
       "</table>\n",
       "</div>"
      ],
      "text/plain": [
       "    id  year  age  alc  tob  mar  hal  prp  coc  crk  her  amp  met\n",
       "16   1  1970   16    0    1    0    0    0    0    0    0    0    0\n",
       "17   1  1971   17    0    1    0    0    0    0    0    0    0    0\n",
       "18   1  1972   18    0    1    1    0    0    0    0    0    0    0\n",
       "19   1  1973   19    0    1    1    0    0    0    0    0    1    0\n",
       "20   1  1974   20    0    1    1    1    0    0    0    0    1    0"
      ]
     },
     "execution_count": 32,
     "metadata": {},
     "output_type": "execute_result"
    }
   ],
   "source": [
    "dlc = DrugLifeCourse()\n",
    "data = dlc.get_data('drug_use_data')\n",
    "data = daf.manip.reorder_columns_as(data,['id','age','year'])\n",
    "data = data[data['age']>=16]\n",
    "data.head()"
   ]
  },
  {
   "cell_type": "code",
   "execution_count": 34,
   "metadata": {
    "collapsed": false
   },
   "outputs": [
    {
     "data": {
      "text/plain": [
       "Index([u'alc', u'tob', u'mar', u'hal', u'prp', u'coc', u'crk', u'her', u'amp', u'met'], dtype='object')"
      ]
     },
     "execution_count": 34,
     "metadata": {},
     "output_type": "execute_result"
    }
   ],
   "source": [
    "drugs = data.columns[3:]\n",
    "drugs"
   ]
  },
  {
   "cell_type": "code",
   "execution_count": 104,
   "metadata": {
    "collapsed": false
   },
   "outputs": [
    {
     "data": {
      "text/plain": [
       "         pval\n",
       "mar crk      \n",
       "0   0    1094\n",
       "    1     536\n",
       "1   0    1351\n",
       "    1     393"
      ]
     },
     "execution_count": 104,
     "metadata": {},
     "output_type": "execute_result"
    }
   ],
   "source": [
    "# make count potentials for all pairs of drugs\n",
    "n_drugs = len(drugs)\n",
    "count_pot = dict()\n",
    "for i in range(n_drugs-1):\n",
    "    for j in range(i+1, n_drugs):\n",
    "        count_pot = dict(count_pot, **{(drugs[i], drugs[j]): Pot.from_points_to_count(data[[drugs[i], drugs[j]]])})\n",
    "        count_pot = dict(count_pot, **{(drugs[j], drugs[i]): Pot.from_points_to_count(data[[drugs[j], drugs[i]]])})\n",
    "# display the first\n",
    "count_pot['mar','crk']"
   ]
  },
  {
   "cell_type": "code",
   "execution_count": 235,
   "metadata": {
    "collapsed": false
   },
   "outputs": [
    {
     "ename": "TypeError",
     "evalue": "return arrays must be of ArrayType",
     "output_type": "error",
     "traceback": [
      "\u001b[0;31m---------------------------------------------------------------------------\u001b[0m\n\u001b[0;31mTypeError\u001b[0m                                 Traceback (most recent call last)",
      "\u001b[0;32m<ipython-input-235-48675004f6c4>\u001b[0m in \u001b[0;36m<module>\u001b[0;34m()\u001b[0m\n\u001b[0;32m----> 1\u001b[0;31m \u001b[0mlog\u001b[0m\u001b[0;34m(\u001b[0m\u001b[0marray\u001b[0m\u001b[0;34m(\u001b[0m\u001b[0;34m[\u001b[0m\u001b[0;36m10\u001b[0m\u001b[0;34m]\u001b[0m\u001b[0;34m)\u001b[0m\u001b[0;34m,\u001b[0m\u001b[0;36m2\u001b[0m\u001b[0;34m)\u001b[0m\u001b[0;34m\u001b[0m\u001b[0m\n\u001b[0m",
      "\u001b[0;31mTypeError\u001b[0m: return arrays must be of ArrayType"
     ]
    }
   ],
   "source": [
    "np.exp2()"
   ]
  },
  {
   "cell_type": "code",
   "execution_count": 39,
   "metadata": {
    "collapsed": false
   },
   "outputs": [
    {
     "data": {
      "text/plain": [
       "             pval\n",
       "mar crk          \n",
       "0   0    0.324244\n",
       "    1    0.158862\n",
       "1   0    0.400415\n",
       "    1    0.116479"
      ]
     },
     "execution_count": 39,
     "metadata": {},
     "output_type": "execute_result"
    }
   ],
   "source": [
    "# make joint probability potentials for all pairs of drugs\n",
    "n_drugs = len(drugs)\n",
    "jprob_pot = {k:(v/[]) for (k, v) in count_pot.iteritems()}\n",
    "jprob_pot['mar','crk']"
   ]
  },
  {
   "cell_type": "code",
   "execution_count": 41,
   "metadata": {
    "collapsed": false
   },
   "outputs": [],
   "source": [
    "n_drugs = len(drugs)\n",
    "relrisk = [{'event': k[0], \n",
    "            'exposure': k[1], \n",
    "            'relative_risk': ProbPot(v.tb).relative_risk(k[0],k[1]).tb.pval[0]} \n",
    "           for k, v in jprob_pot.iteritems()]\n",
    "relrisk = pd.DataFrame(relrisk)\n",
    "relrisk['log_relative_risk'] = log2(relrisk['relative_risk'])\n",
    "relrisk = relrisk[['exposure', 'event', 'relative_risk', 'log_relative_risk']]"
   ]
  },
  {
   "cell_type": "code",
   "execution_count": 230,
   "metadata": {
    "collapsed": false
   },
   "outputs": [
    {
     "data": {
      "text/plain": [
       "numpy.ufunc"
      ]
     },
     "execution_count": 230,
     "metadata": {},
     "output_type": "execute_result"
    }
   ],
   "source": []
  },
  {
   "cell_type": "code",
   "execution_count": 241,
   "metadata": {
    "collapsed": false
   },
   "outputs": [
    {
     "data": {
      "text/plain": [
       "<matplotlib.text.Text at 0x11543f1d0>"
      ]
     },
     "execution_count": 241,
     "metadata": {},
     "output_type": "execute_result"
    },
    {
     "data": {
      "image/png": "[encoded data removed]",
      "text/plain": [
       "<matplotlib.figure.Figure at 0x1154097d0>"
      ]
     },
     "metadata": {},
     "output_type": "display_data"
    }
   ],
   "source": [
    "from misc.drug_lifecourse.scrap import plot_relrisk_matrix\n",
    "plot_relrisk_matrix(relrisk)\n",
    "title('relative risks of \\n same-year drug usage\\n')"
   ]
  },
  {
   "cell_type": "code",
   "execution_count": 228,
   "metadata": {
    "collapsed": false
   },
   "outputs": [
    {
     "data": {
      "text/plain": [
       "[<matplotlib.text.Text at 0x114bdbad0>,\n",
       " <matplotlib.text.Text at 0x114bdff90>,\n",
       " <matplotlib.text.Text at 0x114bd9e50>,\n",
       " <matplotlib.text.Text at 0x114be4590>,\n",
       " <matplotlib.text.Text at 0x114be4c90>,\n",
       " <matplotlib.text.Text at 0x114be73d0>,\n",
       " <matplotlib.text.Text at 0x114be7ad0>,\n",
       " <matplotlib.text.Text at 0x114bef210>,\n",
       " <matplotlib.text.Text at 0x114bef910>]"
      ]
     },
     "execution_count": 228,
     "metadata": {},
     "output_type": "execute_result"
    },
    {
     "data": {
      "image/png": "[encoded data removed]",
      "text/plain": [
       "<matplotlib.figure.Figure at 0x11047d8d0>"
      ]
     },
     "metadata": {},
     "output_type": "display_data"
    }
   ],
   "source": [
    "t = relrisk.copy()\n",
    "matrix_shape = (t['exposure'].nunique(), t['event'].nunique())\n",
    "m = ms.daf.to.map_vals_to_ints_inplace(t, cols_to_map=['exposure'])\n",
    "m = m['exposure']\n",
    "ms.daf.to.map_vals_to_ints_inplace(t, cols_to_map={'event': dict(zip(m, range(len(m))))})\n",
    "RR = zeros(matrix_shape)\n",
    "RR[t['exposure'], t['event']] = t['relative_risk']\n",
    "RR[range(len(m)), range(len(m))] = nan\n",
    "\n",
    "RRL = log2(RR)\n",
    "def normalizor(X):\n",
    "    min_x = nanmin(X)\n",
    "    range_x = nanmax(X) - min_x\n",
    "    return lambda x: (x - min_x) / range_x\n",
    "normalize_this = normalizor(RRL)\n",
    "center = normalize_this(0)\n",
    "\n",
    "from ms_utils.pplot.color import shifted_color_map\n",
    "\n",
    "color_map = shifted_color_map(cmap=cm.get_cmap('coolwarm'), \n",
    "                              start=0, midpoint=center, stop=1)\n",
    "# imshow(RR, cmap=color_map, norm=matplotlib.colors.LogNorm(vmin=nanmin(RR), vmax=nanmax(RR)), interpolation='none');\n",
    "imshow(RRL, cmap=color_map, interpolation='none');\n",
    "\n",
    "xticks(range(shape(RRL)[0]), m)\n",
    "yticks(range(shape(RRL)[1]), m)\n",
    "gca().xaxis.tick_top()\n",
    "cbar = plt.colorbar()\n",
    "cbar.ax.set_yticklabels([\"%.02f\" % x for x in 2 ** array(ms.pplot.get.get_colorbar_tick_labels_as_floats(cbar))])"
   ]
  },
  {
   "cell_type": "code",
   "execution_count": 152,
   "metadata": {
    "collapsed": false
   },
   "outputs": [
    {
     "name": "stdout",
     "output_type": "stream",
     "text": [
      "15.9354931193\n",
      "2.02856364379\n"
     ]
    }
   ],
   "source": [
    "r = relrisk.set_index(['exposure', 'event'])\n",
    "print r.loc['mar', 'hal']['relative_risk']\n",
    "print r.loc['hal', 'mar']['relative_risk']"
   ]
  },
  {
   "cell_type": "code",
   "execution_count": null,
   "metadata": {
    "collapsed": false
   },
   "outputs": [],
   "source": []
  },
  {
   "cell_type": "markdown",
   "metadata": {},
   "source": [
    "### More variables"
   ]
  },
  {
   "cell_type": "code",
   "execution_count": 9,
   "metadata": {
    "collapsed": false
   },
   "outputs": [],
   "source": [
    "ja = JointAnalysis('drug_use_and_social_binary_data')"
   ]
  },
  {
   "cell_type": "code",
   "execution_count": 5,
   "metadata": {
    "collapsed": false
   },
   "outputs": [],
   "source": [
    "ja.get_prob_pot();"
   ]
  },
  {
   "cell_type": "code",
   "execution_count": 8,
   "metadata": {
    "collapsed": false
   },
   "outputs": [
    {
     "data": {
      "text/plain": [
       "             pval\n",
       "alc amp          \n",
       "0   0    0.417870\n",
       "    1    0.009080\n",
       "1   0    0.527858\n",
       "    1    0.045192"
      ]
     },
     "execution_count": 8,
     "metadata": {},
     "output_type": "execute_result"
    }
   ],
   "source": [
    "ja.prob_pot[('alc','amp')]"
   ]
  },
  {
   "cell_type": "code",
   "execution_count": 10,
   "metadata": {
    "collapsed": false
   },
   "outputs": [
    {
     "ename": "AttributeError",
     "evalue": "'JointAnalysis' object has no attribute 'get_relative_risk_df'",
     "output_type": "error",
     "traceback": [
      "\u001b[0;31m---------------------------------------------------------------------------\u001b[0m\n\u001b[0;31mAttributeError\u001b[0m                            Traceback (most recent call last)",
      "\u001b[0;32m<ipython-input-10-ce85ea146295>\u001b[0m in \u001b[0;36m<module>\u001b[0;34m()\u001b[0m\n\u001b[0;32m----> 1\u001b[0;31m \u001b[0mja\u001b[0m\u001b[0;34m.\u001b[0m\u001b[0mget_relative_risk_df\u001b[0m\u001b[0;34m(\u001b[0m\u001b[0;34m)\u001b[0m\u001b[0;34m;\u001b[0m\u001b[0;34m\u001b[0m\u001b[0m\n\u001b[0m",
      "\u001b[0;31mAttributeError\u001b[0m: 'JointAnalysis' object has no attribute 'get_relative_risk_df'"
     ]
    }
   ],
   "source": [
    "ja.get_relative_risk_df();"
   ]
  },
  {
   "cell_type": "code",
   "execution_count": null,
   "metadata": {
    "collapsed": false
   },
   "outputs": [],
   "source": []
  },
  {
   "cell_type": "code",
   "execution_count": 24,
   "metadata": {
    "collapsed": false
   },
   "outputs": [
    {
     "ename": "TypeError",
     "evalue": "super(type, obj): obj must be an instance or subtype of type",
     "output_type": "error",
     "traceback": [
      "\u001b[0;31m---------------------------------------------------------------------------\u001b[0m\n\u001b[0;31mTypeError\u001b[0m                                 Traceback (most recent call last)",
      "\u001b[0;32m<ipython-input-24-8dc0d21973bf>\u001b[0m in \u001b[0;36m<module>\u001b[0;34m()\u001b[0m\n\u001b[1;32m      1\u001b[0m \u001b[0;32mfrom\u001b[0m \u001b[0mms_utils\u001b[0m\u001b[0;34m.\u001b[0m\u001b[0mdaf\u001b[0m\u001b[0;34m.\u001b[0m\u001b[0mdiagnosis\u001b[0m \u001b[0;32mimport\u001b[0m \u001b[0mdiag_df\u001b[0m\u001b[0;34m\u001b[0m\u001b[0m\n\u001b[0;32m----> 2\u001b[0;31m \u001b[0mdlc\u001b[0m \u001b[0;34m=\u001b[0m \u001b[0mDrugLifeCourse\u001b[0m\u001b[0;34m(\u001b[0m\u001b[0;34m)\u001b[0m\u001b[0;34m\u001b[0m\u001b[0m\n\u001b[0m",
      "\u001b[0;32m/D/Dropbox/dev/py/proj/misc/drug_lifecourse/data_flow.py\u001b[0m in \u001b[0;36m__init__\u001b[0;34m(self, **kwargs)\u001b[0m\n\u001b[1;32m     42\u001b[0m         }\n\u001b[1;32m     43\u001b[0m         \u001b[0mkwargs\u001b[0m \u001b[0;34m=\u001b[0m \u001b[0mdict\u001b[0m\u001b[0;34m(\u001b[0m\u001b[0mkwargs\u001b[0m\u001b[0;34m,\u001b[0m \u001b[0;34m**\u001b[0m\u001b[0mparams\u001b[0m\u001b[0;34m)\u001b[0m\u001b[0;34m\u001b[0m\u001b[0m\n\u001b[0;32m---> 44\u001b[0;31m         \u001b[0msuper\u001b[0m\u001b[0;34m(\u001b[0m\u001b[0mDrugLifeCourse\u001b[0m\u001b[0;34m,\u001b[0m \u001b[0mself\u001b[0m\u001b[0;34m)\u001b[0m\u001b[0;34m.\u001b[0m\u001b[0m__init__\u001b[0m\u001b[0;34m(\u001b[0m\u001b[0;34m**\u001b[0m\u001b[0mkwargs\u001b[0m\u001b[0;34m)\u001b[0m\u001b[0;34m\u001b[0m\u001b[0m\n\u001b[0m\u001b[1;32m     45\u001b[0m         self.variable_map = {\n\u001b[1;32m     46\u001b[0m             \u001b[0;34m'druguse_1'\u001b[0m\u001b[0;34m:\u001b[0m \u001b[0;34m'alc'\u001b[0m\u001b[0;34m,\u001b[0m\u001b[0;34m\u001b[0m\u001b[0m\n",
      "\u001b[0;31mTypeError\u001b[0m: super(type, obj): obj must be an instance or subtype of type"
     ]
    }
   ],
   "source": [
    "from ms_utils.daf.diagnosis import diag_df\n",
    "dlc = DrugLifeCourse()"
   ]
  },
  {
   "cell_type": "code",
   "execution_count": 28,
   "metadata": {
    "collapsed": false
   },
   "outputs": [],
   "source": [
    "d = dlc.get_data('raw_life_course_data')\n",
    "diag_df(d).to_excel(facc('stats_tables/variable_diagnosis.xlsx'), index=False)"
   ]
  },
  {
   "cell_type": "code",
   "execution_count": 25,
   "metadata": {
    "collapsed": false
   },
   "outputs": [
    {
     "data": {
      "text/plain": [
       "['mar',\n",
       " 'parent',\n",
       " 'prison',\n",
       " 'alc',\n",
       " 'met',\n",
       " 'prp',\n",
       " 'amp',\n",
       " 'partner_or_spouse',\n",
       " 'hal',\n",
       " 'her',\n",
       " 'no_condom',\n",
       " 'coc',\n",
       " 'sexint',\n",
       " 'tob',\n",
       " 'crk']"
      ]
     },
     "execution_count": 25,
     "metadata": {},
     "output_type": "execute_result"
    }
   ],
   "source": [
    "d = dlc.get_data('drug_use_and_social_binary_data')\n",
    "analysis_vars = list(set(d).difference(['id', 'year', 'age']))\n",
    "analysis_vars"
   ]
  },
  {
   "cell_type": "code",
   "execution_count": 26,
   "metadata": {
    "collapsed": false
   },
   "outputs": [
    {
     "data": {
      "text/plain": [
       "                              pval\n",
       "partner_or_spouse prison          \n",
       "0                 0       0.538382\n",
       "                  1       0.081098\n",
       "1                 0       0.338011\n",
       "                  1       0.042509"
      ]
     },
     "execution_count": 26,
     "metadata": {},
     "output_type": "execute_result"
    }
   ],
   "source": [
    "n_vars = len(analysis_vars)\n",
    "count_pot = dict()\n",
    "for i in range(n_vars-1):\n",
    "    for j in range(i+1, n_vars):\n",
    "        count_pot = dict(count_pot, **{(analysis_vars[i], analysis_vars[j]): Pot.from_points_to_count(d[[analysis_vars[i], analysis_vars[j]]])})\n",
    "        count_pot = dict(count_pot, **{(analysis_vars[j], analysis_vars[i]): Pot.from_points_to_count(d[[analysis_vars[j], analysis_vars[i]]])})\n",
    "jprob_pot = {k:(v/[]) for (k, v) in count_pot.iteritems()}\n",
    "# display the first\n",
    "jprob_pot[jprob_pot.keys()[0]]"
   ]
  },
  {
   "cell_type": "code",
   "execution_count": 71,
   "metadata": {
    "collapsed": false
   },
   "outputs": [],
   "source": [
    "jprob_pot = {k:(v/[]) for (k, v) in count_pot.iteritems()}\n",
    "n_vars = len(analysis_vars)\n",
    "relrisk = list()\n",
    "for k, v in jprob_pot.iteritems():\n",
    "    relrisk_val = ProbPot(v.tb).relative_risk(k[0],k[1]).tb.pval\n",
    "    if len(relrisk_val) >= 1:\n",
    "        relrisk_val = relrisk_val[0]\n",
    "    else:\n",
    "        relrisk_val = nan\n",
    "    relrisk.append({'event': k[0], 'exposure': k[1], 'relative_risk': relrisk_val})\n",
    "relrisk = pd.DataFrame(relrisk)\n",
    "relrisk['log_relative_risk'] = log2(relrisk['relative_risk'])\n",
    "relrisk = relrisk[['exposure', 'event', 'relative_risk', 'log_relative_risk']]"
   ]
  },
  {
   "cell_type": "code",
   "execution_count": 73,
   "metadata": {
    "collapsed": false
   },
   "outputs": [
    {
     "data": {
      "text/html": [
       "<div style=\"max-height:1000px;max-width:1500px;overflow:auto;\">\n",
       "<table border=\"1\" class=\"dataframe\">\n",
       "  <thead>\n",
       "    <tr style=\"text-align: right;\">\n",
       "      <th></th>\n",
       "      <th>exposure</th>\n",
       "      <th>event</th>\n",
       "      <th>relative_risk</th>\n",
       "      <th>log_relative_risk</th>\n",
       "    </tr>\n",
       "  </thead>\n",
       "  <tbody>\n",
       "    <tr>\n",
       "      <th>0</th>\n",
       "      <td> prison</td>\n",
       "      <td> partner_or_spouse</td>\n",
       "      <td> 0.891679</td>\n",
       "      <td>-0.165403</td>\n",
       "    </tr>\n",
       "    <tr>\n",
       "      <th>1</th>\n",
       "      <td> prison</td>\n",
       "      <td>               alc</td>\n",
       "      <td> 1.504065</td>\n",
       "      <td> 0.588867</td>\n",
       "    </tr>\n",
       "    <tr>\n",
       "      <th>2</th>\n",
       "      <td>    crk</td>\n",
       "      <td>               alc</td>\n",
       "      <td> 1.608930</td>\n",
       "      <td> 0.686102</td>\n",
       "    </tr>\n",
       "    <tr>\n",
       "      <th>3</th>\n",
       "      <td>    mar</td>\n",
       "      <td>               met</td>\n",
       "      <td> 2.439495</td>\n",
       "      <td> 1.286583</td>\n",
       "    </tr>\n",
       "    <tr>\n",
       "      <th>4</th>\n",
       "      <td> prison</td>\n",
       "      <td>               her</td>\n",
       "      <td> 2.345370</td>\n",
       "      <td> 1.229815</td>\n",
       "    </tr>\n",
       "  </tbody>\n",
       "</table>\n",
       "</div>"
      ],
      "text/plain": [
       "  exposure              event  relative_risk  log_relative_risk\n",
       "0   prison  partner_or_spouse       0.891679          -0.165403\n",
       "1   prison                alc       1.504065           0.588867\n",
       "2      crk                alc       1.608930           0.686102\n",
       "3      mar                met       2.439495           1.286583\n",
       "4   prison                her       2.345370           1.229815"
      ]
     },
     "execution_count": 73,
     "metadata": {},
     "output_type": "execute_result"
    }
   ],
   "source": []
  },
  {
   "cell_type": "code",
   "execution_count": 13,
   "metadata": {
    "collapsed": false
   },
   "outputs": [
    {
     "data": {
      "text/plain": [
       "Counter({False: 3002, True: 1844})"
      ]
     },
     "execution_count": 13,
     "metadata": {},
     "output_type": "execute_result"
    }
   ],
   "source": [
    "from collections import Counter\n",
    "Counter(any(d[['famrole_4', 'famrole_5']], axis=1))"
   ]
  },
  {
   "cell_type": "code",
   "execution_count": 293,
   "metadata": {
    "collapsed": false
   },
   "outputs": [
    {
     "data": {
      "text/plain": [
       "[1, 2, 4, 5, 6]"
      ]
     },
     "execution_count": 293,
     "metadata": {},
     "output_type": "execute_result"
    }
   ],
   "source": [
    "[1,2] + [4,5,6]"
   ]
  },
  {
   "cell_type": "code",
   "execution_count": null,
   "metadata": {
    "collapsed": false
   },
   "outputs": [],
   "source": []
  },
  {
   "cell_type": "code",
   "execution_count": null,
   "metadata": {
    "collapsed": false
   },
   "outputs": [],
   "source": []
  },
  {
   "cell_type": "code",
   "execution_count": 270,
   "metadata": {
    "collapsed": false
   },
   "outputs": [],
   "source": []
  },
  {
   "cell_type": "code",
   "execution_count": 253,
   "metadata": {
    "collapsed": false
   },
   "outputs": [
    {
     "data": {
      "text/plain": [
       "array([0, 1])"
      ]
     },
     "execution_count": 253,
     "metadata": {},
     "output_type": "execute_result"
    }
   ],
   "source": [
    "d['prison'].unique()"
   ]
  },
  {
   "cell_type": "code",
   "execution_count": 268,
   "metadata": {
    "collapsed": false
   },
   "outputs": [],
   "source": [
    "from ms_utils.daf.diagnosis import diag_df"
   ]
  },
  {
   "cell_type": "code",
   "execution_count": 269,
   "metadata": {
    "collapsed": false
   },
   "outputs": [
    {
     "data": {
      "text/html": [
       "<div style=\"max-height:1000px;max-width:1500px;overflow:auto;\">\n",
       "<table border=\"1\" class=\"dataframe\">\n",
       "  <thead>\n",
       "    <tr style=\"text-align: right;\">\n",
       "      <th></th>\n",
       "      <th>column</th>\n",
       "      <th>first_value</th>\n",
       "      <th>num_nonnan</th>\n",
       "      <th>num_nonzero</th>\n",
       "      <th>num_uniques</th>\n",
       "      <th>type</th>\n",
       "    </tr>\n",
       "  </thead>\n",
       "  <tbody>\n",
       "    <tr>\n",
       "      <th>0  </th>\n",
       "      <td>    id.date</td>\n",
       "      <td> 9/8/2009</td>\n",
       "      <td> 4846</td>\n",
       "      <td> 4846</td>\n",
       "      <td> 121</td>\n",
       "      <td>   str</td>\n",
       "    </tr>\n",
       "    <tr>\n",
       "      <th>1  </th>\n",
       "      <td>         id</td>\n",
       "      <td>        1</td>\n",
       "      <td> 4846</td>\n",
       "      <td> 4846</td>\n",
       "      <td>  92</td>\n",
       "      <td> int64</td>\n",
       "    </tr>\n",
       "    <tr>\n",
       "      <th>2  </th>\n",
       "      <td>       year</td>\n",
       "      <td>     1954</td>\n",
       "      <td> 4846</td>\n",
       "      <td> 4846</td>\n",
       "      <td>  67</td>\n",
       "      <td> int64</td>\n",
       "    </tr>\n",
       "    <tr>\n",
       "      <th>3  </th>\n",
       "      <td>  druguse_1</td>\n",
       "      <td>        0</td>\n",
       "      <td> 4846</td>\n",
       "      <td> 2777</td>\n",
       "      <td>   2</td>\n",
       "      <td> int64</td>\n",
       "    </tr>\n",
       "    <tr>\n",
       "      <th>4  </th>\n",
       "      <td>  druguse_2</td>\n",
       "      <td>        0</td>\n",
       "      <td> 4846</td>\n",
       "      <td> 2499</td>\n",
       "      <td>   2</td>\n",
       "      <td> int64</td>\n",
       "    </tr>\n",
       "    <tr>\n",
       "      <th>5  </th>\n",
       "      <td>  druguse_3</td>\n",
       "      <td>        0</td>\n",
       "      <td> 4846</td>\n",
       "      <td> 1881</td>\n",
       "      <td>   2</td>\n",
       "      <td> int64</td>\n",
       "    </tr>\n",
       "    <tr>\n",
       "      <th>6  </th>\n",
       "      <td>  druguse_4</td>\n",
       "      <td>        0</td>\n",
       "      <td> 4846</td>\n",
       "      <td>  400</td>\n",
       "      <td>   2</td>\n",
       "      <td> int64</td>\n",
       "    </tr>\n",
       "    <tr>\n",
       "      <th>7  </th>\n",
       "      <td>  druguse_5</td>\n",
       "      <td>        0</td>\n",
       "      <td> 4846</td>\n",
       "      <td>  817</td>\n",
       "      <td>   2</td>\n",
       "      <td> int64</td>\n",
       "    </tr>\n",
       "    <tr>\n",
       "      <th>8  </th>\n",
       "      <td>  druguse_6</td>\n",
       "      <td>        0</td>\n",
       "      <td> 4846</td>\n",
       "      <td> 1214</td>\n",
       "      <td>   2</td>\n",
       "      <td> int64</td>\n",
       "    </tr>\n",
       "    <tr>\n",
       "      <th>9  </th>\n",
       "      <td>  druguse_7</td>\n",
       "      <td>        0</td>\n",
       "      <td> 4846</td>\n",
       "      <td>  929</td>\n",
       "      <td>   2</td>\n",
       "      <td> int64</td>\n",
       "    </tr>\n",
       "    <tr>\n",
       "      <th>10 </th>\n",
       "      <td>  druguse_8</td>\n",
       "      <td>        0</td>\n",
       "      <td> 4846</td>\n",
       "      <td>  873</td>\n",
       "      <td>   2</td>\n",
       "      <td> int64</td>\n",
       "    </tr>\n",
       "    <tr>\n",
       "      <th>11 </th>\n",
       "      <td>  druguse_9</td>\n",
       "      <td>        0</td>\n",
       "      <td> 4846</td>\n",
       "      <td>  263</td>\n",
       "      <td>   2</td>\n",
       "      <td> int64</td>\n",
       "    </tr>\n",
       "    <tr>\n",
       "      <th>12 </th>\n",
       "      <td> druguse_10</td>\n",
       "      <td>        0</td>\n",
       "      <td> 4846</td>\n",
       "      <td>  428</td>\n",
       "      <td>   2</td>\n",
       "      <td> int64</td>\n",
       "    </tr>\n",
       "    <tr>\n",
       "      <th>13 </th>\n",
       "      <td>    tobrt_1</td>\n",
       "      <td>        9</td>\n",
       "      <td> 4846</td>\n",
       "      <td> 2102</td>\n",
       "      <td>   3</td>\n",
       "      <td> int64</td>\n",
       "    </tr>\n",
       "    <tr>\n",
       "      <th>14 </th>\n",
       "      <td>    tobrt_2</td>\n",
       "      <td>        9</td>\n",
       "      <td> 4846</td>\n",
       "      <td> 2069</td>\n",
       "      <td>   2</td>\n",
       "      <td> int64</td>\n",
       "    </tr>\n",
       "    <tr>\n",
       "      <th>15 </th>\n",
       "      <td>    tobrt_3</td>\n",
       "      <td>        9</td>\n",
       "      <td> 4846</td>\n",
       "      <td> 2069</td>\n",
       "      <td>   2</td>\n",
       "      <td> int64</td>\n",
       "    </tr>\n",
       "    <tr>\n",
       "      <th>16 </th>\n",
       "      <td>    tobrt_4</td>\n",
       "      <td>        9</td>\n",
       "      <td> 4846</td>\n",
       "      <td> 4846</td>\n",
       "      <td>   2</td>\n",
       "      <td> int64</td>\n",
       "    </tr>\n",
       "    <tr>\n",
       "      <th>17 </th>\n",
       "      <td>    tobrt_5</td>\n",
       "      <td>        9</td>\n",
       "      <td> 4846</td>\n",
       "      <td> 2069</td>\n",
       "      <td>   2</td>\n",
       "      <td> int64</td>\n",
       "    </tr>\n",
       "    <tr>\n",
       "      <th>18 </th>\n",
       "      <td>   toboft_1</td>\n",
       "      <td>        9</td>\n",
       "      <td> 4846</td>\n",
       "      <td> 4552</td>\n",
       "      <td>   3</td>\n",
       "      <td> int64</td>\n",
       "    </tr>\n",
       "    <tr>\n",
       "      <th>19 </th>\n",
       "      <td>   toboft_2</td>\n",
       "      <td>        9</td>\n",
       "      <td> 4846</td>\n",
       "      <td> 2183</td>\n",
       "      <td>   3</td>\n",
       "      <td> int64</td>\n",
       "    </tr>\n",
       "    <tr>\n",
       "      <th>20 </th>\n",
       "      <td>   toboft_3</td>\n",
       "      <td>        9</td>\n",
       "      <td> 4846</td>\n",
       "      <td> 2141</td>\n",
       "      <td>   3</td>\n",
       "      <td> int64</td>\n",
       "    </tr>\n",
       "    <tr>\n",
       "      <th>21 </th>\n",
       "      <td>   toboft_4</td>\n",
       "      <td>        9</td>\n",
       "      <td> 4846</td>\n",
       "      <td> 2101</td>\n",
       "      <td>   3</td>\n",
       "      <td> int64</td>\n",
       "    </tr>\n",
       "    <tr>\n",
       "      <th>22 </th>\n",
       "      <td>   toboft_5</td>\n",
       "      <td>        9</td>\n",
       "      <td> 4846</td>\n",
       "      <td> 2082</td>\n",
       "      <td>   3</td>\n",
       "      <td> int64</td>\n",
       "    </tr>\n",
       "    <tr>\n",
       "      <th>23 </th>\n",
       "      <td>   toboft_6</td>\n",
       "      <td>        9</td>\n",
       "      <td> 4846</td>\n",
       "      <td> 2077</td>\n",
       "      <td>   3</td>\n",
       "      <td> int64</td>\n",
       "    </tr>\n",
       "    <tr>\n",
       "      <th>24 </th>\n",
       "      <td>   toboft_7</td>\n",
       "      <td>        9</td>\n",
       "      <td> 4846</td>\n",
       "      <td> 2124</td>\n",
       "      <td>   3</td>\n",
       "      <td> int64</td>\n",
       "    </tr>\n",
       "    <tr>\n",
       "      <th>25 </th>\n",
       "      <td>   toboftco</td>\n",
       "      <td>         </td>\n",
       "      <td> 4846</td>\n",
       "      <td> 4846</td>\n",
       "      <td>  11</td>\n",
       "      <td>   str</td>\n",
       "    </tr>\n",
       "    <tr>\n",
       "      <th>26 </th>\n",
       "      <td>   tobtreat</td>\n",
       "      <td>        9</td>\n",
       "      <td> 4846</td>\n",
       "      <td> 2087</td>\n",
       "      <td>   3</td>\n",
       "      <td> int64</td>\n",
       "    </tr>\n",
       "    <tr>\n",
       "      <th>27 </th>\n",
       "      <td> tobtrtyp_1</td>\n",
       "      <td>        9</td>\n",
       "      <td> 4846</td>\n",
       "      <td> 4845</td>\n",
       "      <td>   3</td>\n",
       "      <td> int64</td>\n",
       "    </tr>\n",
       "    <tr>\n",
       "      <th>28 </th>\n",
       "      <td> tobtrtyp_2</td>\n",
       "      <td>        9</td>\n",
       "      <td> 4846</td>\n",
       "      <td> 4840</td>\n",
       "      <td>   3</td>\n",
       "      <td> int64</td>\n",
       "    </tr>\n",
       "    <tr>\n",
       "      <th>29 </th>\n",
       "      <td> tobtrtyp_3</td>\n",
       "      <td>        9</td>\n",
       "      <td> 4846</td>\n",
       "      <td> 4841</td>\n",
       "      <td>   3</td>\n",
       "      <td> int64</td>\n",
       "    </tr>\n",
       "    <tr>\n",
       "      <th>...</th>\n",
       "      <td>...</td>\n",
       "      <td>...</td>\n",
       "      <td>...</td>\n",
       "      <td>...</td>\n",
       "      <td>...</td>\n",
       "      <td>...</td>\n",
       "    </tr>\n",
       "    <tr>\n",
       "      <th>272</th>\n",
       "      <td>  drgrole_5</td>\n",
       "      <td>        0</td>\n",
       "      <td> 4846</td>\n",
       "      <td>  208</td>\n",
       "      <td>   2</td>\n",
       "      <td> int64</td>\n",
       "    </tr>\n",
       "    <tr>\n",
       "      <th>273</th>\n",
       "      <td>  drgrole_6</td>\n",
       "      <td>        0</td>\n",
       "      <td> 4846</td>\n",
       "      <td>  504</td>\n",
       "      <td>   2</td>\n",
       "      <td> int64</td>\n",
       "    </tr>\n",
       "    <tr>\n",
       "      <th>274</th>\n",
       "      <td>  drgrole_7</td>\n",
       "      <td>        1</td>\n",
       "      <td> 4846</td>\n",
       "      <td> 1399</td>\n",
       "      <td>   2</td>\n",
       "      <td> int64</td>\n",
       "    </tr>\n",
       "    <tr>\n",
       "      <th>275</th>\n",
       "      <td>  drgrole_8</td>\n",
       "      <td>        0</td>\n",
       "      <td> 4846</td>\n",
       "      <td>   72</td>\n",
       "      <td>   2</td>\n",
       "      <td> int64</td>\n",
       "    </tr>\n",
       "    <tr>\n",
       "      <th>276</th>\n",
       "      <td>   drgrolea</td>\n",
       "      <td>         </td>\n",
       "      <td> 4846</td>\n",
       "      <td> 4846</td>\n",
       "      <td>  34</td>\n",
       "      <td>   str</td>\n",
       "    </tr>\n",
       "    <tr>\n",
       "      <th>277</th>\n",
       "      <td>     prison</td>\n",
       "      <td>        0</td>\n",
       "      <td> 4846</td>\n",
       "      <td>  599</td>\n",
       "      <td>   2</td>\n",
       "      <td> int64</td>\n",
       "    </tr>\n",
       "    <tr>\n",
       "      <th>278</th>\n",
       "      <td>     sexint</td>\n",
       "      <td>        0</td>\n",
       "      <td> 4846</td>\n",
       "      <td> 2946</td>\n",
       "      <td>   2</td>\n",
       "      <td> int64</td>\n",
       "    </tr>\n",
       "    <tr>\n",
       "      <th>279</th>\n",
       "      <td>  sexpart_1</td>\n",
       "      <td>        9</td>\n",
       "      <td> 4846</td>\n",
       "      <td> 2634</td>\n",
       "      <td>   3</td>\n",
       "      <td> int64</td>\n",
       "    </tr>\n",
       "    <tr>\n",
       "      <th>280</th>\n",
       "      <td>  sexpart_2</td>\n",
       "      <td>        9</td>\n",
       "      <td> 4846</td>\n",
       "      <td> 3238</td>\n",
       "      <td>   3</td>\n",
       "      <td> int64</td>\n",
       "    </tr>\n",
       "    <tr>\n",
       "      <th>281</th>\n",
       "      <td>  sexpart_3</td>\n",
       "      <td>        9</td>\n",
       "      <td> 4846</td>\n",
       "      <td> 2271</td>\n",
       "      <td>   3</td>\n",
       "      <td> int64</td>\n",
       "    </tr>\n",
       "    <tr>\n",
       "      <th>282</th>\n",
       "      <td>  sexpart_4</td>\n",
       "      <td>        9</td>\n",
       "      <td> 4846</td>\n",
       "      <td> 2378</td>\n",
       "      <td>   3</td>\n",
       "      <td> int64</td>\n",
       "    </tr>\n",
       "    <tr>\n",
       "      <th>283</th>\n",
       "      <td>  sexpart_5</td>\n",
       "      <td>        9</td>\n",
       "      <td> 4846</td>\n",
       "      <td> 2412</td>\n",
       "      <td>   3</td>\n",
       "      <td> int64</td>\n",
       "    </tr>\n",
       "    <tr>\n",
       "      <th>284</th>\n",
       "      <td>  sexpart_6</td>\n",
       "      <td>        9</td>\n",
       "      <td> 4846</td>\n",
       "      <td> 2232</td>\n",
       "      <td>   3</td>\n",
       "      <td> int64</td>\n",
       "    </tr>\n",
       "    <tr>\n",
       "      <th>285</th>\n",
       "      <td>  sexpart_7</td>\n",
       "      <td>        9</td>\n",
       "      <td> 4846</td>\n",
       "      <td> 2244</td>\n",
       "      <td>   3</td>\n",
       "      <td> int64</td>\n",
       "    </tr>\n",
       "    <tr>\n",
       "      <th>286</th>\n",
       "      <td>  sexpart_8</td>\n",
       "      <td>        9</td>\n",
       "      <td> 4846</td>\n",
       "      <td> 1929</td>\n",
       "      <td>   3</td>\n",
       "      <td> int64</td>\n",
       "    </tr>\n",
       "    <tr>\n",
       "      <th>287</th>\n",
       "      <td>   sexparta</td>\n",
       "      <td>         </td>\n",
       "      <td> 4846</td>\n",
       "      <td> 4846</td>\n",
       "      <td>  20</td>\n",
       "      <td>   str</td>\n",
       "    </tr>\n",
       "    <tr>\n",
       "      <th>288</th>\n",
       "      <td>     sexsps</td>\n",
       "      <td>     9999</td>\n",
       "      <td> 4846</td>\n",
       "      <td> 4846</td>\n",
       "      <td>   3</td>\n",
       "      <td> int64</td>\n",
       "    </tr>\n",
       "    <tr>\n",
       "      <th>289</th>\n",
       "      <td>     sexstp</td>\n",
       "      <td>     9999</td>\n",
       "      <td> 4846</td>\n",
       "      <td> 4846</td>\n",
       "      <td>   7</td>\n",
       "      <td> int64</td>\n",
       "    </tr>\n",
       "    <tr>\n",
       "      <th>290</th>\n",
       "      <td>     sexocp</td>\n",
       "      <td>     9999</td>\n",
       "      <td> 4846</td>\n",
       "      <td> 4846</td>\n",
       "      <td>  15</td>\n",
       "      <td> int64</td>\n",
       "    </tr>\n",
       "    <tr>\n",
       "      <th>291</th>\n",
       "      <td>     sexfrn</td>\n",
       "      <td>     9999</td>\n",
       "      <td> 4846</td>\n",
       "      <td> 4846</td>\n",
       "      <td>  20</td>\n",
       "      <td> int64</td>\n",
       "    </tr>\n",
       "    <tr>\n",
       "      <th>292</th>\n",
       "      <td>     sexacq</td>\n",
       "      <td>     9999</td>\n",
       "      <td> 4846</td>\n",
       "      <td> 4846</td>\n",
       "      <td>  22</td>\n",
       "      <td> int64</td>\n",
       "    </tr>\n",
       "    <tr>\n",
       "      <th>293</th>\n",
       "      <td>     sexpay</td>\n",
       "      <td>     9999</td>\n",
       "      <td> 4846</td>\n",
       "      <td> 4846</td>\n",
       "      <td>  24</td>\n",
       "      <td> int64</td>\n",
       "    </tr>\n",
       "    <tr>\n",
       "      <th>294</th>\n",
       "      <td>    sexstrn</td>\n",
       "      <td>     9999</td>\n",
       "      <td> 4846</td>\n",
       "      <td> 4846</td>\n",
       "      <td>  25</td>\n",
       "      <td> int64</td>\n",
       "    </tr>\n",
       "    <tr>\n",
       "      <th>295</th>\n",
       "      <td>     sexoth</td>\n",
       "      <td>     9999</td>\n",
       "      <td> 4846</td>\n",
       "      <td> 4846</td>\n",
       "      <td>   6</td>\n",
       "      <td> int64</td>\n",
       "    </tr>\n",
       "    <tr>\n",
       "      <th>296</th>\n",
       "      <td>     condom</td>\n",
       "      <td>        9</td>\n",
       "      <td> 4846</td>\n",
       "      <td> 4846</td>\n",
       "      <td>   5</td>\n",
       "      <td> int64</td>\n",
       "    </tr>\n",
       "    <tr>\n",
       "      <th>297</th>\n",
       "      <td>  sextype_1</td>\n",
       "      <td>        9</td>\n",
       "      <td> 4846</td>\n",
       "      <td> 4709</td>\n",
       "      <td>   3</td>\n",
       "      <td> int64</td>\n",
       "    </tr>\n",
       "    <tr>\n",
       "      <th>298</th>\n",
       "      <td>  sextype_2</td>\n",
       "      <td>        9</td>\n",
       "      <td> 4846</td>\n",
       "      <td> 2034</td>\n",
       "      <td>   3</td>\n",
       "      <td> int64</td>\n",
       "    </tr>\n",
       "    <tr>\n",
       "      <th>299</th>\n",
       "      <td>  sextype_3</td>\n",
       "      <td>        9</td>\n",
       "      <td> 4846</td>\n",
       "      <td> 2003</td>\n",
       "      <td>   3</td>\n",
       "      <td> int64</td>\n",
       "    </tr>\n",
       "    <tr>\n",
       "      <th>300</th>\n",
       "      <td>  sextype_4</td>\n",
       "      <td>        9</td>\n",
       "      <td> 4846</td>\n",
       "      <td> 1900</td>\n",
       "      <td>   2</td>\n",
       "      <td> int64</td>\n",
       "    </tr>\n",
       "    <tr>\n",
       "      <th>301</th>\n",
       "      <td>   sextypea</td>\n",
       "      <td>         </td>\n",
       "      <td> 4846</td>\n",
       "      <td> 4846</td>\n",
       "      <td>  14</td>\n",
       "      <td>   str</td>\n",
       "    </tr>\n",
       "  </tbody>\n",
       "</table>\n",
       "<p>302 rows × 6 columns</p>\n",
       "</div>"
      ],
      "text/plain": [
       "         column first_value  num_nonnan  num_nonzero  num_uniques   type\n",
       "0       id.date    9/8/2009        4846         4846          121    str\n",
       "1            id           1        4846         4846           92  int64\n",
       "2          year        1954        4846         4846           67  int64\n",
       "3     druguse_1           0        4846         2777            2  int64\n",
       "4     druguse_2           0        4846         2499            2  int64\n",
       "5     druguse_3           0        4846         1881            2  int64\n",
       "6     druguse_4           0        4846          400            2  int64\n",
       "7     druguse_5           0        4846          817            2  int64\n",
       "8     druguse_6           0        4846         1214            2  int64\n",
       "9     druguse_7           0        4846          929            2  int64\n",
       "10    druguse_8           0        4846          873            2  int64\n",
       "11    druguse_9           0        4846          263            2  int64\n",
       "12   druguse_10           0        4846          428            2  int64\n",
       "13      tobrt_1           9        4846         2102            3  int64\n",
       "14      tobrt_2           9        4846         2069            2  int64\n",
       "15      tobrt_3           9        4846         2069            2  int64\n",
       "16      tobrt_4           9        4846         4846            2  int64\n",
       "17      tobrt_5           9        4846         2069            2  int64\n",
       "18     toboft_1           9        4846         4552            3  int64\n",
       "19     toboft_2           9        4846         2183            3  int64\n",
       "20     toboft_3           9        4846         2141            3  int64\n",
       "21     toboft_4           9        4846         2101            3  int64\n",
       "22     toboft_5           9        4846         2082            3  int64\n",
       "23     toboft_6           9        4846         2077            3  int64\n",
       "24     toboft_7           9        4846         2124            3  int64\n",
       "25     toboftco                    4846         4846           11    str\n",
       "26     tobtreat           9        4846         2087            3  int64\n",
       "27   tobtrtyp_1           9        4846         4845            3  int64\n",
       "28   tobtrtyp_2           9        4846         4840            3  int64\n",
       "29   tobtrtyp_3           9        4846         4841            3  int64\n",
       "..          ...         ...         ...          ...          ...    ...\n",
       "272   drgrole_5           0        4846          208            2  int64\n",
       "273   drgrole_6           0        4846          504            2  int64\n",
       "274   drgrole_7           1        4846         1399            2  int64\n",
       "275   drgrole_8           0        4846           72            2  int64\n",
       "276    drgrolea                    4846         4846           34    str\n",
       "277      prison           0        4846          599            2  int64\n",
       "278      sexint           0        4846         2946            2  int64\n",
       "279   sexpart_1           9        4846         2634            3  int64\n",
       "280   sexpart_2           9        4846         3238            3  int64\n",
       "281   sexpart_3           9        4846         2271            3  int64\n",
       "282   sexpart_4           9        4846         2378            3  int64\n",
       "283   sexpart_5           9        4846         2412            3  int64\n",
       "284   sexpart_6           9        4846         2232            3  int64\n",
       "285   sexpart_7           9        4846         2244            3  int64\n",
       "286   sexpart_8           9        4846         1929            3  int64\n",
       "287    sexparta                    4846         4846           20    str\n",
       "288      sexsps        9999        4846         4846            3  int64\n",
       "289      sexstp        9999        4846         4846            7  int64\n",
       "290      sexocp        9999        4846         4846           15  int64\n",
       "291      sexfrn        9999        4846         4846           20  int64\n",
       "292      sexacq        9999        4846         4846           22  int64\n",
       "293      sexpay        9999        4846         4846           24  int64\n",
       "294     sexstrn        9999        4846         4846           25  int64\n",
       "295      sexoth        9999        4846         4846            6  int64\n",
       "296      condom           9        4846         4846            5  int64\n",
       "297   sextype_1           9        4846         4709            3  int64\n",
       "298   sextype_2           9        4846         2034            3  int64\n",
       "299   sextype_3           9        4846         2003            3  int64\n",
       "300   sextype_4           9        4846         1900            2  int64\n",
       "301    sextypea                    4846         4846           14    str\n",
       "\n",
       "[302 rows x 6 columns]"
      ]
     },
     "execution_count": 269,
     "metadata": {},
     "output_type": "execute_result"
    }
   ],
   "source": [
    "diag_df(d)"
   ]
  },
  {
   "cell_type": "code",
   "execution_count": 264,
   "metadata": {
    "collapsed": false
   },
   "outputs": [
    {
     "data": {
      "text/plain": [
       "['col_order_01',\n",
       " 'verbose_level',\n",
       " 'drugs',\n",
       " 'facc',\n",
       " 'data_storers',\n",
       " 'data_makers',\n",
       " 'data_dependencies',\n",
       " 'yearly_csv_file',\n",
       " 'store',\n",
       " 'variable_map']"
      ]
     },
     "execution_count": 264,
     "metadata": {},
     "output_type": "execute_result"
    }
   ],
   "source": [
    "dlc.__dict__.keys()"
   ]
  },
  {
   "cell_type": "code",
   "execution_count": 265,
   "metadata": {
    "collapsed": false
   },
   "outputs": [
    {
     "data": {
      "text/plain": [
       "<class 'util.pstore.MyStore'>\n",
       "File path: /D/Dropbox/dev/py/data/socio/drug_lifecourse/lifecourse.h5\n",
       "Empty"
      ]
     },
     "execution_count": 265,
     "metadata": {},
     "output_type": "execute_result"
    }
   ],
   "source": [
    "dlc.store"
   ]
  },
  {
   "cell_type": "code",
   "execution_count": 260,
   "metadata": {
    "collapsed": false
   },
   "outputs": [
    {
     "name": "stdout",
     "output_type": "stream",
     "text": [
      "ODUS_Demo_30 Day.csv          ODUS_Demo_30 Day_summary.pdf  ODUS_Yearly_labels.dat\r\n",
      "ODUS_Demo_30 Day.dat          ODUS_Yearly.csv               ODUS_Yearly_summary.pdf\r\n",
      "ODUS_Demo_30 Day.sav          ODUS_Yearly.dat               lifecourse.h5\r\n",
      "ODUS_Demo_30 Day_labels.csv   ODUS_Yearly.sav\r\n",
      "ODUS_Demo_30 Day_labels.dat   ODUS_Yearly_labels.csv\r\n"
     ]
    }
   ],
   "source": [
    "ls /D/Dropbox/dev/py/data/socio/drug_lifecourse/"
   ]
  },
  {
   "cell_type": "code",
   "execution_count": 282,
   "metadata": {
    "collapsed": false
   },
   "outputs": [
    {
     "name": "stderr",
     "output_type": "stream",
     "text": [
      "[autoreload of misc.drug_lifecourse.data_flow failed: Traceback (most recent call last):\n",
      "  File \"/Users/thor/anaconda/lib/python2.7/site-packages/IPython/extensions/autoreload.py\", line 247, in check\n",
      "    superreload(m, reload, self.old_objects)\n",
      "ImportError: cannot import name binarization_map\n",
      "]\n"
     ]
    },
    {
     "data": {
      "text/plain": [
       "array([0, 1])"
      ]
     },
     "execution_count": 282,
     "metadata": {},
     "output_type": "execute_result"
    }
   ],
   "source": [
    "d['prison'].unique()"
   ]
  },
  {
   "cell_type": "code",
   "execution_count": 283,
   "metadata": {
    "collapsed": false
   },
   "outputs": [],
   "source": [
    "t = d[d['sexint'].isin([4])]"
   ]
  },
  {
   "cell_type": "code",
   "execution_count": 284,
   "metadata": {
    "collapsed": false
   },
   "outputs": [
    {
     "data": {
      "text/plain": [
       "array([0, 1])"
      ]
     },
     "execution_count": 284,
     "metadata": {},
     "output_type": "execute_result"
    }
   ],
   "source": [
    "d['sexint'].unique()"
   ]
  },
  {
   "cell_type": "code",
   "execution_count": null,
   "metadata": {
    "collapsed": false
   },
   "outputs": [],
   "source": []
  }
 ],
 "metadata": {
  "anaconda-cloud": {},
  "kernelspec": {
   "display_name": "Python [default]",
   "language": "python",
   "name": "python2"
  },
  "language_info": {
   "codemirror_mode": {
    "name": "ipython",
    "version": 2
   },
   "file_extension": ".py",
   "mimetype": "text/x-python",
   "name": "python",
   "nbconvert_exporter": "python",
   "pygments_lexer": "ipython2",
   "version": "2.7.13"
  },
  "toc": {
   "colors": {
    "hover_highlight": "#DAA520",
    "running_highlight": "#FF0000",
    "selected_highlight": "#FFD700"
   },
   "moveMenuLeft": true,
   "nav_menu": {
    "height": "139px",
    "width": "252px"
   },
   "navigate_menu": true,
   "number_sections": true,
   "sideBar": true,
   "threshold": 4,
   "toc_cell": false,
   "toc_section_display": "block",
   "toc_window_display": false
  }
 },
 "nbformat": 4,
 "nbformat_minor": 0
}
