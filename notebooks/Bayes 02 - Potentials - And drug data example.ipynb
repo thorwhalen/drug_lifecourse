{
 "cells": [
  {
   "cell_type": "code",
   "execution_count": 4,
   "metadata": {
    "ExecuteTime": {
     "end_time": "2018-08-13T00:19:01.007444Z",
     "start_time": "2018-08-13T00:19:00.955023Z"
    }
   },
   "outputs": [
    {
     "name": "stdout",
     "output_type": "stream",
     "text": [
      "The autoreload extension is already loaded. To reload it, use:\n",
      "  %reload_ext autoreload\n"
     ]
    }
   ],
   "source": [
    "%load_ext autoreload\n",
    "%autoreload 2\n",
    "import pdb\n",
    "from ut.util.bugger import Bugger\n",
    "#import pfile.accessor as pfile_accessor\n",
    "import pandas as pd\n",
    "import numpy as np\n",
    "import os\n",
    "#from misc.drug_lifecourse.data_flow import DrugLifeCourse\n",
    "# import ms_utils.daf.ch\n",
    "# import ms_utils.daf.get\n",
    "import ut.daf as daf\n",
    "import ut.daf.ch\n",
    "import ut.daf.get\n",
    "import ut.daf.addcol\n",
    "from ut.ppi.pot import Pot"
   ]
  },
  {
   "cell_type": "code",
   "execution_count": null,
   "metadata": {},
   "outputs": [],
   "source": []
  },
  {
   "cell_type": "markdown",
   "metadata": {},
   "source": [
    "### Making a few potentials from count data"
   ]
  },
  {
   "cell_type": "code",
   "execution_count": 5,
   "metadata": {
    "ExecuteTime": {
     "end_time": "2018-08-13T00:19:04.469909Z",
     "start_time": "2018-08-13T00:19:04.368150Z"
    }
   },
   "outputs": [
    {
     "name": "stdout",
     "output_type": "stream",
     "text": [
      "\n",
      "--- count_data data ---\n",
      "   A  B  C  count\n",
      "0  0  1  1      0\n",
      "1  0  0  1      0\n",
      "2  0  1  1      3\n",
      "3  0  0  0      3\n",
      "4  0  0  1      1\n",
      "etc.\n",
      "\n",
      "--- abc count potential ---\n",
      "  A  B  C  pval\n",
      "  0  0  0     4\n",
      "  0  0  1     7\n",
      "  0  1  0    10\n",
      "  0  1  1     5\n",
      "  1  0  0     4\n",
      "  1  0  1    10\n",
      "  1  1  0     8\n",
      "  1  1  1     1\n",
      "\n",
      "--- ab count potential ---\n",
      "  A  B  pval\n",
      "  0  0    11\n",
      "  0  1    15\n",
      "  1  0    14\n",
      "  1  1     9\n",
      "\n",
      "--- bc count potential ---\n",
      "  B  C  pval\n",
      "  0  0     8\n",
      "  0  1    17\n",
      "  1  0    18\n",
      "  1  1     6\n",
      "\n",
      "--- b count potential ---\n",
      "  B  pval\n",
      "  0    25\n",
      "  1    24\n"
     ]
    }
   ],
   "source": [
    "count_data = daf.get.rand(nrows=34, values_spec=[range(2), range(2), range(2), range(4)], columns=['A', 'B', 'C', 'count'])\n",
    "print \"\\n--- count_data data ---\"\n",
    "print count_data.head()\n",
    "print 'etc.'\n",
    "abc = Pot.from_count_df_to_count(count_df=count_data[['A','B','C','count']], count_col='count')\n",
    "ab = abc[['A','B']]\n",
    "bc = abc[['B','C']]\n",
    "b = abc[['B']]\n",
    "print \"\\n--- abc count potential ---\"\n",
    "print abc\n",
    "print \"\\n--- ab count potential ---\"\n",
    "print ab\n",
    "print \"\\n--- bc count potential ---\"\n",
    "print bc\n",
    "print \"\\n--- b count potential ---\"\n",
    "print b"
   ]
  },
  {
   "cell_type": "markdown",
   "metadata": {},
   "source": [
    "### Making a few potentials from pts data"
   ]
  },
  {
   "cell_type": "code",
   "execution_count": 6,
   "metadata": {
    "ExecuteTime": {
     "end_time": "2018-08-13T00:19:14.844577Z",
     "start_time": "2018-08-13T00:19:14.759190Z"
    }
   },
   "outputs": [
    {
     "name": "stdout",
     "output_type": "stream",
     "text": [
      "\n",
      "--- pts data ---\n",
      "   A  B  C\n",
      "0  0  0  1\n",
      "1  1  0  1\n",
      "2  1  0  1\n",
      "3  0  0  1\n",
      "4  1  1  1\n",
      "etc.\n",
      "\n",
      "--- abc count potential ---\n",
      "  A  B  C  pval\n",
      "  0  0  0     2\n",
      "  0  0  1     6\n",
      "  0  1  0     1\n",
      "  0  1  1     4\n",
      "  1  0  0     5\n",
      "  1  0  1     5\n",
      "  1  1  0     6\n",
      "  1  1  1     5\n",
      "\n",
      "--- ab count potential ---\n",
      "  A  B  pval\n",
      "  0  0     8\n",
      "  0  1     5\n",
      "  1  0    10\n",
      "  1  1    11\n",
      "\n",
      "--- bc count potential ---\n",
      "  B  C  pval\n",
      "  0  0     7\n",
      "  0  1    11\n",
      "  1  0     7\n",
      "  1  1     9\n",
      "\n",
      "--- b count potential ---\n",
      "  B  pval\n",
      "  0    18\n",
      "  1    16\n"
     ]
    }
   ],
   "source": [
    "pts = daf.get.rand(nrows=34, values_spec=[range(2), range(2), range(2), range(2)], columns=['A', 'B', 'C'])\n",
    "print \"\\n--- pts data ---\"\n",
    "print pts.head()\n",
    "print 'etc.'\n",
    "abc = Pot.from_points_to_count(pts[['A','B','C']])\n",
    "ab = abc[['A','B']]\n",
    "bc = abc[['B','C']]\n",
    "b = abc[['B']]\n",
    "print \"\\n--- abc count potential ---\"\n",
    "print abc\n",
    "print \"\\n--- ab count potential ---\"\n",
    "print ab\n",
    "print \"\\n--- bc count potential ---\"\n",
    "print bc\n",
    "print \"\\n--- b count potential ---\"\n",
    "print b"
   ]
  },
  {
   "cell_type": "markdown",
   "metadata": {},
   "source": [
    "### Having a look at some operations"
   ]
  },
  {
   "cell_type": "code",
   "execution_count": 7,
   "metadata": {
    "ExecuteTime": {
     "end_time": "2018-08-13T00:19:18.323951Z",
     "start_time": "2018-08-13T00:19:18.236972Z"
    }
   },
   "outputs": [
    {
     "name": "stdout",
     "output_type": "stream",
     "text": [
      "\n",
      "--- abc count potential ---\n",
      "  A  B  C  pval\n",
      "  0  0  0     2\n",
      "  0  0  1     3\n",
      "  0  1  0     5\n",
      "  0  1  1     7\n",
      "  1  0  0    11\n",
      "  1  0  1    13\n",
      "  1  1  0    17\n",
      "  1  1  1    19\n",
      "\n",
      "--- ab count potential ---\n",
      "  A  B  pval\n",
      "  0  0     2\n",
      "  0  1     3\n",
      "  1  0     5\n",
      "  1  1     7\n",
      "\n",
      "--- bc count potential ---\n",
      "  B  C  pval\n",
      "  0  0     2\n",
      "  0  1     3\n",
      "  1  0     5\n",
      "  1  1     7\n",
      "\n",
      "--- b count potential ---\n",
      "  B  pval\n",
      "  0     2\n",
      "  1     3\n",
      "\n",
      "--- a count potential ---\n",
      "  A  pval\n",
      "  0     2\n",
      "  1     3\n"
     ]
    }
   ],
   "source": [
    "prime_list = np.array([2, 3, 5, 7, 11, 13, 17, 19, 23, 29, 31, 37, 41, 43, 47, 53, 59, 61, 67, 71, 73, 79, 83, 89, 97])\n",
    "float_list = prime_list\n",
    "\n",
    "idx = 0; idx_end = len(abc.tb)\n",
    "abc.tb['pval'] = float_list[idx:idx_end]\n",
    "\n",
    "idx = 0; idx_end = len(ab.tb)\n",
    "ab.tb['pval'] = float_list[idx:idx_end]\n",
    "\n",
    "idx = 0; idx_end = len(bc.tb)\n",
    "bc.tb['pval'] = float_list[idx:idx_end]\n",
    "\n",
    "idx = 0; idx_end = len(b.tb)\n",
    "b.tb['pval'] = float_list[idx:idx_end]\n",
    "\n",
    "idx = 0; idx_end = len(b.tb)\n",
    "b.tb['pval'] = float_list[idx:idx_end]\n",
    "\n",
    "a = Pot(daf.ch.ch_col_names(b.tb, 'A', 'B'))\n",
    "idx = 0; idx_end = len(a.tb)\n",
    "a.tb['pval'] = float_list[idx:idx_end]\n",
    "\n",
    "# idx = 0; idx_end = idx + len(abc.tb)\n",
    "# abc.tb['val'] = float_list[idx:idx_end]\n",
    "\n",
    "# idx = idx_end; idx_end = idx + len(ab.tb)\n",
    "# ab.tb['val'] = float_list[idx:idx_end]\n",
    "\n",
    "# idx = idx_end; idx_end = idx + len(bc.tb)\n",
    "# bc.tb['val'] = float_list[idx:idx_end]\n",
    "\n",
    "# idx = idx_end; idx_end = idx + len(b.tb)\n",
    "# b.tb['val'] = float_list[idx:idx_end]\n",
    "\n",
    "# idx = idx_end; idx_end = idx + len(b.tb)\n",
    "# b.tb['val'] = float_list[idx:idx_end]\n",
    "\n",
    "# a = Pot(daf.ch.ch_col_names(b.tb, 'A', 'B'))\n",
    "# idx = idx_end; idx_end = idx + len(a.tb)\n",
    "# a.tb['val'] = float_list[idx:idx_end]\n",
    "\n",
    "print \"\\n--- abc count potential ---\"\n",
    "print abc\n",
    "print \"\\n--- ab count potential ---\"\n",
    "print ab\n",
    "print \"\\n--- bc count potential ---\"\n",
    "print bc\n",
    "print \"\\n--- b count potential ---\"\n",
    "print b\n",
    "print \"\\n--- a count potential ---\"\n",
    "print a\n"
   ]
  },
  {
   "cell_type": "code",
   "execution_count": 8,
   "metadata": {
    "ExecuteTime": {
     "end_time": "2018-08-13T00:19:31.627333Z",
     "start_time": "2018-08-13T00:19:31.571966Z"
    }
   },
   "outputs": [
    {
     "name": "stdout",
     "output_type": "stream",
     "text": [
      "  A  B  pval_x  C  pval_y\n",
      "  0  0       2  0       2\n",
      "  0  0       2  1       3\n",
      "  1  0       5  0       2\n",
      "  1  0       5  1       3\n",
      "  0  1       3  0       5\n",
      "  0  1       3  1       7\n",
      "  1  1       7  0       5\n",
      "  1  1       7  1       7\n"
     ]
    }
   ],
   "source": [
    "print ut.daf.ch.empty_index(ab._merge_(bc))"
   ]
  },
  {
   "cell_type": "code",
   "execution_count": 9,
   "metadata": {
    "ExecuteTime": {
     "end_time": "2018-08-13T00:19:38.159058Z",
     "start_time": "2018-08-13T00:19:38.110928Z"
    }
   },
   "outputs": [
    {
     "name": "stdout",
     "output_type": "stream",
     "text": [
      "  A  B  C  pval\n",
      "  0  0  0     4\n",
      "  0  0  1     6\n",
      "  1  0  0    10\n",
      "  1  0  1    15\n",
      "  0  1  0    15\n",
      "  0  1  1    21\n",
      "  1  1  0    35\n",
      "  1  1  1    49\n"
     ]
    }
   ],
   "source": [
    "print ab * bc"
   ]
  },
  {
   "cell_type": "code",
   "execution_count": 10,
   "metadata": {
    "ExecuteTime": {
     "end_time": "2018-08-13T00:19:39.164966Z",
     "start_time": "2018-08-13T00:19:39.112569Z"
    }
   },
   "outputs": [
    {
     "name": "stdout",
     "output_type": "stream",
     "text": [
      "  A  B  pval\n",
      "  0  0     4\n",
      "  1  0    10\n",
      "  0  1     9\n",
      "  1  1    21\n"
     ]
    }
   ],
   "source": [
    "print ab * b"
   ]
  },
  {
   "cell_type": "code",
   "execution_count": 11,
   "metadata": {
    "ExecuteTime": {
     "end_time": "2018-08-13T00:19:39.900284Z",
     "start_time": "2018-08-13T00:19:39.852506Z"
    }
   },
   "outputs": [
    {
     "name": "stdout",
     "output_type": "stream",
     "text": [
      "  A  B  pval\n",
      "  0  0     4\n",
      "  0  1     6\n",
      "  1  0     6\n",
      "  1  1     9\n"
     ]
    }
   ],
   "source": [
    "print a * b"
   ]
  },
  {
   "cell_type": "code",
   "execution_count": null,
   "metadata": {
    "ExecuteTime": {
     "start_time": "2018-08-13T00:19:42.187Z"
    }
   },
   "outputs": [
    {
     "name": "stdout",
     "output_type": "stream",
     "text": [
      "   A  pval_x  B  pval_y\n",
      "0  0       2  0       2\n",
      "1  0       2  1       3\n",
      "2  1       3  0       2\n",
      "3  1       3  1       3\n",
      "_________________\n",
      "  A  B      pval\n",
      "  0  0  1.000000\n",
      "  0  1  0.666667\n",
      "  1  0  1.500000\n",
      "  1  1  1.000000\n"
     ]
    }
   ],
   "source": [
    "print a._merge_(b)\n",
    "print '_________________'\n",
    "print a / b"
   ]
  },
  {
   "cell_type": "markdown",
   "metadata": {},
   "source": [
    "#### Marginalization (or \"projection\", or \"factoring in\", or \"normalization\")"
   ]
  },
  {
   "cell_type": "code",
   "execution_count": null,
   "metadata": {
    "ExecuteTime": {
     "start_time": "2018-08-13T00:20:05.529Z"
    }
   },
   "outputs": [
    {
     "data": {
      "text/plain": [
       "     pval\n",
       "A B      \n",
       "0 0     2\n",
       "  1     3\n",
       "1 0     5\n",
       "  1     7"
      ]
     },
     "execution_count": 13,
     "metadata": {},
     "output_type": "execute_result"
    }
   ],
   "source": [
    "ab"
   ]
  },
  {
   "cell_type": "code",
   "execution_count": null,
   "metadata": {
    "ExecuteTime": {
     "start_time": "2018-08-13T00:20:09.280Z"
    }
   },
   "outputs": [
    {
     "data": {
      "text/plain": [
       "   pval\n",
       "A      \n",
       "0     5\n",
       "1    12"
      ]
     },
     "execution_count": 14,
     "metadata": {},
     "output_type": "execute_result"
    }
   ],
   "source": [
    "ab>>'A'"
   ]
  },
  {
   "cell_type": "code",
   "execution_count": null,
   "metadata": {
    "ExecuteTime": {
     "start_time": "2018-08-13T00:20:16.320Z"
    }
   },
   "outputs": [
    {
     "data": {
      "text/plain": [
       "   pval\n",
       "A      \n",
       "0     5\n",
       "1    12"
      ]
     },
     "execution_count": 15,
     "metadata": {},
     "output_type": "execute_result"
    }
   ],
   "source": [
    "ab>>['A']"
   ]
  },
  {
   "cell_type": "code",
   "execution_count": null,
   "metadata": {
    "ExecuteTime": {
     "start_time": "2018-08-13T00:20:17.854Z"
    }
   },
   "outputs": [
    {
     "data": {
      "text/plain": [
       "   pval\n",
       "B      \n",
       "0     7\n",
       "1    10"
      ]
     },
     "execution_count": 16,
     "metadata": {},
     "output_type": "execute_result"
    }
   ],
   "source": [
    "ab>>'B'"
   ]
  },
  {
   "cell_type": "code",
   "execution_count": 14,
   "metadata": {},
   "outputs": [
    {
     "data": {
      "text/plain": [
       "   pval\n",
       "A      \n",
       "0     5\n",
       "1    12"
      ]
     },
     "execution_count": 14,
     "metadata": {},
     "output_type": "execute_result"
    }
   ],
   "source": [
    "# marginalization happens over the intersection of the given variable list and the variables the potential actually has \n",
    "# (other variables are ignored)\n",
    "ab>>['A', 'variable that does not exist', 'blah blah']"
   ]
  },
  {
   "cell_type": "code",
   "execution_count": 15,
   "metadata": {},
   "outputs": [
    {
     "data": {
      "text/plain": [
       "     pval\n",
       "A B      \n",
       "0 0     2\n",
       "  1     3\n",
       "1 0     5\n",
       "  1     7"
      ]
     },
     "execution_count": 15,
     "metadata": {},
     "output_type": "execute_result"
    }
   ],
   "source": [
    "# marginalizing over the whole set of variables doesn't do anything\n",
    "ab>>['A', 'B']"
   ]
  },
  {
   "cell_type": "code",
   "execution_count": 16,
   "metadata": {},
   "outputs": [
    {
     "data": {
      "text/plain": [
       "  pval\n",
       "    17"
      ]
     },
     "execution_count": 16,
     "metadata": {},
     "output_type": "execute_result"
    }
   ],
   "source": [
    "# marginalizing over nothing (the empty set) essentially normalizes the val vector (divides each element by the sum of all elements)\n",
    "ab>>[]"
   ]
  },
  {
   "cell_type": "markdown",
   "metadata": {},
   "source": [
    "#### Conditioning (as in Prob(A|B))"
   ]
  },
  {
   "cell_type": "code",
   "execution_count": 17,
   "metadata": {},
   "outputs": [
    {
     "data": {
      "text/plain": [
       "     pval\n",
       "B C      \n",
       "0 0     2\n",
       "  1     3\n",
       "1 0     5\n",
       "  1     7"
      ]
     },
     "execution_count": 17,
     "metadata": {},
     "output_type": "execute_result"
    }
   ],
   "source": [
    "bc"
   ]
  },
  {
   "cell_type": "code",
   "execution_count": 19,
   "metadata": {},
   "outputs": [
    {
     "data": {
      "text/plain": [
       "         pval\n",
       "B C          \n",
       "0 0  0.117647\n",
       "  1  0.176471\n",
       "1 0  0.294118\n",
       "  1  0.411765"
      ]
     },
     "execution_count": 19,
     "metadata": {},
     "output_type": "execute_result"
    }
   ],
   "source": [
    "# Conditioning on [] is like normalization. If you start with a count potential, you get a joint-probability table \n",
    "# (with probabilities badly estimated in this small sample case)\n",
    "# Note that all pvals sum to 1\n",
    "bc / []"
   ]
  },
  {
   "cell_type": "code",
   "execution_count": 21,
   "metadata": {},
   "outputs": [
    {
     "data": {
      "text/plain": [
       "         pval\n",
       "B C          \n",
       "0 0  0.400000\n",
       "  1  0.600000\n",
       "1 0  0.416667\n",
       "  1  0.583333"
      ]
     },
     "execution_count": 21,
     "metadata": {},
     "output_type": "execute_result"
    }
   ],
   "source": [
    "# The following is like the conditional probability P(B|C) = P(BC)/P(B)\n",
    "# Note that all pvals with same B sum up to 1\n",
    "bc / 'B'"
   ]
  },
  {
   "cell_type": "code",
   "execution_count": 23,
   "metadata": {},
   "outputs": [
    {
     "data": {
      "text/plain": [
       "           pval\n",
       "A B C          \n",
       "0 0 0  0.117647\n",
       "    1  0.176471\n",
       "  1 0  0.294118\n",
       "    1  0.411765\n",
       "1 0 0  0.183333\n",
       "    1  0.216667\n",
       "  1 0  0.283333\n",
       "    1  0.316667"
      ]
     },
     "execution_count": 23,
     "metadata": {},
     "output_type": "execute_result"
    }
   ],
   "source": [
    "abc / ['A']"
   ]
  },
  {
   "cell_type": "code",
   "execution_count": 24,
   "metadata": {},
   "outputs": [
    {
     "data": {
      "text/plain": [
       "           pval\n",
       "A B C          \n",
       "0 0 0  0.400000\n",
       "    1  0.600000\n",
       "  1 0  0.416667\n",
       "    1  0.583333\n",
       "1 0 0  0.458333\n",
       "    1  0.541667\n",
       "  1 0  0.472222\n",
       "    1  0.527778"
      ]
     },
     "execution_count": 24,
     "metadata": {},
     "output_type": "execute_result"
    }
   ],
   "source": [
    "abc / ['A','B']"
   ]
  },
  {
   "cell_type": "code",
   "execution_count": 25,
   "metadata": {},
   "outputs": [
    {
     "data": {
      "text/plain": [
       "       pval\n",
       "A B C      \n",
       "0 0 0     1\n",
       "    1     1\n",
       "  1 0     1\n",
       "    1     1\n",
       "1 0 0     1\n",
       "    1     1\n",
       "  1 0     1\n",
       "    1     1"
      ]
     },
     "execution_count": 25,
     "metadata": {},
     "output_type": "execute_result"
    }
   ],
   "source": [
    "abc / ['A','B','C']"
   ]
  },
  {
   "cell_type": "markdown",
   "metadata": {},
   "source": [
    "#### Slicing (taking sub-spaces defined by intercepts)"
   ]
  },
  {
   "cell_type": "code",
   "execution_count": 26,
   "metadata": {},
   "outputs": [
    {
     "data": {
      "text/plain": [
       "  pval\n",
       "     3"
      ]
     },
     "execution_count": 26,
     "metadata": {},
     "output_type": "execute_result"
    }
   ],
   "source": [
    "ab[{'A':0, 'B':1}]"
   ]
  },
  {
   "cell_type": "code",
   "execution_count": 27,
   "metadata": {},
   "outputs": [
    {
     "data": {
      "text/plain": [
       "   pval\n",
       "B      \n",
       "0     2\n",
       "1     3"
      ]
     },
     "execution_count": 27,
     "metadata": {},
     "output_type": "execute_result"
    }
   ],
   "source": [
    "ab[{'A':0}]"
   ]
  },
  {
   "cell_type": "markdown",
   "metadata": {},
   "source": [
    "### A few utils"
   ]
  },
  {
   "cell_type": "code",
   "execution_count": 28,
   "metadata": {},
   "outputs": [
    {
     "data": {
      "text/plain": [
       "     pval\n",
       "A B      \n",
       "0 0     2\n",
       "  1     3\n",
       "1 0     5\n",
       "  1     7"
      ]
     },
     "execution_count": 28,
     "metadata": {},
     "output_type": "execute_result"
    }
   ],
   "source": [
    "ab"
   ]
  },
  {
   "cell_type": "code",
   "execution_count": 38,
   "metadata": {},
   "outputs": [
    {
     "data": {
      "text/plain": [
       "     pval\n",
       "B A      \n",
       "0 0     2\n",
       "  1     5\n",
       "1 0     3\n",
       "  1     7"
      ]
     },
     "execution_count": 38,
     "metadata": {},
     "output_type": "execute_result"
    }
   ],
   "source": [
    "ab.order_vars('B')"
   ]
  },
  {
   "cell_type": "code",
   "execution_count": 39,
   "metadata": {},
   "outputs": [
    {
     "data": {
      "text/plain": [
       "     pval\n",
       "B A      \n",
       "0 0     2\n",
       "  1     5\n",
       "1 0     3\n",
       "  1     7"
      ]
     },
     "execution_count": 39,
     "metadata": {},
     "output_type": "execute_result"
    }
   ],
   "source": [
    "# !!! Note order_vars returns a pot, but also changes the pot IN PLACE\n",
    "#   (So if you want to not have this, you should make a copy of the pot first -- ab_copy = Pot(ab).order_vars('A'))\n",
    "# !!! Also note that by default order_vars sorts the points (re-orders var values) by default \n",
    "#   (you can change this with by setting the sort_pts flag to False)\n",
    "ab"
   ]
  },
  {
   "cell_type": "code",
   "execution_count": 40,
   "metadata": {},
   "outputs": [
    {
     "data": {
      "text/plain": [
       "     pval\n",
       "A B      \n",
       "0 0     2\n",
       "  1     3\n",
       "1 0     5\n",
       "  1     7"
      ]
     },
     "execution_count": 40,
     "metadata": {},
     "output_type": "execute_result"
    }
   ],
   "source": [
    "Pot(ab).order_vars('A', sort_pts=True)"
   ]
  },
  {
   "cell_type": "code",
   "execution_count": 41,
   "metadata": {},
   "outputs": [
    {
     "data": {
      "text/plain": [
       "     pval\n",
       "A B      \n",
       "0 0     2\n",
       "1 0     5\n",
       "0 1     3\n",
       "1 1     7"
      ]
     },
     "execution_count": 41,
     "metadata": {},
     "output_type": "execute_result"
    }
   ],
   "source": [
    "Pot(ab).order_vars('A', sort_pts=False)"
   ]
  },
  {
   "cell_type": "code",
   "execution_count": 28,
   "metadata": {},
   "outputs": [],
   "source": []
  },
  {
   "cell_type": "markdown",
   "metadata": {},
   "source": [
    "### Misc"
   ]
  },
  {
   "cell_type": "code",
   "execution_count": 42,
   "metadata": {},
   "outputs": [
    {
     "data": {
      "text/plain": [
       "       pval\n",
       "A B C      \n",
       "0 0 0     2\n",
       "    1     3\n",
       "  1 0     5\n",
       "    1     7\n",
       "1 0 0    11\n",
       "    1    13\n",
       "  1 0    17\n",
       "    1    19"
      ]
     },
     "execution_count": 42,
     "metadata": {},
     "output_type": "execute_result"
    }
   ],
   "source": [
    "abc"
   ]
  },
  {
   "cell_type": "code",
   "execution_count": 44,
   "metadata": {},
   "outputs": [
    {
     "data": {
      "text/plain": [
       "           pval\n",
       "A B C          \n",
       "0 0 0  0.117647\n",
       "    1  0.176471\n",
       "  1 0  0.294118\n",
       "    1  0.411765\n",
       "1 0 0  0.183333\n",
       "    1  0.216667\n",
       "  1 0  0.283333\n",
       "    1  0.316667"
      ]
     },
     "execution_count": 44,
     "metadata": {},
     "output_type": "execute_result"
    }
   ],
   "source": [
    "(abc/'A')"
   ]
  },
  {
   "cell_type": "code",
   "execution_count": 45,
   "metadata": {},
   "outputs": [
    {
     "data": {
      "text/plain": [
       "         pval\n",
       "B C          \n",
       "0 0  0.183333\n",
       "  1  0.216667\n",
       "1 0  0.283333\n",
       "  1  0.316667"
      ]
     },
     "execution_count": 45,
     "metadata": {},
     "output_type": "execute_result"
    }
   ],
   "source": [
    "(abc/'A')[{'A':1}]"
   ]
  },
  {
   "cell_type": "code",
   "execution_count": 46,
   "metadata": {},
   "outputs": [
    {
     "data": {
      "text/plain": [
       "         pval\n",
       "B C          \n",
       "0 0  0.183333\n",
       "  1  0.216667\n",
       "1 0  0.283333\n",
       "  1  0.316667"
      ]
     },
     "execution_count": 46,
     "metadata": {},
     "output_type": "execute_result"
    }
   ],
   "source": [
    "abc/{'A':1}"
   ]
  },
  {
   "cell_type": "code",
   "execution_count": 47,
   "metadata": {},
   "outputs": [
    {
     "data": {
      "text/plain": [
       "       pval\n",
       "C          \n",
       "0  0.458333\n",
       "1  0.541667"
      ]
     },
     "execution_count": 47,
     "metadata": {},
     "output_type": "execute_result"
    }
   ],
   "source": [
    "abc/{'A':1, 'B':0}"
   ]
  },
  {
   "cell_type": "code",
   "execution_count": 33,
   "metadata": {},
   "outputs": [],
   "source": []
  },
  {
   "cell_type": "markdown",
   "metadata": {},
   "source": [
    "### Drug Data"
   ]
  },
  {
   "cell_type": "code",
   "execution_count": 52,
   "metadata": {},
   "outputs": [
    {
     "name": "stdout",
     "output_type": "stream",
     "text": [
      "The autoreload extension is already loaded. To reload it, use:\n",
      "  %reload_ext autoreload\n"
     ]
    }
   ],
   "source": [
    "%load_ext autoreload\n",
    "%autoreload 2\n",
    "import pdb\n",
    "from util.bugger import Bugger\n",
    "#import pfile.accessor as pfile_accessor\n",
    "import pandas as pd\n",
    "import numpy as np\n",
    "from misc.drug_lifecourse.data_flow import DrugLifeCourse\n",
    "import daf.ch\n",
    "import daf.get\n",
    "from ppi.pot import Pot\n",
    "from ppi.pot import ProbPot"
   ]
  },
  {
   "cell_type": "code",
   "execution_count": 24,
   "metadata": {},
   "outputs": [
    {
     "data": {
      "text/html": [
       "<div style=\"max-height:1000px;max-width:1500px;overflow:auto;\">\n",
       "<table border=\"1\" class=\"dataframe\">\n",
       "  <thead>\n",
       "    <tr style=\"text-align: right;\">\n",
       "      <th></th>\n",
       "      <th>id</th>\n",
       "      <th>year</th>\n",
       "      <th>age</th>\n",
       "      <th>alc</th>\n",
       "      <th>tob</th>\n",
       "      <th>mar</th>\n",
       "      <th>hal</th>\n",
       "      <th>prp</th>\n",
       "      <th>coc</th>\n",
       "      <th>crk</th>\n",
       "      <th>her</th>\n",
       "      <th>amp</th>\n",
       "      <th>met</th>\n",
       "    </tr>\n",
       "  </thead>\n",
       "  <tbody>\n",
       "    <tr>\n",
       "      <th>16</th>\n",
       "      <td> 1</td>\n",
       "      <td> 1970</td>\n",
       "      <td> 16</td>\n",
       "      <td> 0</td>\n",
       "      <td> 1</td>\n",
       "      <td> 0</td>\n",
       "      <td> 0</td>\n",
       "      <td> 0</td>\n",
       "      <td> 0</td>\n",
       "      <td> 0</td>\n",
       "      <td> 0</td>\n",
       "      <td> 0</td>\n",
       "      <td> 0</td>\n",
       "    </tr>\n",
       "    <tr>\n",
       "      <th>17</th>\n",
       "      <td> 1</td>\n",
       "      <td> 1971</td>\n",
       "      <td> 17</td>\n",
       "      <td> 0</td>\n",
       "      <td> 1</td>\n",
       "      <td> 0</td>\n",
       "      <td> 0</td>\n",
       "      <td> 0</td>\n",
       "      <td> 0</td>\n",
       "      <td> 0</td>\n",
       "      <td> 0</td>\n",
       "      <td> 0</td>\n",
       "      <td> 0</td>\n",
       "    </tr>\n",
       "    <tr>\n",
       "      <th>18</th>\n",
       "      <td> 1</td>\n",
       "      <td> 1972</td>\n",
       "      <td> 18</td>\n",
       "      <td> 0</td>\n",
       "      <td> 1</td>\n",
       "      <td> 1</td>\n",
       "      <td> 0</td>\n",
       "      <td> 0</td>\n",
       "      <td> 0</td>\n",
       "      <td> 0</td>\n",
       "      <td> 0</td>\n",
       "      <td> 0</td>\n",
       "      <td> 0</td>\n",
       "    </tr>\n",
       "    <tr>\n",
       "      <th>19</th>\n",
       "      <td> 1</td>\n",
       "      <td> 1973</td>\n",
       "      <td> 19</td>\n",
       "      <td> 0</td>\n",
       "      <td> 1</td>\n",
       "      <td> 1</td>\n",
       "      <td> 0</td>\n",
       "      <td> 0</td>\n",
       "      <td> 0</td>\n",
       "      <td> 0</td>\n",
       "      <td> 0</td>\n",
       "      <td> 1</td>\n",
       "      <td> 0</td>\n",
       "    </tr>\n",
       "    <tr>\n",
       "      <th>20</th>\n",
       "      <td> 1</td>\n",
       "      <td> 1974</td>\n",
       "      <td> 20</td>\n",
       "      <td> 0</td>\n",
       "      <td> 1</td>\n",
       "      <td> 1</td>\n",
       "      <td> 1</td>\n",
       "      <td> 0</td>\n",
       "      <td> 0</td>\n",
       "      <td> 0</td>\n",
       "      <td> 0</td>\n",
       "      <td> 1</td>\n",
       "      <td> 0</td>\n",
       "    </tr>\n",
       "  </tbody>\n",
       "</table>\n",
       "</div>"
      ],
      "text/plain": [
       "    id  year  age  alc  tob  mar  hal  prp  coc  crk  her  amp  met\n",
       "16   1  1970   16    0    1    0    0    0    0    0    0    0    0\n",
       "17   1  1971   17    0    1    0    0    0    0    0    0    0    0\n",
       "18   1  1972   18    0    1    1    0    0    0    0    0    0    0\n",
       "19   1  1973   19    0    1    1    0    0    0    0    0    1    0\n",
       "20   1  1974   20    0    1    1    1    0    0    0    0    1    0"
      ]
     },
     "execution_count": 24,
     "metadata": {},
     "output_type": "execute_result"
    }
   ],
   "source": [
    "dlc = DrugLifeCourse()\n",
    "data = dlc.get_data('drug_use_data')\n",
    "data = daf.manip.reorder_columns_as(data,['id','age','year'])\n",
    "data = data[data['age']>=16]\n",
    "data.head()"
   ]
  },
  {
   "cell_type": "code",
   "execution_count": 25,
   "metadata": {},
   "outputs": [
    {
     "data": {
      "text/plain": [
       "Index([u'alc', u'tob', u'mar', u'hal', u'prp', u'coc', u'crk', u'her', u'amp', u'met'], dtype='object')"
      ]
     },
     "execution_count": 25,
     "metadata": {},
     "output_type": "execute_result"
    }
   ],
   "source": [
    "drugs = data.columns[3:]\n",
    "drugs"
   ]
  },
  {
   "cell_type": "code",
   "execution_count": 32,
   "metadata": {},
   "outputs": [
    {
     "data": {
      "text/plain": [
       "         pval\n",
       "mar crk      \n",
       "0   0    1094\n",
       "    1     536\n",
       "1   0    1351\n",
       "    1     393"
      ]
     },
     "execution_count": 32,
     "metadata": {},
     "output_type": "execute_result"
    }
   ],
   "source": [
    "# make count potentials for all pairs of drugs\n",
    "n_drugs = len(drugs)\n",
    "count_pot = dict()\n",
    "for i in range(n_drugs-1):\n",
    "    for j in range(i+1, n_drugs):\n",
    "        count_pot = dict(count_pot, **{(drugs[i], drugs[j]): Pot.from_points_to_count(data[[drugs[i], drugs[j]]])})\n",
    "        count_pot = dict(count_pot, **{(drugs[j], drugs[i]): Pot.from_points_to_count(data[[drugs[j], drugs[i]]])})\n",
    "# display the first\n",
    "count_pot['mar','crk']"
   ]
  },
  {
   "cell_type": "code",
   "execution_count": 33,
   "metadata": {},
   "outputs": [
    {
     "data": {
      "text/plain": [
       "         pval\n",
       "mar coc      \n",
       "0   0    1150\n",
       "    1     480\n",
       "1   0    1029\n",
       "    1     715"
      ]
     },
     "execution_count": 33,
     "metadata": {},
     "output_type": "execute_result"
    }
   ],
   "source": [
    "count_pot['mar','coc']"
   ]
  },
  {
   "cell_type": "code",
   "execution_count": 35,
   "metadata": {},
   "outputs": [
    {
     "name": "stdout",
     "output_type": "stream",
     "text": [
      "  mar  coc  pval\n",
      "    0    0  1150\n",
      "    0    1   480\n",
      "    1    0  1029\n",
      "    1    1   715\n",
      "  mar  coc      pval\n",
      "    0    0  0.705521\n",
      "    0    1  0.294479\n",
      "    1    0  0.590023\n",
      "    1    1  0.409977\n",
      "  mar  coc      pval\n",
      "    0    0  0.705521\n",
      "    0    1  0.294479\n",
      "    1    0  0.590023\n",
      "    1    1  0.409977\n",
      "  mar  coc      pval\n",
      "    0    0  0.340842\n",
      "    0    1  0.142264\n",
      "    1    0  0.304979\n",
      "    1    1  0.211915\n",
      "  mar  coc      pval\n",
      "    0    0  0.705521\n",
      "    0    1  0.294479\n",
      "    1    0  0.590023\n",
      "    1    1  0.409977\n"
     ]
    }
   ],
   "source": [
    "t = count_pot['mar','coc']\n",
    "print t\n",
    "print t / 'mar'\n",
    "print t / (t>>'mar')\n",
    "tt = t / ''\n",
    "print tt\n",
    "print tt / 'mar'"
   ]
  },
  {
   "cell_type": "code",
   "execution_count": 36,
   "metadata": {},
   "outputs": [],
   "source": [
    "# make joint probability potentials for all pairs of drugs\n",
    "n_drugs = len(drugs)\n",
    "jprob_pot = {k:(v/[]) for (k, v) in count_pot.iteritems()}"
   ]
  },
  {
   "cell_type": "code",
   "execution_count": 37,
   "metadata": {},
   "outputs": [
    {
     "data": {
      "text/plain": [
       "             pval\n",
       "mar crk          \n",
       "0   0    0.324244\n",
       "    1    0.158862\n",
       "1   0    0.400415\n",
       "    1    0.116479"
      ]
     },
     "execution_count": 37,
     "metadata": {},
     "output_type": "execute_result"
    }
   ],
   "source": [
    "jprob_pot['mar','crk']"
   ]
  },
  {
   "cell_type": "code",
   "execution_count": 38,
   "metadata": {},
   "outputs": [
    {
     "data": {
      "text/plain": [
       "         pval\n",
       "crk          \n",
       "0    0.774656\n",
       "1    0.225344"
      ]
     },
     "execution_count": 38,
     "metadata": {},
     "output_type": "execute_result"
    }
   ],
   "source": [
    "x = jprob_pot['mar','crk']\n",
    "x / {'mar':1}"
   ]
  },
  {
   "cell_type": "code",
   "execution_count": 39,
   "metadata": {},
   "outputs": [
    {
     "name": "stdout",
     "output_type": "stream",
     "text": [
      "I'm trying to discourage using | now (might want to use it for fuzzy logic at some point\n",
      "--> Use / instead of |. \n"
     ]
    },
    {
     "data": {
      "text/plain": [
       "      pval\n",
       "  0.225344"
      ]
     },
     "execution_count": 39,
     "metadata": {},
     "output_type": "execute_result"
    }
   ],
   "source": [
    "(x|{'mar':1})[{'crk':1}]"
   ]
  },
  {
   "cell_type": "code",
   "execution_count": 41,
   "metadata": {},
   "outputs": [
    {
     "data": {
      "text/plain": [
       "      pval\n",
       "  0.685281"
      ]
     },
     "execution_count": 41,
     "metadata": {},
     "output_type": "execute_result"
    }
   ],
   "source": [
    "# relative risk of crk given mar\n",
    "t = (x/{'mar':1})[{'crk':1}] / (x/{'mar':0})[{'crk':1}]\n",
    "t"
   ]
  },
  {
   "cell_type": "code",
   "execution_count": 42,
   "metadata": {},
   "outputs": [
    {
     "data": {
      "text/plain": [
       "      pval\n",
       "  1.154195"
      ]
     },
     "execution_count": 42,
     "metadata": {},
     "output_type": "execute_result"
    }
   ],
   "source": [
    "# relative risk of NOT crk given mar\n",
    "t = (x/{'mar':1})[{'crk':0}] / (x/{'mar':0})[{'crk':0}]\n",
    "t"
   ]
  },
  {
   "cell_type": "code",
   "execution_count": 10,
   "metadata": {},
   "outputs": [
    {
     "data": {
      "text/plain": [
       "      pval\n",
       "  0.765597"
      ]
     },
     "execution_count": 10,
     "metadata": {},
     "output_type": "execute_result"
    }
   ],
   "source": [
    "# relative risk of mar given crk\n",
    "t = (x|{'crk':1})[{'mar':1}]/(x|{'crk':0})[{'mar':1}]\n",
    "t"
   ]
  },
  {
   "cell_type": "code",
   "execution_count": 43,
   "metadata": {},
   "outputs": [
    {
     "name": "stdout",
     "output_type": "stream",
     "text": [
      "I'm trying to discourage using | now (might want to use it for fuzzy logic at some point\n",
      "--> Use / instead of |. \n",
      "I'm trying to discourage using | now (might want to use it for fuzzy logic at some point\n",
      "--> Use / instead of |. \n"
     ]
    },
    {
     "data": {
      "text/plain": [
       "      pval\n",
       "  0.765597"
      ]
     },
     "execution_count": 43,
     "metadata": {},
     "output_type": "execute_result"
    }
   ],
   "source": [
    "xx = ProbPot(x)\n",
    "xx.relative_risk(event_var='mar', exposure_var='crk')"
   ]
  },
  {
   "cell_type": "code",
   "execution_count": 12,
   "metadata": {},
   "outputs": [
    {
     "data": {
      "text/plain": [
       "             pval\n",
       "mar crk          \n",
       "0   0    0.324244\n",
       "    1    0.158862\n",
       "1   0    0.400415\n",
       "    1    0.116479"
      ]
     },
     "execution_count": 12,
     "metadata": {},
     "output_type": "execute_result"
    }
   ],
   "source": [
    "xx = ProbPot(x)\n",
    "xx.relative_risk(event_var='crk', exposure_var='mar')"
   ]
  },
  {
   "cell_type": "code",
   "execution_count": 53,
   "metadata": {},
   "outputs": [
    {
     "name": "stdout",
     "output_type": "stream",
     "text": [
      "I'm trying to discourage using | now (might want to use it for fuzzy logic at some point\n",
      "--> Use / instead of |. \n",
      "I'm trying to discourage using | now (might want to use it for fuzzy logic at some point\n",
      "--> Use / instead of |. \n",
      "I'm trying to discourage using | now (might want to use it for fuzzy logic at some point\n",
      "--> Use / instead of |. \n",
      "I'm trying to discourage using | now (might want to use it for fuzzy logic at some point\n",
      "--> Use / instead of |. \n",
      "I'm trying to discourage using | now (might want to use it for fuzzy logic at some point\n",
      "--> Use / instead of |. \n",
      "I'm trying to discourage using | now (might want to use it for fuzzy logic at some point\n",
      "--> Use / instead of |. \n",
      "I'm trying to discourage using | now (might want to use it for fuzzy logic at some point\n",
      "--> Use / instead of |. \n",
      "I'm trying to discourage using | now (might want to use it for fuzzy logic at some point\n",
      "--> Use / instead of |. \n",
      "I'm trying to discourage using | now (might want to use it for fuzzy logic at some point\n",
      "--> Use / instead of |. \n",
      "I'm trying to discourage using | now (might want to use it for fuzzy logic at some point\n",
      "--> Use / instead of |. \n",
      "I'm trying to discourage using | now (might want to use it for fuzzy logic at some point\n",
      "--> Use / instead of |. \n",
      "I'm trying to discourage using | now (might want to use it for fuzzy logic at some point\n",
      "--> Use / instead of |. \n",
      "I'm trying to discourage using | now (might want to use it for fuzzy logic at some point\n",
      "--> Use / instead of |. \n",
      "I'm trying to discourage using | now (might want to use it for fuzzy logic at some point\n",
      "--> Use / instead of |. \n",
      "I'm trying to discourage using | now (might want to use it for fuzzy logic at some point\n",
      "--> Use / instead of |. \n",
      "I'm trying to discourage using | now (might want to use it for fuzzy logic at some point\n",
      "--> Use / instead of |. \n",
      "I'm trying to discourage using | now (might want to use it for fuzzy logic at some point\n",
      "--> Use / instead of |. \n",
      "I'm trying to discourage using | now (might want to use it for fuzzy logic at some point\n",
      "--> Use / instead of |. \n",
      "I'm trying to discourage using | now (might want to use it for fuzzy logic at some point\n",
      "--> Use / instead of |. \n",
      "I'm trying to discourage using | now (might want to use it for fuzzy logic at some point\n",
      "--> Use / instead of |. \n",
      "I'm trying to discourage using | now (might want to use it for fuzzy logic at some point\n",
      "--> Use / instead of |. \n",
      "I'm trying to discourage using | now (might want to use it for fuzzy logic at some point\n",
      "--> Use / instead of |. \n",
      "I'm trying to discourage using | now (might want to use it for fuzzy logic at some point\n",
      "--> Use / instead of |. \n",
      "I'm trying to discourage using | now (might want to use it for fuzzy logic at some point\n",
      "--> Use / instead of |. \n",
      "I'm trying to discourage using | now (might want to use it for fuzzy logic at some point\n",
      "--> Use / instead of |. \n",
      "I'm trying to discourage using | now (might want to use it for fuzzy logic at some point\n",
      "--> Use / instead of |. \n",
      "I'm trying to discourage using | now (might want to use it for fuzzy logic at some point\n",
      "--> Use / instead of |. \n",
      "I'm trying to discourage using | now (might want to use it for fuzzy logic at some point\n",
      "--> Use / instead of |. \n",
      "I'm trying to discourage using | now (might want to use it for fuzzy logic at some point\n",
      "--> Use / instead of |. \n",
      "I'm trying to discourage using | now (might want to use it for fuzzy logic at some point\n",
      "--> Use / instead of |. \n",
      "I'm trying to discourage using | now (might want to use it for fuzzy logic at some point\n",
      "--> Use / instead of |. \n",
      "I'm trying to discourage using | now (might want to use it for fuzzy logic at some point\n",
      "--> Use / instead of |. \n",
      "I'm trying to discourage using | now (might want to use it for fuzzy logic at some point\n",
      "--> Use / instead of |. \n",
      "I'm trying to discourage using | now (might want to use it for fuzzy logic at some point\n",
      "--> Use / instead of |. \n",
      "I'm trying to discourage using | now (might want to use it for fuzzy logic at some point\n",
      "--> Use / instead of |. \n",
      "I'm trying to discourage using | now (might want to use it for fuzzy logic at some point\n",
      "--> Use / instead of |. \n",
      "I'm trying to discourage using | now (might want to use it for fuzzy logic at some point\n",
      "--> Use / instead of |. \n",
      "I'm trying to discourage using | now (might want to use it for fuzzy logic at some point\n",
      "--> Use / instead of |. \n",
      "I'm trying to discourage using | now (might want to use it for fuzzy logic at some point\n",
      "--> Use / instead of |. \n",
      "I'm trying to discourage using | now (might want to use it for fuzzy logic at some point\n",
      "--> Use / instead of |. \n",
      "I'm trying to discourage using | now (might want to use it for fuzzy logic at some point\n",
      "--> Use / instead of |. \n",
      "I'm trying to discourage using | now (might want to use it for fuzzy logic at some point\n",
      "--> Use / instead of |. \n",
      "I'm trying to discourage using | now (might want to use it for fuzzy logic at some point\n",
      "--> Use / instead of |. \n",
      "I'm trying to discourage using | now (might want to use it for fuzzy logic at some point\n",
      "--> Use / instead of |. \n",
      "I'm trying to discourage using | now (might want to use it for fuzzy logic at some point\n",
      "--> Use / instead of |. \n",
      "I'm trying to discourage using | now (might want to use it for fuzzy logic at some point\n",
      "--> Use / instead of |. \n",
      "I'm trying to discourage using | now (might want to use it for fuzzy logic at some point\n",
      "--> Use / instead of |. \n",
      "I'm trying to discourage using | now (might want to use it for fuzzy logic at some point\n",
      "--> Use / instead of |. \n",
      "I'm trying to discourage using | now (might want to use it for fuzzy logic at some point\n",
      "--> Use / instead of |. \n",
      "I'm trying to discourage using | now (might want to use it for fuzzy logic at some point\n",
      "--> Use / instead of |. \n",
      "I'm trying to discourage using | now (might want to use it for fuzzy logic at some point\n",
      "--> Use / instead of |. \n",
      "I'm trying to discourage using | now (might want to use it for fuzzy logic at some point\n",
      "--> Use / instead of |. \n",
      "I'm trying to discourage using | now (might want to use it for fuzzy logic at some point\n",
      "--> Use / instead of |. \n",
      "I'm trying to discourage using | now (might want to use it for fuzzy logic at some point\n",
      "--> Use / instead of |. \n",
      "I'm trying to discourage using | now (might want to use it for fuzzy logic at some point\n",
      "--> Use / instead of |. \n",
      "I'm trying to discourage using | now (might want to use it for fuzzy logic at some point\n",
      "--> Use / instead of |. \n",
      "I'm trying to discourage using | now (might want to use it for fuzzy logic at some point\n",
      "--> Use / instead of |. \n",
      "I'm trying to discourage using | now (might want to use it for fuzzy logic at some point\n",
      "--> Use / instead of |. \n",
      "I'm trying to discourage using | now (might want to use it for fuzzy logic at some point\n",
      "--> Use / instead of |. \n",
      "I'm trying to discourage using | now (might want to use it for fuzzy logic at some point\n",
      "--> Use / instead of |. \n",
      "I'm trying to discourage using | now (might want to use it for fuzzy logic at some point\n",
      "--> Use / instead of |. \n",
      "I'm trying to discourage using | now (might want to use it for fuzzy logic at some point\n",
      "--> Use / instead of |. \n",
      "I'm trying to discourage using | now (might want to use it for fuzzy logic at some point\n",
      "--> Use / instead of |. \n",
      "I'm trying to discourage using | now (might want to use it for fuzzy logic at some point\n",
      "--> Use / instead of |. \n",
      "I'm trying to discourage using | now (might want to use it for fuzzy logic at some point\n",
      "--> Use / instead of |. \n",
      "I'm trying to discourage using | now (might want to use it for fuzzy logic at some point\n",
      "--> Use / instead of |. \n",
      "I'm trying to discourage using | now (might want to use it for fuzzy logic at some point\n",
      "--> Use / instead of |. \n",
      "I'm trying to discourage using | now (might want to use it for fuzzy logic at some point\n",
      "--> Use / instead of |. \n",
      "I'm trying to discourage using | now (might want to use it for fuzzy logic at some point\n",
      "--> Use / instead of |. \n",
      "I'm trying to discourage using | now (might want to use it for fuzzy logic at some point\n",
      "--> Use / instead of |. \n",
      "I'm trying to discourage using | now (might want to use it for fuzzy logic at some point\n",
      "--> Use / instead of |. \n",
      "I'm trying to discourage using | now (might want to use it for fuzzy logic at some point\n",
      "--> Use / instead of |. \n"
     ]
    },
    {
     "name": "stdout",
     "output_type": "stream",
     "text": [
      "I'm trying to discourage using | now (might want to use it for fuzzy logic at some point\n",
      "--> Use / instead of |. \n",
      "I'm trying to discourage using | now (might want to use it for fuzzy logic at some point\n",
      "--> Use / instead of |. \n",
      "I'm trying to discourage using | now (might want to use it for fuzzy logic at some point\n",
      "--> Use / instead of |. \n",
      "I'm trying to discourage using | now (might want to use it for fuzzy logic at some point\n",
      "--> Use / instead of |. \n",
      "I'm trying to discourage using | now (might want to use it for fuzzy logic at some point\n",
      "--> Use / instead of |. \n",
      "I'm trying to discourage using | now (might want to use it for fuzzy logic at some point\n",
      "--> Use / instead of |. \n",
      "I'm trying to discourage using | now (might want to use it for fuzzy logic at some point\n",
      "--> Use / instead of |. \n",
      "I'm trying to discourage using | now (might want to use it for fuzzy logic at some point\n",
      "--> Use / instead of |. \n",
      "I'm trying to discourage using | now (might want to use it for fuzzy logic at some point\n",
      "--> Use / instead of |. \n",
      "I'm trying to discourage using | now (might want to use it for fuzzy logic at some point\n",
      "--> Use / instead of |. \n",
      "I'm trying to discourage using | now (might want to use it for fuzzy logic at some point\n",
      "--> Use / instead of |. \n",
      "I'm trying to discourage using | now (might want to use it for fuzzy logic at some point\n",
      "--> Use / instead of |. \n",
      "I'm trying to discourage using | now (might want to use it for fuzzy logic at some point\n",
      "--> Use / instead of |. \n",
      "I'm trying to discourage using | now (might want to use it for fuzzy logic at some point\n",
      "--> Use / instead of |. \n",
      "I'm trying to discourage using | now (might want to use it for fuzzy logic at some point\n",
      "--> Use / instead of |. \n",
      "I'm trying to discourage using | now (might want to use it for fuzzy logic at some point\n",
      "--> Use / instead of |. \n",
      "I'm trying to discourage using | now (might want to use it for fuzzy logic at some point\n",
      "--> Use / instead of |. \n",
      "I'm trying to discourage using | now (might want to use it for fuzzy logic at some point\n",
      "--> Use / instead of |. \n",
      "I'm trying to discourage using | now (might want to use it for fuzzy logic at some point\n",
      "--> Use / instead of |. \n",
      "I'm trying to discourage using | now (might want to use it for fuzzy logic at some point\n",
      "--> Use / instead of |. \n",
      "I'm trying to discourage using | now (might want to use it for fuzzy logic at some point\n",
      "--> Use / instead of |. \n",
      "I'm trying to discourage using | now (might want to use it for fuzzy logic at some point\n",
      "--> Use / instead of |. \n",
      "I'm trying to discourage using | now (might want to use it for fuzzy logic at some point\n",
      "--> Use / instead of |. \n",
      "I'm trying to discourage using | now (might want to use it for fuzzy logic at some point\n",
      "--> Use / instead of |. \n",
      "I'm trying to discourage using | now (might want to use it for fuzzy logic at some point\n",
      "--> Use / instead of |. \n",
      "I'm trying to discourage using | now (might want to use it for fuzzy logic at some point\n",
      "--> Use / instead of |. \n",
      "I'm trying to discourage using | now (might want to use it for fuzzy logic at some point\n",
      "--> Use / instead of |. \n",
      "I'm trying to discourage using | now (might want to use it for fuzzy logic at some point\n",
      "--> Use / instead of |. \n",
      "I'm trying to discourage using | now (might want to use it for fuzzy logic at some point\n",
      "--> Use / instead of |. \n",
      "I'm trying to discourage using | now (might want to use it for fuzzy logic at some point\n",
      "--> Use / instead of |. \n",
      "I'm trying to discourage using | now (might want to use it for fuzzy logic at some point\n",
      "--> Use / instead of |. \n",
      "I'm trying to discourage using | now (might want to use it for fuzzy logic at some point\n",
      "--> Use / instead of |. \n",
      "I'm trying to discourage using | now (might want to use it for fuzzy logic at some point\n",
      "--> Use / instead of |. \n",
      "I'm trying to discourage using | now (might want to use it for fuzzy logic at some point\n",
      "--> Use / instead of |. \n",
      "I'm trying to discourage using | now (might want to use it for fuzzy logic at some point\n",
      "--> Use / instead of |. \n",
      "I'm trying to discourage using | now (might want to use it for fuzzy logic at some point\n",
      "--> Use / instead of |. \n",
      "I'm trying to discourage using | now (might want to use it for fuzzy logic at some point\n",
      "--> Use / instead of |. \n",
      "I'm trying to discourage using | now (might want to use it for fuzzy logic at some point\n",
      "--> Use / instead of |. \n",
      "I'm trying to discourage using | now (might want to use it for fuzzy logic at some point\n",
      "--> Use / instead of |. \n",
      "I'm trying to discourage using | now (might want to use it for fuzzy logic at some point\n",
      "--> Use / instead of |. \n",
      "I'm trying to discourage using | now (might want to use it for fuzzy logic at some point\n",
      "--> Use / instead of |. \n",
      "I'm trying to discourage using | now (might want to use it for fuzzy logic at some point\n",
      "--> Use / instead of |. \n",
      "I'm trying to discourage using | now (might want to use it for fuzzy logic at some point\n",
      "--> Use / instead of |. \n",
      "I'm trying to discourage using | now (might want to use it for fuzzy logic at some point\n",
      "--> Use / instead of |. \n",
      "I'm trying to discourage using | now (might want to use it for fuzzy logic at some point\n",
      "--> Use / instead of |. \n",
      "I'm trying to discourage using | now (might want to use it for fuzzy logic at some point\n",
      "--> Use / instead of |. \n",
      "I'm trying to discourage using | now (might want to use it for fuzzy logic at some point\n",
      "--> Use / instead of |. \n",
      "I'm trying to discourage using | now (might want to use it for fuzzy logic at some point\n",
      "--> Use / instead of |. \n",
      "I'm trying to discourage using | now (might want to use it for fuzzy logic at some point\n",
      "--> Use / instead of |. \n",
      "I'm trying to discourage using | now (might want to use it for fuzzy logic at some point\n",
      "--> Use / instead of |. \n",
      "I'm trying to discourage using | now (might want to use it for fuzzy logic at some point\n",
      "--> Use / instead of |. \n",
      "I'm trying to discourage using | now (might want to use it for fuzzy logic at some point\n",
      "--> Use / instead of |. \n",
      "I'm trying to discourage using | now (might want to use it for fuzzy logic at some point\n",
      "--> Use / instead of |. \n",
      "I'm trying to discourage using | now (might want to use it for fuzzy logic at some point\n",
      "--> Use / instead of |. \n",
      "I'm trying to discourage using | now (might want to use it for fuzzy logic at some point\n",
      "--> Use / instead of |. \n",
      "I'm trying to discourage using | now (might want to use it for fuzzy logic at some point\n",
      "--> Use / instead of |. \n",
      "I'm trying to discourage using | now (might want to use it for fuzzy logic at some point\n",
      "--> Use / instead of |. \n",
      "I'm trying to discourage using | now (might want to use it for fuzzy logic at some point\n",
      "--> Use / instead of |. \n",
      "I'm trying to discourage using | now (might want to use it for fuzzy logic at some point\n",
      "--> Use / instead of |. \n",
      "I'm trying to discourage using | now (might want to use it for fuzzy logic at some point\n",
      "--> Use / instead of |. \n",
      "I'm trying to discourage using | now (might want to use it for fuzzy logic at some point\n",
      "--> Use / instead of |. \n",
      "I'm trying to discourage using | now (might want to use it for fuzzy logic at some point\n",
      "--> Use / instead of |. \n",
      "I'm trying to discourage using | now (might want to use it for fuzzy logic at some point\n",
      "--> Use / instead of |. \n",
      "I'm trying to discourage using | now (might want to use it for fuzzy logic at some point\n",
      "--> Use / instead of |. \n",
      "I'm trying to discourage using | now (might want to use it for fuzzy logic at some point\n",
      "--> Use / instead of |. \n",
      "I'm trying to discourage using | now (might want to use it for fuzzy logic at some point\n",
      "--> Use / instead of |. \n",
      "I'm trying to discourage using | now (might want to use it for fuzzy logic at some point\n",
      "--> Use / instead of |. \n",
      "I'm trying to discourage using | now (might want to use it for fuzzy logic at some point\n",
      "--> Use / instead of |. \n",
      "I'm trying to discourage using | now (might want to use it for fuzzy logic at some point\n",
      "--> Use / instead of |. \n",
      "I'm trying to discourage using | now (might want to use it for fuzzy logic at some point\n",
      "--> Use / instead of |. \n",
      "I'm trying to discourage using | now (might want to use it for fuzzy logic at some point\n",
      "--> Use / instead of |. \n",
      "I'm trying to discourage using | now (might want to use it for fuzzy logic at some point\n",
      "--> Use / instead of |. \n"
     ]
    },
    {
     "name": "stdout",
     "output_type": "stream",
     "text": [
      "I'm trying to discourage using | now (might want to use it for fuzzy logic at some point\n",
      "--> Use / instead of |. \n",
      "I'm trying to discourage using | now (might want to use it for fuzzy logic at some point\n",
      "--> Use / instead of |. \n",
      "I'm trying to discourage using | now (might want to use it for fuzzy logic at some point\n",
      "--> Use / instead of |. \n",
      "I'm trying to discourage using | now (might want to use it for fuzzy logic at some point\n",
      "--> Use / instead of |. \n",
      "I'm trying to discourage using | now (might want to use it for fuzzy logic at some point\n",
      "--> Use / instead of |. \n",
      "I'm trying to discourage using | now (might want to use it for fuzzy logic at some point\n",
      "--> Use / instead of |. \n",
      "I'm trying to discourage using | now (might want to use it for fuzzy logic at some point\n",
      "--> Use / instead of |. \n",
      "I'm trying to discourage using | now (might want to use it for fuzzy logic at some point\n",
      "--> Use / instead of |. \n",
      "I'm trying to discourage using | now (might want to use it for fuzzy logic at some point\n",
      "--> Use / instead of |. \n",
      "I'm trying to discourage using | now (might want to use it for fuzzy logic at some point\n",
      "--> Use / instead of |. \n",
      "I'm trying to discourage using | now (might want to use it for fuzzy logic at some point\n",
      "--> Use / instead of |. \n",
      "I'm trying to discourage using | now (might want to use it for fuzzy logic at some point\n",
      "--> Use / instead of |. \n",
      "I'm trying to discourage using | now (might want to use it for fuzzy logic at some point\n",
      "--> Use / instead of |. \n",
      "I'm trying to discourage using | now (might want to use it for fuzzy logic at some point\n",
      "--> Use / instead of |. \n",
      "I'm trying to discourage using | now (might want to use it for fuzzy logic at some point\n",
      "--> Use / instead of |. \n",
      "I'm trying to discourage using | now (might want to use it for fuzzy logic at some point\n",
      "--> Use / instead of |. \n",
      "I'm trying to discourage using | now (might want to use it for fuzzy logic at some point\n",
      "--> Use / instead of |. \n",
      "I'm trying to discourage using | now (might want to use it for fuzzy logic at some point\n",
      "--> Use / instead of |. \n",
      "I'm trying to discourage using | now (might want to use it for fuzzy logic at some point\n",
      "--> Use / instead of |. \n",
      "I'm trying to discourage using | now (might want to use it for fuzzy logic at some point\n",
      "--> Use / instead of |. \n",
      "I'm trying to discourage using | now (might want to use it for fuzzy logic at some point\n",
      "--> Use / instead of |. \n",
      "I'm trying to discourage using | now (might want to use it for fuzzy logic at some point\n",
      "--> Use / instead of |. \n",
      "I'm trying to discourage using | now (might want to use it for fuzzy logic at some point\n",
      "--> Use / instead of |. \n",
      "I'm trying to discourage using | now (might want to use it for fuzzy logic at some point\n",
      "--> Use / instead of |. \n",
      "I'm trying to discourage using | now (might want to use it for fuzzy logic at some point\n",
      "--> Use / instead of |. \n",
      "I'm trying to discourage using | now (might want to use it for fuzzy logic at some point\n",
      "--> Use / instead of |. \n",
      "I'm trying to discourage using | now (might want to use it for fuzzy logic at some point\n",
      "--> Use / instead of |. \n",
      "I'm trying to discourage using | now (might want to use it for fuzzy logic at some point\n",
      "--> Use / instead of |. \n",
      "I'm trying to discourage using | now (might want to use it for fuzzy logic at some point\n",
      "--> Use / instead of |. \n",
      "I'm trying to discourage using | now (might want to use it for fuzzy logic at some point\n",
      "--> Use / instead of |. \n",
      "I'm trying to discourage using | now (might want to use it for fuzzy logic at some point\n",
      "--> Use / instead of |. \n",
      "I'm trying to discourage using | now (might want to use it for fuzzy logic at some point\n",
      "--> Use / instead of |. \n",
      "I'm trying to discourage using | now (might want to use it for fuzzy logic at some point\n",
      "--> Use / instead of |. \n",
      "I'm trying to discourage using | now (might want to use it for fuzzy logic at some point\n",
      "--> Use / instead of |. \n",
      "I'm trying to discourage using | now (might want to use it for fuzzy logic at some point\n",
      "--> Use / instead of |. \n",
      "I'm trying to discourage using | now (might want to use it for fuzzy logic at some point\n",
      "--> Use / instead of |. \n"
     ]
    }
   ],
   "source": [
    "# make relative risks of all drug combos\n",
    "n_drugs = len(drugs)\n",
    "relrisk = {k: ProbPot(v.tb).relative_risk(k[0],k[1]) for k, v in jprob_pot.iteritems()}"
   ]
  },
  {
   "cell_type": "code",
   "execution_count": 62,
   "metadata": {},
   "outputs": [
    {
     "name": "stdout",
     "output_type": "stream",
     "text": [
      "I'm trying to discourage using | now (might want to use it for fuzzy logic at some point\n",
      "--> Use / instead of |. \n",
      "I'm trying to discourage using | now (might want to use it for fuzzy logic at some point\n",
      "--> Use / instead of |. \n",
      "I'm trying to discourage using | now (might want to use it for fuzzy logic at some point\n",
      "--> Use / instead of |. \n",
      "I'm trying to discourage using | now (might want to use it for fuzzy logic at some point\n",
      "--> Use / instead of |. \n",
      "I'm trying to discourage using | now (might want to use it for fuzzy logic at some point\n",
      "--> Use / instead of |. \n",
      "I'm trying to discourage using | now (might want to use it for fuzzy logic at some point\n",
      "--> Use / instead of |. \n",
      "I'm trying to discourage using | now (might want to use it for fuzzy logic at some point\n",
      "--> Use / instead of |. \n",
      "I'm trying to discourage using | now (might want to use it for fuzzy logic at some point\n",
      "--> Use / instead of |. \n",
      "I'm trying to discourage using | now (might want to use it for fuzzy logic at some point\n",
      "--> Use / instead of |. \n",
      "I'm trying to discourage using | now (might want to use it for fuzzy logic at some point\n",
      "--> Use / instead of |. \n",
      "I'm trying to discourage using | now (might want to use it for fuzzy logic at some point\n",
      "--> Use / instead of |. \n",
      "I'm trying to discourage using | now (might want to use it for fuzzy logic at some point\n",
      "--> Use / instead of |. \n",
      "I'm trying to discourage using | now (might want to use it for fuzzy logic at some point\n",
      "--> Use / instead of |. \n",
      "I'm trying to discourage using | now (might want to use it for fuzzy logic at some point\n",
      "--> Use / instead of |. \n",
      "I'm trying to discourage using | now (might want to use it for fuzzy logic at some point\n",
      "--> Use / instead of |. \n",
      "I'm trying to discourage using | now (might want to use it for fuzzy logic at some point\n",
      "--> Use / instead of |. \n",
      "I'm trying to discourage using | now (might want to use it for fuzzy logic at some point\n",
      "--> Use / instead of |. \n",
      "I'm trying to discourage using | now (might want to use it for fuzzy logic at some point\n",
      "--> Use / instead of |. \n",
      "I'm trying to discourage using | now (might want to use it for fuzzy logic at some point\n",
      "--> Use / instead of |. \n",
      "I'm trying to discourage using | now (might want to use it for fuzzy logic at some point\n",
      "--> Use / instead of |. \n",
      "I'm trying to discourage using | now (might want to use it for fuzzy logic at some point\n",
      "--> Use / instead of |. \n",
      "I'm trying to discourage using | now (might want to use it for fuzzy logic at some point\n",
      "--> Use / instead of |. \n",
      "I'm trying to discourage using | now (might want to use it for fuzzy logic at some point\n",
      "--> Use / instead of |. \n",
      "I'm trying to discourage using | now (might want to use it for fuzzy logic at some point\n",
      "--> Use / instead of |. \n",
      "I'm trying to discourage using | now (might want to use it for fuzzy logic at some point\n",
      "--> Use / instead of |. \n",
      "I'm trying to discourage using | now (might want to use it for fuzzy logic at some point\n",
      "--> Use / instead of |. \n",
      "I'm trying to discourage using | now (might want to use it for fuzzy logic at some point\n",
      "--> Use / instead of |. \n",
      "I'm trying to discourage using | now (might want to use it for fuzzy logic at some point\n",
      "--> Use / instead of |. \n",
      "I'm trying to discourage using | now (might want to use it for fuzzy logic at some point\n",
      "--> Use / instead of |. \n",
      "I'm trying to discourage using | now (might want to use it for fuzzy logic at some point\n",
      "--> Use / instead of |. \n",
      "I'm trying to discourage using | now (might want to use it for fuzzy logic at some point\n",
      "--> Use / instead of |. \n",
      "I'm trying to discourage using | now (might want to use it for fuzzy logic at some point\n",
      "--> Use / instead of |. \n",
      "I'm trying to discourage using | now (might want to use it for fuzzy logic at some point\n",
      "--> Use / instead of |. \n",
      "I'm trying to discourage using | now (might want to use it for fuzzy logic at some point\n",
      "--> Use / instead of |. \n",
      "I'm trying to discourage using | now (might want to use it for fuzzy logic at some point\n",
      "--> Use / instead of |. \n",
      "I'm trying to discourage using | now (might want to use it for fuzzy logic at some point\n",
      "--> Use / instead of |. \n",
      "I'm trying to discourage using | now (might want to use it for fuzzy logic at some point\n",
      "--> Use / instead of |. \n",
      "I'm trying to discourage using | now (might want to use it for fuzzy logic at some point\n",
      "--> Use / instead of |. \n",
      "I'm trying to discourage using | now (might want to use it for fuzzy logic at some point\n",
      "--> Use / instead of |. \n",
      "I'm trying to discourage using | now (might want to use it for fuzzy logic at some point\n",
      "--> Use / instead of |. \n",
      "I'm trying to discourage using | now (might want to use it for fuzzy logic at some point\n",
      "--> Use / instead of |. \n",
      "I'm trying to discourage using | now (might want to use it for fuzzy logic at some point\n",
      "--> Use / instead of |. \n",
      "I'm trying to discourage using | now (might want to use it for fuzzy logic at some point\n",
      "--> Use / instead of |. \n",
      "I'm trying to discourage using | now (might want to use it for fuzzy logic at some point\n",
      "--> Use / instead of |. \n",
      "I'm trying to discourage using | now (might want to use it for fuzzy logic at some point\n",
      "--> Use / instead of |. \n",
      "I'm trying to discourage using | now (might want to use it for fuzzy logic at some point\n",
      "--> Use / instead of |. \n",
      "I'm trying to discourage using | now (might want to use it for fuzzy logic at some point\n",
      "--> Use / instead of |. \n",
      "I'm trying to discourage using | now (might want to use it for fuzzy logic at some point\n",
      "--> Use / instead of |. \n",
      "I'm trying to discourage using | now (might want to use it for fuzzy logic at some point\n",
      "--> Use / instead of |. \n",
      "I'm trying to discourage using | now (might want to use it for fuzzy logic at some point\n",
      "--> Use / instead of |. \n",
      "I'm trying to discourage using | now (might want to use it for fuzzy logic at some point\n",
      "--> Use / instead of |. \n",
      "I'm trying to discourage using | now (might want to use it for fuzzy logic at some point\n",
      "--> Use / instead of |. \n",
      "I'm trying to discourage using | now (might want to use it for fuzzy logic at some point\n",
      "--> Use / instead of |. \n",
      "I'm trying to discourage using | now (might want to use it for fuzzy logic at some point\n",
      "--> Use / instead of |. \n",
      "I'm trying to discourage using | now (might want to use it for fuzzy logic at some point\n",
      "--> Use / instead of |. \n",
      "I'm trying to discourage using | now (might want to use it for fuzzy logic at some point\n",
      "--> Use / instead of |. \n",
      "I'm trying to discourage using | now (might want to use it for fuzzy logic at some point\n",
      "--> Use / instead of |. \n",
      "I'm trying to discourage using | now (might want to use it for fuzzy logic at some point\n",
      "--> Use / instead of |. \n",
      "I'm trying to discourage using | now (might want to use it for fuzzy logic at some point\n",
      "--> Use / instead of |. \n",
      "I'm trying to discourage using | now (might want to use it for fuzzy logic at some point\n",
      "--> Use / instead of |. \n",
      "I'm trying to discourage using | now (might want to use it for fuzzy logic at some point\n",
      "--> Use / instead of |. \n",
      "I'm trying to discourage using | now (might want to use it for fuzzy logic at some point\n",
      "--> Use / instead of |. \n",
      "I'm trying to discourage using | now (might want to use it for fuzzy logic at some point\n",
      "--> Use / instead of |. \n",
      "I'm trying to discourage using | now (might want to use it for fuzzy logic at some point\n",
      "--> Use / instead of |. \n",
      "I'm trying to discourage using | now (might want to use it for fuzzy logic at some point\n",
      "--> Use / instead of |. \n",
      "I'm trying to discourage using | now (might want to use it for fuzzy logic at some point\n",
      "--> Use / instead of |. \n",
      "I'm trying to discourage using | now (might want to use it for fuzzy logic at some point\n",
      "--> Use / instead of |. \n",
      "I'm trying to discourage using | now (might want to use it for fuzzy logic at some point\n",
      "--> Use / instead of |. \n",
      "I'm trying to discourage using | now (might want to use it for fuzzy logic at some point\n",
      "--> Use / instead of |. \n",
      "I'm trying to discourage using | now (might want to use it for fuzzy logic at some point\n",
      "--> Use / instead of |. \n",
      "I'm trying to discourage using | now (might want to use it for fuzzy logic at some point\n",
      "--> Use / instead of |. \n",
      "I'm trying to discourage using | now (might want to use it for fuzzy logic at some point\n",
      "--> Use / instead of |. \n"
     ]
    },
    {
     "name": "stdout",
     "output_type": "stream",
     "text": [
      "I'm trying to discourage using | now (might want to use it for fuzzy logic at some point\n",
      "--> Use / instead of |. \n",
      "I'm trying to discourage using | now (might want to use it for fuzzy logic at some point\n",
      "--> Use / instead of |. \n",
      "I'm trying to discourage using | now (might want to use it for fuzzy logic at some point\n",
      "--> Use / instead of |. \n",
      "I'm trying to discourage using | now (might want to use it for fuzzy logic at some point\n",
      "--> Use / instead of |. \n",
      "I'm trying to discourage using | now (might want to use it for fuzzy logic at some point\n",
      "--> Use / instead of |. \n",
      "I'm trying to discourage using | now (might want to use it for fuzzy logic at some point\n",
      "--> Use / instead of |. \n",
      "I'm trying to discourage using | now (might want to use it for fuzzy logic at some point\n",
      "--> Use / instead of |. \n",
      "I'm trying to discourage using | now (might want to use it for fuzzy logic at some point\n",
      "--> Use / instead of |. \n",
      "I'm trying to discourage using | now (might want to use it for fuzzy logic at some point\n",
      "--> Use / instead of |. \n",
      "I'm trying to discourage using | now (might want to use it for fuzzy logic at some point\n",
      "--> Use / instead of |. \n",
      "I'm trying to discourage using | now (might want to use it for fuzzy logic at some point\n",
      "--> Use / instead of |. \n",
      "I'm trying to discourage using | now (might want to use it for fuzzy logic at some point\n",
      "--> Use / instead of |. \n",
      "I'm trying to discourage using | now (might want to use it for fuzzy logic at some point\n",
      "--> Use / instead of |. \n",
      "I'm trying to discourage using | now (might want to use it for fuzzy logic at some point\n",
      "--> Use / instead of |. \n",
      "I'm trying to discourage using | now (might want to use it for fuzzy logic at some point\n",
      "--> Use / instead of |. \n",
      "I'm trying to discourage using | now (might want to use it for fuzzy logic at some point\n",
      "--> Use / instead of |. \n",
      "I'm trying to discourage using | now (might want to use it for fuzzy logic at some point\n",
      "--> Use / instead of |. \n",
      "I'm trying to discourage using | now (might want to use it for fuzzy logic at some point\n",
      "--> Use / instead of |. \n",
      "I'm trying to discourage using | now (might want to use it for fuzzy logic at some point\n",
      "--> Use / instead of |. \n",
      "I'm trying to discourage using | now (might want to use it for fuzzy logic at some point\n",
      "--> Use / instead of |. \n",
      "I'm trying to discourage using | now (might want to use it for fuzzy logic at some point\n",
      "--> Use / instead of |. \n",
      "I'm trying to discourage using | now (might want to use it for fuzzy logic at some point\n",
      "--> Use / instead of |. \n",
      "I'm trying to discourage using | now (might want to use it for fuzzy logic at some point\n",
      "--> Use / instead of |. \n",
      "I'm trying to discourage using | now (might want to use it for fuzzy logic at some point\n",
      "--> Use / instead of |. \n",
      "I'm trying to discourage using | now (might want to use it for fuzzy logic at some point\n",
      "--> Use / instead of |. \n",
      "I'm trying to discourage using | now (might want to use it for fuzzy logic at some point\n",
      "--> Use / instead of |. \n",
      "I'm trying to discourage using | now (might want to use it for fuzzy logic at some point\n",
      "--> Use / instead of |. \n",
      "I'm trying to discourage using | now (might want to use it for fuzzy logic at some point\n",
      "--> Use / instead of |. \n",
      "I'm trying to discourage using | now (might want to use it for fuzzy logic at some point\n",
      "--> Use / instead of |. \n",
      "I'm trying to discourage using | now (might want to use it for fuzzy logic at some point\n",
      "--> Use / instead of |. \n",
      "I'm trying to discourage using | now (might want to use it for fuzzy logic at some point\n",
      "--> Use / instead of |. \n",
      "I'm trying to discourage using | now (might want to use it for fuzzy logic at some point\n",
      "--> Use / instead of |. \n",
      "I'm trying to discourage using | now (might want to use it for fuzzy logic at some point\n",
      "--> Use / instead of |. \n",
      "I'm trying to discourage using | now (might want to use it for fuzzy logic at some point\n",
      "--> Use / instead of |. \n",
      "I'm trying to discourage using | now (might want to use it for fuzzy logic at some point\n",
      "--> Use / instead of |. \n",
      "I'm trying to discourage using | now (might want to use it for fuzzy logic at some point\n",
      "--> Use / instead of |. \n",
      "I'm trying to discourage using | now (might want to use it for fuzzy logic at some point\n",
      "--> Use / instead of |. \n",
      "I'm trying to discourage using | now (might want to use it for fuzzy logic at some point\n",
      "--> Use / instead of |. \n",
      "I'm trying to discourage using | now (might want to use it for fuzzy logic at some point\n",
      "--> Use / instead of |. \n",
      "I'm trying to discourage using | now (might want to use it for fuzzy logic at some point\n",
      "--> Use / instead of |. \n",
      "I'm trying to discourage using | now (might want to use it for fuzzy logic at some point\n",
      "--> Use / instead of |. \n",
      "I'm trying to discourage using | now (might want to use it for fuzzy logic at some point\n",
      "--> Use / instead of |. \n",
      "I'm trying to discourage using | now (might want to use it for fuzzy logic at some point\n",
      "--> Use / instead of |. \n",
      "I'm trying to discourage using | now (might want to use it for fuzzy logic at some point\n",
      "--> Use / instead of |. \n",
      "I'm trying to discourage using | now (might want to use it for fuzzy logic at some point\n",
      "--> Use / instead of |. \n",
      "I'm trying to discourage using | now (might want to use it for fuzzy logic at some point\n",
      "--> Use / instead of |. \n",
      "I'm trying to discourage using | now (might want to use it for fuzzy logic at some point\n",
      "--> Use / instead of |. \n",
      "I'm trying to discourage using | now (might want to use it for fuzzy logic at some point\n",
      "--> Use / instead of |. \n",
      "I'm trying to discourage using | now (might want to use it for fuzzy logic at some point\n",
      "--> Use / instead of |. \n",
      "I'm trying to discourage using | now (might want to use it for fuzzy logic at some point\n",
      "--> Use / instead of |. \n",
      "I'm trying to discourage using | now (might want to use it for fuzzy logic at some point\n",
      "--> Use / instead of |. \n",
      "I'm trying to discourage using | now (might want to use it for fuzzy logic at some point\n",
      "--> Use / instead of |. \n",
      "I'm trying to discourage using | now (might want to use it for fuzzy logic at some point\n",
      "--> Use / instead of |. \n",
      "I'm trying to discourage using | now (might want to use it for fuzzy logic at some point\n",
      "--> Use / instead of |. \n",
      "I'm trying to discourage using | now (might want to use it for fuzzy logic at some point\n",
      "--> Use / instead of |. \n",
      "I'm trying to discourage using | now (might want to use it for fuzzy logic at some point\n",
      "--> Use / instead of |. \n",
      "I'm trying to discourage using | now (might want to use it for fuzzy logic at some point\n",
      "--> Use / instead of |. \n",
      "I'm trying to discourage using | now (might want to use it for fuzzy logic at some point\n",
      "--> Use / instead of |. \n",
      "I'm trying to discourage using | now (might want to use it for fuzzy logic at some point\n",
      "--> Use / instead of |. \n",
      "I'm trying to discourage using | now (might want to use it for fuzzy logic at some point\n",
      "--> Use / instead of |. \n",
      "I'm trying to discourage using | now (might want to use it for fuzzy logic at some point\n",
      "--> Use / instead of |. \n",
      "I'm trying to discourage using | now (might want to use it for fuzzy logic at some point\n",
      "--> Use / instead of |. \n",
      "I'm trying to discourage using | now (might want to use it for fuzzy logic at some point\n",
      "--> Use / instead of |. \n",
      "I'm trying to discourage using | now (might want to use it for fuzzy logic at some point\n",
      "--> Use / instead of |. \n",
      "I'm trying to discourage using | now (might want to use it for fuzzy logic at some point\n",
      "--> Use / instead of |. \n",
      "I'm trying to discourage using | now (might want to use it for fuzzy logic at some point\n",
      "--> Use / instead of |. \n",
      "I'm trying to discourage using | now (might want to use it for fuzzy logic at some point\n",
      "--> Use / instead of |. \n",
      "I'm trying to discourage using | now (might want to use it for fuzzy logic at some point\n",
      "--> Use / instead of |. \n",
      "I'm trying to discourage using | now (might want to use it for fuzzy logic at some point\n",
      "--> Use / instead of |. \n",
      "I'm trying to discourage using | now (might want to use it for fuzzy logic at some point\n",
      "--> Use / instead of |. \n",
      "I'm trying to discourage using | now (might want to use it for fuzzy logic at some point\n",
      "--> Use / instead of |. \n",
      "I'm trying to discourage using | now (might want to use it for fuzzy logic at some point\n",
      "--> Use / instead of |. \n"
     ]
    },
    {
     "name": "stdout",
     "output_type": "stream",
     "text": [
      "I'm trying to discourage using | now (might want to use it for fuzzy logic at some point\n",
      "--> Use / instead of |. \n",
      "I'm trying to discourage using | now (might want to use it for fuzzy logic at some point\n",
      "--> Use / instead of |. \n",
      "I'm trying to discourage using | now (might want to use it for fuzzy logic at some point\n",
      "--> Use / instead of |. \n",
      "I'm trying to discourage using | now (might want to use it for fuzzy logic at some point\n",
      "--> Use / instead of |. \n",
      "I'm trying to discourage using | now (might want to use it for fuzzy logic at some point\n",
      "--> Use / instead of |. \n",
      "I'm trying to discourage using | now (might want to use it for fuzzy logic at some point\n",
      "--> Use / instead of |. \n",
      "I'm trying to discourage using | now (might want to use it for fuzzy logic at some point\n",
      "--> Use / instead of |. \n",
      "I'm trying to discourage using | now (might want to use it for fuzzy logic at some point\n",
      "--> Use / instead of |. \n",
      "I'm trying to discourage using | now (might want to use it for fuzzy logic at some point\n",
      "--> Use / instead of |. \n",
      "I'm trying to discourage using | now (might want to use it for fuzzy logic at some point\n",
      "--> Use / instead of |. \n",
      "I'm trying to discourage using | now (might want to use it for fuzzy logic at some point\n",
      "--> Use / instead of |. \n",
      "I'm trying to discourage using | now (might want to use it for fuzzy logic at some point\n",
      "--> Use / instead of |. \n",
      "I'm trying to discourage using | now (might want to use it for fuzzy logic at some point\n",
      "--> Use / instead of |. \n",
      "I'm trying to discourage using | now (might want to use it for fuzzy logic at some point\n",
      "--> Use / instead of |. \n",
      "I'm trying to discourage using | now (might want to use it for fuzzy logic at some point\n",
      "--> Use / instead of |. \n",
      "I'm trying to discourage using | now (might want to use it for fuzzy logic at some point\n",
      "--> Use / instead of |. \n",
      "I'm trying to discourage using | now (might want to use it for fuzzy logic at some point\n",
      "--> Use / instead of |. \n",
      "I'm trying to discourage using | now (might want to use it for fuzzy logic at some point\n",
      "--> Use / instead of |. \n",
      "I'm trying to discourage using | now (might want to use it for fuzzy logic at some point\n",
      "--> Use / instead of |. \n",
      "I'm trying to discourage using | now (might want to use it for fuzzy logic at some point\n",
      "--> Use / instead of |. \n",
      "I'm trying to discourage using | now (might want to use it for fuzzy logic at some point\n",
      "--> Use / instead of |. \n",
      "I'm trying to discourage using | now (might want to use it for fuzzy logic at some point\n",
      "--> Use / instead of |. \n",
      "I'm trying to discourage using | now (might want to use it for fuzzy logic at some point\n",
      "--> Use / instead of |. \n",
      "I'm trying to discourage using | now (might want to use it for fuzzy logic at some point\n",
      "--> Use / instead of |. \n",
      "I'm trying to discourage using | now (might want to use it for fuzzy logic at some point\n",
      "--> Use / instead of |. \n",
      "I'm trying to discourage using | now (might want to use it for fuzzy logic at some point\n",
      "--> Use / instead of |. \n",
      "I'm trying to discourage using | now (might want to use it for fuzzy logic at some point\n",
      "--> Use / instead of |. \n",
      "I'm trying to discourage using | now (might want to use it for fuzzy logic at some point\n",
      "--> Use / instead of |. \n",
      "I'm trying to discourage using | now (might want to use it for fuzzy logic at some point\n",
      "--> Use / instead of |. \n",
      "I'm trying to discourage using | now (might want to use it for fuzzy logic at some point\n",
      "--> Use / instead of |. \n",
      "I'm trying to discourage using | now (might want to use it for fuzzy logic at some point\n",
      "--> Use / instead of |. \n",
      "I'm trying to discourage using | now (might want to use it for fuzzy logic at some point\n",
      "--> Use / instead of |. \n",
      "I'm trying to discourage using | now (might want to use it for fuzzy logic at some point\n",
      "--> Use / instead of |. \n",
      "I'm trying to discourage using | now (might want to use it for fuzzy logic at some point\n",
      "--> Use / instead of |. \n",
      "I'm trying to discourage using | now (might want to use it for fuzzy logic at some point\n",
      "--> Use / instead of |. \n",
      "I'm trying to discourage using | now (might want to use it for fuzzy logic at some point\n",
      "--> Use / instead of |. \n"
     ]
    }
   ],
   "source": [
    "n_drugs = len(drugs)\n",
    "relrisk = [{'event': k[0], \n",
    "            'exposure': k[1], \n",
    "            'relative_risk': ProbPot(v.tb).relative_risk(k[0],k[1]).tb.pval[0]} \n",
    "           for k, v in jprob_pot.iteritems()]\n",
    "relrisk = pd.DataFrame(relrisk)\n",
    "relrisk['log_relative_risk'] = log2(relrisk['relative_risk'])\n",
    "relrisk = relrisk[['exposure', 'event', 'relative_risk', 'log_relative_risk']]"
   ]
  },
  {
   "cell_type": "code",
   "execution_count": 68,
   "metadata": {},
   "outputs": [],
   "source": [
    "relrisk.to_excel('/D/Dropbox/Docs/Clients/Sociology/stats_tables/drug_relative_risks.xlsx', 'relative_risk', index=False)"
   ]
  },
  {
   "cell_type": "code",
   "execution_count": 67,
   "metadata": {},
   "outputs": [],
   "source": [
    "relrisk['log_relative_risk'] = log2(relrisk['relative_risk'])"
   ]
  },
  {
   "cell_type": "code",
   "execution_count": 64,
   "metadata": {},
   "outputs": [
    {
     "data": {
      "text/plain": [
       "90"
      ]
     },
     "execution_count": 64,
     "metadata": {},
     "output_type": "execute_result"
    }
   ],
   "source": [
    "len(relrisk)"
   ]
  },
  {
   "cell_type": "code",
   "execution_count": null,
   "metadata": {},
   "outputs": [],
   "source": []
  }
 ],
 "metadata": {
  "anaconda-cloud": {},
  "kernelspec": {
   "display_name": "Python [default]",
   "language": "python",
   "name": "python2"
  },
  "language_info": {
   "codemirror_mode": {
    "name": "ipython",
    "version": 2
   },
   "file_extension": ".py",
   "mimetype": "text/x-python",
   "name": "python",
   "nbconvert_exporter": "python",
   "pygments_lexer": "ipython2",
   "version": "2.7.10"
  },
  "latex_envs": {
   "bibliofile": "biblio.bib",
   "cite_by": "apalike",
   "current_citInitial": 1,
   "eqLabelWithNumbers": true,
   "eqNumInitial": 0
  },
  "toc": {
   "colors": {
    "hover_highlight": "#DAA520",
    "running_highlight": "#FF0000",
    "selected_highlight": "#FFD700"
   },
   "moveMenuLeft": true,
   "nav_menu": {
    "height": "174px",
    "width": "252px"
   },
   "navigate_menu": true,
   "number_sections": true,
   "sideBar": true,
   "threshold": 4,
   "toc_cell": false,
   "toc_section_display": "block",
   "toc_window_display": false
  }
 },
 "nbformat": 4,
 "nbformat_minor": 1
}
